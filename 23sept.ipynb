{
 "cells": [
  {
   "cell_type": "markdown",
   "id": "9249f721-aade-4e27-bd22-482c8ddd7554",
   "metadata": {},
   "source": [
    "DICTIONARY"
   ]
  },
  {
   "cell_type": "markdown",
   "id": "3676c334-6b83-4d24-9665-083a9494c95d",
   "metadata": {},
   "source": [
    "mapping data type\n",
    "key is always unique\n",
    "key can contain immutable data type like string ,int,float,bool,tuple\n",
    "dict are mutable (can be changed after)"
   ]
  },
  {
   "cell_type": "markdown",
   "id": "5eede6f6-536b-4462-8fa5-fbf5166d6483",
   "metadata": {},
   "source": [
    "9,-1,6.4,8.9,8+9j\n"
   ]
  },
  {
   "cell_type": "code",
   "execution_count": 11,
   "id": "e4fad331-3b47-4265-bd38-da3de7965ef3",
   "metadata": {},
   "outputs": [
    {
     "data": {
      "text/plain": [
       "{'name': 'nikita', 'job': 'student', 2: 'niki'}"
      ]
     },
     "execution_count": 11,
     "metadata": {},
     "output_type": "execute_result"
    }
   ],
   "source": [
    "my_dict={'name':'nikita','job':'student',2:'niki'}\n",
    "#key:value\n",
    "my_dict"
   ]
  },
  {
   "cell_type": "code",
   "execution_count": 10,
   "id": "08ae98df-7685-40a6-b45e-d21ff17f7a3a",
   "metadata": {},
   "outputs": [
    {
     "data": {
      "text/plain": [
       "{True: 'yes', False: 'no'}"
      ]
     },
     "execution_count": 10,
     "metadata": {},
     "output_type": "execute_result"
    }
   ],
   "source": [
    "dictionary= {True:'yes',False:'no'}\n",
    "dictionary"
   ]
  },
  {
   "cell_type": "code",
   "execution_count": 13,
   "id": "01f9165e-9a87-4cfe-961f-ac558ab5e08e",
   "metadata": {},
   "outputs": [
    {
     "data": {
      "text/plain": [
       "{'(name,class)': '(niki,12)'}"
      ]
     },
     "execution_count": 13,
     "metadata": {},
     "output_type": "execute_result"
    }
   ],
   "source": [
    "a = {'(name,class)':'(niki,12)'}\n",
    "a"
   ]
  },
  {
   "cell_type": "code",
   "execution_count": 15,
   "id": "de8bedef-df4a-47f7-87cc-cad20494c88c",
   "metadata": {},
   "outputs": [
    {
     "data": {
      "text/plain": [
       "dict_keys(['(name,class)'])"
      ]
     },
     "execution_count": 15,
     "metadata": {},
     "output_type": "execute_result"
    }
   ],
   "source": [
    "#built in methods\n",
    "a.keys()"
   ]
  },
  {
   "cell_type": "code",
   "execution_count": 17,
   "id": "1217cf51-310f-42b5-b27b-f3866e5fc61f",
   "metadata": {},
   "outputs": [
    {
     "data": {
      "text/plain": [
       "dict_values(['(niki,12)'])"
      ]
     },
     "execution_count": 17,
     "metadata": {},
     "output_type": "execute_result"
    }
   ],
   "source": [
    "a.values()"
   ]
  },
  {
   "cell_type": "code",
   "execution_count": 19,
   "id": "e91a8211-6aa9-4d81-b244-7533c2e5d99b",
   "metadata": {},
   "outputs": [
    {
     "data": {
      "text/plain": [
       "dict_items([('(name,class)', '(niki,12)')])"
      ]
     },
     "execution_count": 19,
     "metadata": {},
     "output_type": "execute_result"
    }
   ],
   "source": [
    "a.items()"
   ]
  },
  {
   "cell_type": "code",
   "execution_count": 22,
   "id": "952f4b58-a698-44e9-a271-5a703cee37aa",
   "metadata": {},
   "outputs": [
    {
     "data": {
      "text/plain": [
       "'nikita'"
      ]
     },
     "execution_count": 22,
     "metadata": {},
     "output_type": "execute_result"
    }
   ],
   "source": [
    "my_dict['name']"
   ]
  },
  {
   "cell_type": "code",
   "execution_count": 24,
   "id": "cf41a1e7-25b3-45cb-87e7-eec63477d81c",
   "metadata": {},
   "outputs": [
    {
     "data": {
      "text/plain": [
       "'nikita'"
      ]
     },
     "execution_count": 24,
     "metadata": {},
     "output_type": "execute_result"
    }
   ],
   "source": [
    "my_dict.get('name')"
   ]
  },
  {
   "cell_type": "code",
   "execution_count": 30,
   "id": "0e84deb8-42ea-4855-985d-284d26449bc8",
   "metadata": {},
   "outputs": [
    {
     "ename": "KeyError",
     "evalue": "'age'",
     "output_type": "error",
     "traceback": [
      "\u001b[1;31m---------------------------------------------------------------------------\u001b[0m",
      "\u001b[1;31mKeyError\u001b[0m                                  Traceback (most recent call last)",
      "Cell \u001b[1;32mIn[30], line 2\u001b[0m\n\u001b[0;32m      1\u001b[0m \u001b[38;5;66;03m#acessing values through keys\u001b[39;00m\n\u001b[1;32m----> 2\u001b[0m \u001b[43mmy_dict\u001b[49m\u001b[43m[\u001b[49m\u001b[38;5;124;43m'\u001b[39;49m\u001b[38;5;124;43mage\u001b[39;49m\u001b[38;5;124;43m'\u001b[39;49m\u001b[43m]\u001b[49m\n",
      "\u001b[1;31mKeyError\u001b[0m: 'age'"
     ]
    }
   ],
   "source": [
    "#acessing values through keys\n",
    "my_dict['age']"
   ]
  },
  {
   "cell_type": "code",
   "execution_count": 31,
   "id": "4eee2cd1-7864-457d-9c64-404129cbace0",
   "metadata": {},
   "outputs": [],
   "source": [
    "my_dict.get('age')"
   ]
  },
  {
   "cell_type": "code",
   "execution_count": 35,
   "id": "08f45883-2d79-4336-bab7-27b9199dbe78",
   "metadata": {},
   "outputs": [
    {
     "data": {
      "text/plain": [
       "'mahak'"
      ]
     },
     "execution_count": 35,
     "metadata": {},
     "output_type": "execute_result"
    }
   ],
   "source": [
    "#modifying vlaues \n",
    "my_dict['name']='mahak'\n",
    "my_dict['name']"
   ]
  },
  {
   "cell_type": "code",
   "execution_count": 45,
   "id": "70e23a2a-c257-41bd-90aa-60e97ea423f8",
   "metadata": {},
   "outputs": [
    {
     "data": {
      "text/plain": [
       "{'job': 'student', 2: 'niki', 'location': 'bhilwara'}"
      ]
     },
     "execution_count": 45,
     "metadata": {},
     "output_type": "execute_result"
    }
   ],
   "source": [
    "#adding values\n",
    "my_dict['location']='bhilwara'\n",
    "my_dict"
   ]
  },
  {
   "cell_type": "code",
   "execution_count": 49,
   "id": "9473d465-6460-48ec-87d7-ef14b173f81c",
   "metadata": {},
   "outputs": [
    {
     "data": {
      "text/plain": [
       "{2: 'niki', 'location': 'bhilwara'}"
      ]
     },
     "execution_count": 49,
     "metadata": {},
     "output_type": "execute_result"
    }
   ],
   "source": [
    "#delete dictionary\n",
    "del my_dict['job']\n",
    "my_dict"
   ]
  },
  {
   "cell_type": "code",
   "execution_count": 55,
   "id": "833231e7-afd8-405d-a04e-56c8dbca58f5",
   "metadata": {},
   "outputs": [
    {
     "data": {
      "text/plain": [
       "'bhilwara'"
      ]
     },
     "execution_count": 55,
     "metadata": {},
     "output_type": "execute_result"
    }
   ],
   "source": [
    "my_dict.pop('location')"
   ]
  },
  {
   "cell_type": "code",
   "execution_count": 57,
   "id": "81604b1b-9da5-400b-bd67-c555fc29b0e5",
   "metadata": {},
   "outputs": [
    {
     "data": {
      "text/plain": [
       "{}"
      ]
     },
     "execution_count": 57,
     "metadata": {},
     "output_type": "execute_result"
    }
   ],
   "source": [
    "my_dict"
   ]
  },
  {
   "cell_type": "code",
   "execution_count": 59,
   "id": "d8795206-e93e-44e3-b049-ac3e924cc68d",
   "metadata": {},
   "outputs": [
    {
     "data": {
      "text/plain": [
       "{'name': 'niki',\n",
       " 'class': 'final year',\n",
       " True: 'winner',\n",
       " False: 'no',\n",
       " 4.5: 'weight'}"
      ]
     },
     "execution_count": 59,
     "metadata": {},
     "output_type": "execute_result"
    }
   ],
   "source": [
    "dict = {'name':'niki','class':'final year',True:'positive',False:'no',4.5:'weight',1:'winner'}\n",
    "dict\n"
   ]
  },
  {
   "cell_type": "code",
   "execution_count": 61,
   "id": "d34f2e91-0aed-4ae7-8a84-8781c1c3ad19",
   "metadata": {},
   "outputs": [
    {
     "data": {
      "text/plain": [
       "dict_keys(['name', 'class', True, False, 4.5])"
      ]
     },
     "execution_count": 61,
     "metadata": {},
     "output_type": "execute_result"
    }
   ],
   "source": [
    "dict.keys()"
   ]
  },
  {
   "cell_type": "code",
   "execution_count": 63,
   "id": "3560deea-2a6f-4009-9260-582db04158f7",
   "metadata": {},
   "outputs": [
    {
     "data": {
      "text/plain": [
       "dict_values(['niki', 'final year', 'winner', 'no', 'weight'])"
      ]
     },
     "execution_count": 63,
     "metadata": {},
     "output_type": "execute_result"
    }
   ],
   "source": [
    "dict.values()"
   ]
  },
  {
   "cell_type": "code",
   "execution_count": 66,
   "id": "0854fdaa-cca1-472a-9b38-29058453051c",
   "metadata": {},
   "outputs": [
    {
     "data": {
      "text/plain": [
       "dict_items([('name', 'niki'), ('class', 'final year'), (True, 'winner'), (False, 'no'), (4.5, 'weight')])"
      ]
     },
     "execution_count": 66,
     "metadata": {},
     "output_type": "execute_result"
    }
   ],
   "source": [
    "dict.items()"
   ]
  },
  {
   "cell_type": "code",
   "execution_count": 68,
   "id": "b012983b-8194-4472-9bc4-4c3e3301ea2d",
   "metadata": {},
   "outputs": [
    {
     "data": {
      "text/plain": [
       "'weight'"
      ]
     },
     "execution_count": 68,
     "metadata": {},
     "output_type": "execute_result"
    }
   ],
   "source": [
    "#acces value\n",
    "dict.get(4.5)\n"
   ]
  },
  {
   "cell_type": "code",
   "execution_count": 71,
   "id": "e55b4a7a-cc86-4fce-af21-fabf63e7604f",
   "metadata": {},
   "outputs": [
    {
     "data": {
      "text/plain": [
       "{'name': 'niki',\n",
       " 'class': 'final year',\n",
       " True: 'yes',\n",
       " False: 'no',\n",
       " 4.5: 'weight'}"
      ]
     },
     "execution_count": 71,
     "metadata": {},
     "output_type": "execute_result"
    }
   ],
   "source": [
    "#modifying values\n",
    "dict[True]='yes'\n",
    "dict"
   ]
  },
  {
   "cell_type": "code",
   "execution_count": 73,
   "id": "712a0800-b640-4fe5-a457-c2d32f2d3c06",
   "metadata": {},
   "outputs": [
    {
     "data": {
      "text/plain": [
       "{'name': 'niki',\n",
       " 'class': 'final year',\n",
       " True: '+value',\n",
       " False: 'no',\n",
       " 4.5: 'weight'}"
      ]
     },
     "execution_count": 73,
     "metadata": {},
     "output_type": "execute_result"
    }
   ],
   "source": [
    "#adding values\n",
    "dict[1]='+value'\n",
    "dict"
   ]
  },
  {
   "cell_type": "code",
   "execution_count": 75,
   "id": "9ad2ad80-ff4a-4a70-8593-ed621b4f9dbd",
   "metadata": {},
   "outputs": [
    {
     "ename": "KeyError",
     "evalue": "4.5",
     "output_type": "error",
     "traceback": [
      "\u001b[1;31m---------------------------------------------------------------------------\u001b[0m",
      "\u001b[1;31mKeyError\u001b[0m                                  Traceback (most recent call last)",
      "Cell \u001b[1;32mIn[75], line 1\u001b[0m\n\u001b[1;32m----> 1\u001b[0m \u001b[38;5;28;01mdel\u001b[39;00m \u001b[38;5;28;43mdict\u001b[39;49m\u001b[43m[\u001b[49m\u001b[38;5;241;43m4.5\u001b[39;49m\u001b[43m]\u001b[49m\n",
      "\u001b[1;31mKeyError\u001b[0m: 4.5"
     ]
    }
   ],
   "source": [
    "del dict[4.5]"
   ]
  },
  {
   "cell_type": "code",
   "execution_count": 76,
   "id": "ffb4ae6f-2948-4f9f-a1c6-072554df0744",
   "metadata": {},
   "outputs": [
    {
     "data": {
      "text/plain": [
       "'no'"
      ]
     },
     "execution_count": 76,
     "metadata": {},
     "output_type": "execute_result"
    }
   ],
   "source": [
    "dict.pop(False) "
   ]
  }
 ],
 "metadata": {
  "kernelspec": {
   "display_name": "Python 3 (ipykernel)",
   "language": "python",
   "name": "python3"
  },
  "language_info": {
   "codemirror_mode": {
    "name": "ipython",
    "version": 3
   },
   "file_extension": ".py",
   "mimetype": "text/x-python",
   "name": "python",
   "nbconvert_exporter": "python",
   "pygments_lexer": "ipython3",
   "version": "3.12.4"
  }
 },
 "nbformat": 4,
 "nbformat_minor": 5
}
