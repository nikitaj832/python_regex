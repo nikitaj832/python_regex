{
 "cells": [
  {
   "cell_type": "code",
   "execution_count": 2,
   "id": "301ee211-68ce-4394-a4c7-d09363afb77a",
   "metadata": {},
   "outputs": [
    {
     "name": "stdout",
     "output_type": "stream",
     "text": [
      "False\n"
     ]
    }
   ],
   "source": [
    "#logical operator\n",
    "#and or not\n",
    "\n",
    "a=True\n",
    "b=False\n",
    "result = a and b\n",
    "print(result)\n",
    "\n"
   ]
  },
  {
   "cell_type": "code",
   "execution_count": 4,
   "id": "bfd34f8b-86c5-4bc9-bba9-9c0da205168d",
   "metadata": {},
   "outputs": [
    {
     "name": "stdout",
     "output_type": "stream",
     "text": [
      "True\n"
     ]
    }
   ],
   "source": [
    "result2= a or b\n",
    "print(result2)"
   ]
  },
  {
   "cell_type": "code",
   "execution_count": 3,
   "id": "385b6ffb-a3df-4613-b3f4-32a97be7d05d",
   "metadata": {},
   "outputs": [
    {
     "name": "stdout",
     "output_type": "stream",
     "text": [
      "False\n"
     ]
    }
   ],
   "source": [
    "a=True\n",
    "result3 = not a\n",
    "print(result3)\n"
   ]
  },
  {
   "cell_type": "code",
   "execution_count": 5,
   "id": "198fdb96-557f-46d5-a5b5-1c18a1373592",
   "metadata": {},
   "outputs": [
    {
     "name": "stdout",
     "output_type": "stream",
     "text": [
      "True\n"
     ]
    }
   ],
   "source": [
    "x=20\n",
    "y=30\n",
    "z=10\n",
    "cond = x<y and z<y\n",
    "print(cond)"
   ]
  },
  {
   "cell_type": "code",
   "execution_count": 8,
   "id": "97eb1c6f-76f5-490f-adfc-6638caaee64d",
   "metadata": {},
   "outputs": [
    {
     "name": "stdout",
     "output_type": "stream",
     "text": [
      "False\n"
     ]
    }
   ],
   "source": [
    "cond1 = x<y and y<x\n",
    "print(cond1)"
   ]
  },
  {
   "cell_type": "code",
   "execution_count": 11,
   "id": "eb9b3e74-b4ab-4bdc-a350-892989b00821",
   "metadata": {},
   "outputs": [
    {
     "name": "stdout",
     "output_type": "stream",
     "text": [
      "True\n"
     ]
    }
   ],
   "source": [
    "cond2=x<y or y<x\n",
    "print(cond2)"
   ]
  },
  {
   "cell_type": "code",
   "execution_count": 13,
   "id": "dd403c18-7954-4314-bf52-52755efe01c0",
   "metadata": {},
   "outputs": [
    {
     "name": "stdout",
     "output_type": "stream",
     "text": [
      "True\n"
     ]
    }
   ],
   "source": [
    "cond3=not (x==y)\n",
    "print(cond3)"
   ]
  },
  {
   "cell_type": "code",
   "execution_count": 21,
   "id": "ceb6f69f-a700-4bb6-b018-c9c4bb4bfe33",
   "metadata": {},
   "outputs": [
    {
     "name": "stdout",
     "output_type": "stream",
     "text": [
      "True\n",
      "True\n"
     ]
    }
   ],
   "source": [
    "#identity operator\n",
    "\n",
    "x=20\n",
    "y=20\n",
    "print(x==y)\n",
    "print(x is y)"
   ]
  },
  {
   "cell_type": "code",
   "execution_count": 27,
   "id": "aa390265-91ac-4ec3-b242-ed9bb188453a",
   "metadata": {},
   "outputs": [
    {
     "name": "stdout",
     "output_type": "stream",
     "text": [
      "True\n",
      "False\n"
     ]
    }
   ],
   "source": [
    "a = [1,3,2]\n",
    "b= [1,3,2]\n",
    "print(a==b)\n",
    "print(a is b)    #location"
   ]
  },
  {
   "cell_type": "code",
   "execution_count": 29,
   "id": "059315b1-33b7-4cc9-91c1-d8c177feb6b1",
   "metadata": {},
   "outputs": [
    {
     "name": "stdout",
     "output_type": "stream",
     "text": [
      "1862857995520\n"
     ]
    }
   ],
   "source": [
    "print(id(a))"
   ]
  },
  {
   "cell_type": "code",
   "execution_count": 31,
   "id": "12f73f94-43bf-4866-b77b-9640672a7028",
   "metadata": {},
   "outputs": [
    {
     "name": "stdout",
     "output_type": "stream",
     "text": [
      "1862858085248\n"
     ]
    }
   ],
   "source": [
    "print(id(b))"
   ]
  },
  {
   "cell_type": "code",
   "execution_count": 33,
   "id": "f7a2ba8a-e674-43b2-92e9-43b3eb50db28",
   "metadata": {},
   "outputs": [
    {
     "name": "stdout",
     "output_type": "stream",
     "text": [
      "True\n",
      "1862858015744\n"
     ]
    }
   ],
   "source": [
    "c=[3,4,5]\n",
    "d=c\n",
    "print(c is d)\n",
    "print(id(c))"
   ]
  },
  {
   "cell_type": "code",
   "execution_count": 36,
   "id": "57f8ae3c-7643-4fef-8cca-c117afa22675",
   "metadata": {},
   "outputs": [
    {
     "name": "stdout",
     "output_type": "stream",
     "text": [
      "True\n"
     ]
    }
   ],
   "source": [
    "# membership operator\n",
    "#in    not in   \n",
    "\n",
    "\n",
    "li = [1,2,3,4]\n",
    "print(3 in li)"
   ]
  },
  {
   "cell_type": "code",
   "execution_count": 47,
   "id": "b4e6107a-0e54-451c-9a05-983b6a1db38c",
   "metadata": {},
   "outputs": [
    {
     "name": "stdout",
     "output_type": "stream",
     "text": [
      "True\n"
     ]
    }
   ],
   "source": [
    "str1 = 'Delhi'\n",
    "print('i' in str1)"
   ]
  },
  {
   "cell_type": "code",
   "execution_count": 51,
   "id": "79666e24-5eb5-43e7-a530-ef7d4ac763c2",
   "metadata": {},
   "outputs": [
    {
     "name": "stdout",
     "output_type": "stream",
     "text": [
      "False\n"
     ]
    }
   ],
   "source": [
    "print(3 not in li)"
   ]
  },
  {
   "cell_type": "code",
   "execution_count": 55,
   "id": "a09de1b9-b11c-48dc-903b-610415a5e722",
   "metadata": {},
   "outputs": [
    {
     "name": "stdout",
     "output_type": "stream",
     "text": [
      "True\n"
     ]
    }
   ],
   "source": [
    "print('s' not in str1) "
   ]
  },
  {
   "cell_type": "code",
   "execution_count": null,
   "id": "22858f76-36fe-4918-8342-d13bde392d1e",
   "metadata": {},
   "outputs": [],
   "source": [
    "print('I' in s"
   ]
  }
 ],
 "metadata": {
  "kernelspec": {
   "display_name": "Python 3 (ipykernel)",
   "language": "python",
   "name": "python3"
  },
  "language_info": {
   "codemirror_mode": {
    "name": "ipython",
    "version": 3
   },
   "file_extension": ".py",
   "mimetype": "text/x-python",
   "name": "python",
   "nbconvert_exporter": "python",
   "pygments_lexer": "ipython3",
   "version": "3.12.4"
  }
 },
 "nbformat": 4,
 "nbformat_minor": 5
}
