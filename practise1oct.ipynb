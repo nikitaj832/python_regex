{
 "cells": [
  {
   "cell_type": "code",
   "execution_count": 6,
   "id": "2ac26c44-2af8-44aa-ac0f-adfb33d9799b",
   "metadata": {},
   "outputs": [
    {
     "data": {
      "text/plain": [
       "{1, 2, 4, 5}"
      ]
     },
     "execution_count": 6,
     "metadata": {},
     "output_type": "execute_result"
    }
   ],
   "source": [
    "#symmmetric difference\n",
    "set1 ={1,2,3}\n",
    "set2={3,4,5}\n",
    "sym = (set1-set2) | (set2-set1)\n",
    "sym"
   ]
  },
  {
   "cell_type": "code",
   "execution_count": 10,
   "id": "963df9a9-d528-4c07-ad6e-6ee4c27148e6",
   "metadata": {},
   "outputs": [
    {
     "data": {
      "text/plain": [
       "False"
      ]
     },
     "execution_count": 10,
     "metadata": {},
     "output_type": "execute_result"
    }
   ],
   "source": [
    "#subset\n",
    "set1 ={1,2,3}\n",
    "set2={3,4,5}\n",
    "subset = set1.issubset(set2)\n",
    "subset"
   ]
  },
  {
   "cell_type": "code",
   "execution_count": 14,
   "id": "42934763-2da6-4b95-9494-38f434313058",
   "metadata": {},
   "outputs": [
    {
     "name": "stdout",
     "output_type": "stream",
     "text": [
      "{1, 2}\n"
     ]
    }
   ],
   "source": [
    "#remoove element from a\n",
    "set1 ={1,2,3}\n",
    "set2={3,4,5}\n",
    "for i in set2:\n",
    "    set1.discard(i)\n",
    "print(set1)\n"
   ]
  },
  {
   "cell_type": "code",
   "execution_count": 16,
   "id": "41a3624a-910f-4e55-897b-681b392c9eb0",
   "metadata": {},
   "outputs": [
    {
     "data": {
      "text/plain": [
       "{1, 2, 3, 4, 5}"
      ]
     },
     "execution_count": 16,
     "metadata": {},
     "output_type": "execute_result"
    }
   ],
   "source": [
    "#union\n",
    "set1 ={1,2,3}\n",
    "set2={3,4,5}\n",
    "set1 | set2"
   ]
  },
  {
   "cell_type": "code",
   "execution_count": 21,
   "id": "0d2305c6-f175-417c-9c18-c317ff166633",
   "metadata": {},
   "outputs": [
    {
     "name": "stdout",
     "output_type": "stream",
     "text": [
      "{1, 2, 3, 4}\n"
     ]
    }
   ],
   "source": [
    "sets = [{1,2},{2,3},{3,4}]\n",
    "result = set()\n",
    "for i in sets:\n",
    "    result |= i\n",
    "print(result)"
   ]
  },
  {
   "cell_type": "code",
   "execution_count": 34,
   "id": "90fb266e-a9d7-4abb-8d5d-6c8bdd07a899",
   "metadata": {},
   "outputs": [
    {
     "name": "stdout",
     "output_type": "stream",
     "text": [
      "{1, 3, 4, 5}\n"
     ]
    }
   ],
   "source": [
    "set1 = {1,2,3,4,5}\n",
    "set2={1,4,3,5,6}\n",
    "element=set()\n",
    "for i in set1:\n",
    "    if i in set2:\n",
    "        element.add(i)\n",
    "print(element)\n",
    "        "
   ]
  },
  {
   "cell_type": "code",
   "execution_count": 38,
   "id": "de2f9181-9792-4e24-b790-650bbf04d151",
   "metadata": {},
   "outputs": [
    {
     "name": "stdout",
     "output_type": "stream",
     "text": [
      "{'a': 8, 'b': 2, 'c': 3}\n"
     ]
    }
   ],
   "source": [
    "#merge tw dicct by ading values keys\n",
    "dict1 ={'a':1,'b':2}\n",
    "dict2 = {'a':7,'c':3}\n",
    "merged = dict1.copy()\n",
    "for key in dict2:\n",
    "    if key in merged:\n",
    "        merged[key]+=dict2[key]\n",
    "    else:\n",
    "        merged[key]=dict2[key]\n",
    "print(merged)"
   ]
  },
  {
   "cell_type": "code",
   "execution_count": 46,
   "id": "6ac5a9a0-430d-4140-8174-10c6de1d1ba8",
   "metadata": {},
   "outputs": [
    {
     "name": "stdout",
     "output_type": "stream",
     "text": [
      "mahak\n"
     ]
    }
   ],
   "source": [
    "#student with highest score\n",
    "score = {'nikita':50,'mahak':60,'pooja':40}\n",
    "highest =max(score,key = score.get)\n",
    "print(highest)"
   ]
  },
  {
   "cell_type": "code",
   "execution_count": 48,
   "id": "c40a8fcc-c492-4182-97b9-3c5369741823",
   "metadata": {},
   "outputs": [
    {
     "name": "stdout",
     "output_type": "stream",
     "text": [
      "{'apple': 2, 'banana': 1, 'cherry': 1}\n"
     ]
    }
   ],
   "source": [
    "#list based on freq\n",
    "list1 =['apple','apple','banana','cherry']\n",
    "freq={}\n",
    "for i in list1:\n",
    "    if i in freq:\n",
    "        freq[i]+=1\n",
    "    else:\n",
    "        freq[i]=1\n",
    "print(freq)"
   ]
  },
  {
   "cell_type": "code",
   "execution_count": 76,
   "id": "2952188b-5002-4636-900b-6907e8b809ae",
   "metadata": {},
   "outputs": [
    {
     "name": "stdout",
     "output_type": "stream",
     "text": [
      "apple 30\n",
      "mango 3.0\n"
     ]
    }
   ],
   "source": [
    "# 9. Remove Items Priced Above a Given Value\n",
    "a= {'apple':30,'banana':40,'mango':3.0}\n",
    "max_price = 30\n",
    "for item ,price in a.items():\n",
    "    if price<=max_price:\n",
    "        print(item,price)\n",
    " "
   ]
  },
  {
   "cell_type": "code",
   "execution_count": 89,
   "id": "55c23a24-865a-4c0b-a125-c79c4d664dfc",
   "metadata": {},
   "outputs": [
    {
     "name": "stdout",
     "output_type": "stream",
     "text": [
      "{1: 'a', 2: 'b', 3: 'b'}\n"
     ]
    }
   ],
   "source": [
    "## 10. Invert a Dictionary\n",
    "dict1= {'a':1,'b':[2,3]}\n",
    "invert = {}\n",
    "for key,value in dict1.items():\n",
    "    if isinstance(value,list):\n",
    "        for item in value:\n",
    "            invert[item]=key\n",
    "    else:\n",
    "        invert[value]=key\n",
    "print(invert)"
   ]
  },
  {
   "cell_type": "code",
   "execution_count": 91,
   "id": "e03e7e10-2c79-4014-9d18-878cdb3f72fa",
   "metadata": {},
   "outputs": [
    {
     "name": "stdout",
     "output_type": "stream",
     "text": [
      "5\n",
      "10\n",
      "15\n",
      "20\n",
      "25\n",
      "30\n",
      "35\n",
      "40\n",
      "45\n",
      "50\n"
     ]
    }
   ],
   "source": [
    "#11. Print the First n Multiples of a Given Number\n",
    "n=5\n",
    "for i in range(1,11):\n",
    "    print(i*n)\n",
    "    "
   ]
  },
  {
   "cell_type": "code",
   "execution_count": 95,
   "id": "7da3d3b6-01e8-4216-b553-5b35e43f63cc",
   "metadata": {},
   "outputs": [
    {
     "name": "stdout",
     "output_type": "stream",
     "text": [
      "15\n",
      "30\n",
      "45\n",
      "60\n",
      "75\n",
      "90\n"
     ]
    }
   ],
   "source": [
    "## 12. Numbers Between 1 and 100 Divisible by Both 3 and 5\n",
    "for i in range(1,101):\n",
    "    if i%3==0 and i%5==0:\n",
    "        print(i)"
   ]
  },
  {
   "cell_type": "code",
   "execution_count": 99,
   "id": "ec644bb0-4671-45c6-86e3-8f3811ec5fba",
   "metadata": {},
   "outputs": [
    {
     "name": "stdout",
     "output_type": "stream",
     "text": [
      "3\n"
     ]
    }
   ],
   "source": [
    "# 13. Count Vowels in a Given String\n",
    "string ='nikita'\n",
    "count = 0\n",
    "vowels = 'aeiouAEIOU'\n",
    "for char in string:\n",
    "    if char in vowels:\n",
    "        count += 1\n",
    "print(count)"
   ]
  },
  {
   "cell_type": "code",
   "execution_count": 103,
   "id": "1a8bc253-4624-40d4-829a-d7c67a5add95",
   "metadata": {},
   "outputs": [
    {
     "name": "stdout",
     "output_type": "stream",
     "text": [
      "57\n"
     ]
    }
   ],
   "source": [
    "# 14. Find the Largest Number in a List\n",
    "num = [1,2,3,2,57,8]\n",
    "largest = num[0]\n",
    "for n in num:\n",
    "    if n>largest:\n",
    "        largest=n\n",
    "print(largest)\n",
    "    "
   ]
  },
  {
   "cell_type": "code",
   "execution_count": 111,
   "id": "ea470aa0-5c1f-42dd-8967-6bbaa8871c39",
   "metadata": {},
   "outputs": [
    {
     "name": "stdout",
     "output_type": "stream",
     "text": [
      "armstrong\n"
     ]
    }
   ],
   "source": [
    "# 15. Check if a Number is an Armstrong Number\n",
    "n=153\n",
    "sum=0\n",
    "temp = n\n",
    "while n>0:\n",
    "    rem=n%10\n",
    "    sum=sum+rem*rem*rem\n",
    "    n=n//10\n",
    "if sum==temp:\n",
    "    print('armstrong')\n",
    "else:\n",
    "    print('not')"
   ]
  },
  {
   "cell_type": "code",
   "execution_count": 115,
   "id": "e7b49768-758d-45fc-a232-ed76a624eedb",
   "metadata": {},
   "outputs": [
    {
     "name": "stdout",
     "output_type": "stream",
     "text": [
      "1 2 3 4 5 6 7 8 9 10 2 4 6 8 10 12 14 16 18 20 3 6 9 12 15 18 21 24 27 30 4 8 12 16 20 24 28 32 36 40 5 10 15 20 25 30 35 40 45 50 6 12 18 24 30 36 42 48 54 60 7 14 21 28 35 42 49 56 63 70 8 16 24 32 40 48 56 64 72 80 9 18 27 36 45 54 63 72 81 90 10 20 30 40 50 60 70 80 90 100 "
     ]
    }
   ],
   "source": [
    "# 16. Generate a Multiplication Table\n",
    "for i in range(1,11):\n",
    "    for j in range(1,11):\n",
    "        print(i*j,end = ' ')\n"
   ]
  },
  {
   "cell_type": "code",
   "execution_count": null,
   "id": "97a90657-bf48-44a0-a90e-3d9542618932",
   "metadata": {},
   "outputs": [],
   "source": []
  }
 ],
 "metadata": {
  "kernelspec": {
   "display_name": "Python 3 (ipykernel)",
   "language": "python",
   "name": "python3"
  },
  "language_info": {
   "codemirror_mode": {
    "name": "ipython",
    "version": 3
   },
   "file_extension": ".py",
   "mimetype": "text/x-python",
   "name": "python",
   "nbconvert_exporter": "python",
   "pygments_lexer": "ipython3",
   "version": "3.12.4"
  }
 },
 "nbformat": 4,
 "nbformat_minor": 5
}
