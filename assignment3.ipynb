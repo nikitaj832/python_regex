{
 "cells": [
  {
   "cell_type": "code",
   "execution_count": 8,
   "id": "517c2a0e-ca20-4436-b5b1-d33512fe69e9",
   "metadata": {},
   "outputs": [
    {
     "data": {
      "text/plain": [
       "3"
      ]
     },
     "execution_count": 8,
     "metadata": {},
     "output_type": "execute_result"
    }
   ],
   "source": [
    "#1. Count Unique Elements: Given a list, create a dictionary that counts the occurrences of each unique element.\n",
    "dict = {'a':1,'b':2,'c':3}\n",
    "are_unique = len(dict.values()) == len(set(dict.values()))\n",
    "are_unique"
   ]
  },
  {
   "cell_type": "code",
   "execution_count": 10,
   "id": "bec00faf-fa1e-40f3-84d8-d6caf3f7c46d",
   "metadata": {},
   "outputs": [
    {
     "data": {
      "text/plain": [
       "{'a', 'b'}"
      ]
     },
     "execution_count": 10,
     "metadata": {},
     "output_type": "execute_result"
    }
   ],
   "source": [
    "#2. Find Common Elements: Given two lists, create a set that contains the common elements between them.\n",
    "list1  = ['a','b','a','c','c','d']\n",
    "list2 =[1,5,'a','b','x']\n",
    "set(list1) & set(list2)"
   ]
  },
  {
   "cell_type": "code",
   "execution_count": 38,
   "id": "a7c0f45c-aaeb-4ab0-b07a-ac182b2d1b13",
   "metadata": {},
   "outputs": [
    {
     "name": "stdout",
     "output_type": "stream",
     "text": [
      "{1, 2, 3, 5, 6, 7, 8, 9}\n",
      "[1, 2, 3, 5, 6, 7, 8, 9]\n"
     ]
    }
   ],
   "source": [
    "#5. Remove Duplicates: Given a list, create a set to remove duplicates and convert it back to a list\n",
    "mylist = [1,1,2,3,1,5,3,2,3,9,8,7,6,5,2]\n",
    "print(set(mylist))\n",
    "m=list(set(mylist))\n",
    "print(m)"
   ]
  },
  {
   "cell_type": "code",
   "execution_count": 17,
   "id": "e30088c7-bc4c-4520-9f3b-f395b605462e",
   "metadata": {},
   "outputs": [
    {
     "data": {
      "text/plain": [
       "'a'"
      ]
     },
     "execution_count": 17,
     "metadata": {},
     "output_type": "execute_result"
    }
   ],
   "source": [
    "#7. Find the Maximum Value: Given a dictionary, find the key with the maximum value.\n",
    "my_dict = {'a':30,'b':24,'c':12}\n",
    "max_key = max(my_dict, key=my_dict.get)\n",
    "max_key"
   ]
  },
  {
   "cell_type": "code",
   "execution_count": 22,
   "id": "44f0eab7-d5c1-4cc1-8657-e12b2d313079",
   "metadata": {},
   "outputs": [
    {
     "data": {
      "text/plain": [
       "{'hey': 2, 'niku': 1, 'mahak': 1}"
      ]
     },
     "execution_count": 22,
     "metadata": {},
     "output_type": "execute_result"
    }
   ],
   "source": [
    "#8. Word Frequency: Given a sentence, create a dictionary that counts the frequency of each word.\n",
    "text = 'hey niku,hey mahak';\n",
    "word_count = {'hey':2,'niku':1,\"mahak\":1}\n",
    "word_count"
   ]
  },
  {
   "cell_type": "code",
   "execution_count": 26,
   "id": "9e7e6657-e931-4b44-a038-87150d118967",
   "metadata": {},
   "outputs": [
    {
     "data": {
      "text/plain": [
       "{'a', 'b', 'c', 'd', 'e', 'f', 'g', 'h'}"
      ]
     },
     "execution_count": 26,
     "metadata": {},
     "output_type": "execute_result"
    }
   ],
   "source": [
    "#9. Find Unique Characters: Given a string, create a set of unique characters.\n",
    "unique_character = set('abcdefgh')\n",
    "unique_character"
   ]
  },
  {
   "cell_type": "code",
   "execution_count": 29,
   "id": "477f86c2-7360-4cd9-9f42-ffae310a6ebf",
   "metadata": {},
   "outputs": [
    {
     "data": {
      "text/plain": [
       "{3, 4, 'a'}"
      ]
     },
     "execution_count": 29,
     "metadata": {},
     "output_type": "execute_result"
    }
   ],
   "source": [
    "#13. Find the Intersection of Two Sets: Given two sets, find their intersection.\n",
    "set1 = {1,2,'a',4,2,3,3}\n",
    "set2 = {'a',5,8,4,6,3,9,8,0,}\n",
    "set1 & set2"
   ]
  },
  {
   "cell_type": "code",
   "execution_count": 33,
   "id": "733f6a4e-69c7-46e7-b5d6-ea0c55682a37",
   "metadata": {},
   "outputs": [
    {
     "data": {
      "text/plain": [
       "True"
      ]
     },
     "execution_count": 33,
     "metadata": {},
     "output_type": "execute_result"
    }
   ],
   "source": [
    "#16. Check Subset: Given two sets, check if one is a subset of the other.\n",
    "set_a = {1, 2, 3, 4}\n",
    "set_b = {2, 3}\n",
    "is_subset = set_b.issubset(set_a)\n",
    "is_subset"
   ]
  },
  {
   "cell_type": "code",
   "execution_count": 39,
   "id": "1a0af429-18cc-4af0-ade2-221426e6f3ef",
   "metadata": {},
   "outputs": [
    {
     "data": {
      "text/plain": [
       "{'a': 1, 'b': 2, 'c': 3}"
      ]
     },
     "execution_count": 39,
     "metadata": {},
     "output_type": "execute_result"
    }
   ],
   "source": [
    "#19. Create a Dictionary from a List of Tuples: Given a list of tuples, create a dictionary from them.\n",
    "list_tup = [('a',1),('b',2),('c',3)]\n",
    "my_dict =dict(list_tup)\n",
    "my_dict"
   ]
  },
  {
   "cell_type": "code",
   "execution_count": 43,
   "id": "ed82886d-0667-473d-a3e6-18bc55a14254",
   "metadata": {},
   "outputs": [
    {
     "data": {
      "text/plain": [
       "3"
      ]
     },
     "execution_count": 43,
     "metadata": {},
     "output_type": "execute_result"
    }
   ],
   "source": [
    "#17. Remove Key from Dictionary: Given a dictionary and a key, remove the key if it exists.\n",
    "di = {'a': 1, 'b': 2, 'c': 3}\n",
    "di.pop('c')"
   ]
  },
  {
   "cell_type": "code",
   "execution_count": 46,
   "id": "c5321c05-8233-4918-ae32-b2edc2b5e690",
   "metadata": {},
   "outputs": [
    {
     "data": {
      "text/plain": [
       "{'a': 3, 'b': 2, 'g': 1, 'd': 1}"
      ]
     },
     "execution_count": 46,
     "metadata": {},
     "output_type": "execute_result"
    }
   ],
   "source": [
    "#15. Count Character Frequency: Given a string, create a dictionary that counts the frequency of each character.\n",
    "string = \"ababgad\"\n",
    "char_count = {'a':3,'b':2,\"g\":1,\"d\":1}\n",
    "char_count"
   ]
  },
  {
   "cell_type": "code",
   "execution_count": null,
   "id": "2b313a1d-e9a0-495b-a7e4-71d655347ef7",
   "metadata": {},
   "outputs": [],
   "source": []
  },
  {
   "cell_type": "code",
   "execution_count": null,
   "id": "2b4f5171-36da-4941-a6fb-3b01d7a97ee8",
   "metadata": {},
   "outputs": [],
   "source": []
  }
 ],
 "metadata": {
  "kernelspec": {
   "display_name": "Python 3 (ipykernel)",
   "language": "python",
   "name": "python3"
  },
  "language_info": {
   "codemirror_mode": {
    "name": "ipython",
    "version": 3
   },
   "file_extension": ".py",
   "mimetype": "text/x-python",
   "name": "python",
   "nbconvert_exporter": "python",
   "pygments_lexer": "ipython3",
   "version": "3.12.4"
  }
 },
 "nbformat": 4,
 "nbformat_minor": 5
}
