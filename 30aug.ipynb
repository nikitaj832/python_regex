{
 "cells": [
  {
   "cell_type": "code",
   "execution_count": 2,
   "id": "d912b707-99a3-41b0-a943-1140b63b3d5f",
   "metadata": {},
   "outputs": [
    {
     "name": "stdout",
     "output_type": "stream",
     "text": [
      "48\n",
      "Jaipur is a nice place And i am proud of my pink city\n",
      "Her age is 30 years old\n",
      "Her age is 30 years old\n"
     ]
    }
   ],
   "source": [
    "#Python is a high level programming language which is\n",
    "#easy to and simple to code and is used in various domains\n",
    "# ranging from data analysis to software development, data\n",
    "#science and many more\n",
    "\n",
    "\n",
    "#Benefits\n",
    "#simple and easy to code\n",
    "#opens up various opportunities in many domains\n",
    "\n",
    "\n",
    "#print(\"jaipur\")--------written inside double or single quotes\n",
    "\n",
    "#print(48)---------no need of single quotes\n",
    "\n",
    "\n",
    "# print('Jaipur')\n",
    "\n",
    "print(48)\n",
    "\n",
    "#concatenation\n",
    "# using + operator\n",
    "print('Jaipur is a nice place'+' And i am proud of my pink city')\n",
    "\n",
    "\n",
    "age=30\n",
    "print('Her age is',30,'years old')\n",
    "#f-string\n",
    "print(f'Her age is {age} years old')\n",
    "\n",
    "\n",
    "\n"
   ]
  },
  {
   "cell_type": "code",
   "execution_count": 3,
   "id": "06e853b6-a35e-49e9-aabc-1ba7cb0858f9",
   "metadata": {},
   "outputs": [],
   "source": [
    "#string-------character or sequance of characters('Jaipur')\n",
    "#int------all the numerical values except decimal values(40,50,68,79)\n",
    "#float-------all the decimal values(1.1,2.2,3.3,-6.7)\n",
    "#Boolean/Bool------(True/False)\n",
    "\n",
    "#-------single line commenting\n",
    "#'''/\"\"\"line'''/\"\"\"--------multiple line commenting\n",
    "\n",
    "\n",
    "#Use case of comments:\n",
    "#to explain or give any information\n",
    "#to protect the code from raising any error on some specific sentences"
   ]
  },
  {
   "cell_type": "code",
   "execution_count": 4,
   "id": "1d15b8d5-526e-4096-9695-4b94018a0df0",
   "metadata": {},
   "outputs": [
    {
     "name": "stdout",
     "output_type": "stream",
     "text": [
      "<class 'int'>\n",
      "<class 'str'>\n",
      "<class 'bool'>\n",
      "<class 'float'>\n"
     ]
    }
   ],
   "source": [
    "#Variables:\n",
    "#a=10\n",
    "#Variable name = variable value to be given\n",
    "\n",
    "\n",
    "#we can check the datatype using type function\n",
    "a=9\n",
    "print(type(a))\n",
    "\n",
    "b='Jaipur is a nice place'\n",
    "print(type(b))\n",
    "\n",
    "c=True\n",
    "print(type(c))\n",
    "\n",
    "d=7.2\n",
    "print(type(d))"
   ]
  }
 ],
 "metadata": {
  "kernelspec": {
   "display_name": "Python 3 (ipykernel)",
   "language": "python",
   "name": "python3"
  },
  "language_info": {
   "codemirror_mode": {
    "name": "ipython",
    "version": 3
   },
   "file_extension": ".py",
   "mimetype": "text/x-python",
   "name": "python",
   "nbconvert_exporter": "python",
   "pygments_lexer": "ipython3",
   "version": "3.12.4"
  }
 },
 "nbformat": 4,
 "nbformat_minor": 5
}
