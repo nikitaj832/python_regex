{
 "cells": [
  {
   "cell_type": "markdown",
   "id": "3579f75d-df9f-4ae6-b130-4bcc85a43831",
   "metadata": {},
   "source": [
    "#Operators and list methods"
   ]
  },
  {
   "cell_type": "code",
   "execution_count": 3,
   "id": "4ce2f709-38f1-4931-8813-4c036a951240",
   "metadata": {},
   "outputs": [
    {
     "name": "stdout",
     "output_type": "stream",
     "text": [
      "[1, 5, 7, 9, 4, 7, 9, 5]\n"
     ]
    }
   ],
   "source": [
    "#1.What does the + operator do when used with two lists?\n",
    "list1 = [1,5,7,9]\n",
    "list2= [4,7,9,5]\n",
    "print(list1+list2)"
   ]
  },
  {
   "cell_type": "code",
   "execution_count": 5,
   "id": "442a8bf8-ef50-451f-8ced-d3ba50850dd2",
   "metadata": {},
   "outputs": [
    {
     "data": {
      "text/plain": [
       "8"
      ]
     },
     "execution_count": 5,
     "metadata": {},
     "output_type": "execute_result"
    }
   ],
   "source": [
    "#2.How can you find the length of a tuple?\n",
    "tuple= (2,78,7.0,46,7,9,4,3)\n",
    "len(tuple)"
   ]
  },
  {
   "cell_type": "code",
   "execution_count": 8,
   "id": "59008fe5-8aaa-4943-ae2f-fcfdcaae6da2",
   "metadata": {},
   "outputs": [
    {
     "name": "stdout",
     "output_type": "stream",
     "text": [
      "[65, 6, 89, 5.7, 65, 6, 89, 5.7, 65, 6, 89, 5.7, 65, 6, 89, 5.7, 65, 6, 89, 5.7]\n"
     ]
    }
   ],
   "source": [
    "#3.What does the * operator do when used with a list?\n",
    "list = [65,6,89,5.7]\n",
    "print(list*5)"
   ]
  },
  {
   "cell_type": "code",
   "execution_count": 10,
   "id": "f8b74638-c742-4be1-a001-6927deb5860c",
   "metadata": {},
   "outputs": [
    {
     "data": {
      "text/plain": [
       "[65, 6, 89, 5.7, 90]"
      ]
     },
     "execution_count": 10,
     "metadata": {},
     "output_type": "execute_result"
    }
   ],
   "source": [
    "#4. How do you add an element to the end of a list?\n",
    "li = [65,6,89,5.7]\n",
    "li.append(90)\n",
    "li"
   ]
  },
  {
   "cell_type": "code",
   "execution_count": 12,
   "id": "f76dff06-d6b3-4a22-a826-75b6948a0525",
   "metadata": {},
   "outputs": [
    {
     "data": {
      "text/plain": [
       "[65, 6, 89, 5.7]"
      ]
     },
     "execution_count": 12,
     "metadata": {},
     "output_type": "execute_result"
    }
   ],
   "source": [
    "#5. What method can you use to remove an element from a list by its value?\n",
    "li = [65,6,89,5.7,'hi']\n",
    "li.remove('hi')\n",
    "li\n"
   ]
  },
  {
   "cell_type": "code",
   "execution_count": 23,
   "id": "d835128b-8f66-4caa-8815-5b2427a5e491",
   "metadata": {},
   "outputs": [
    {
     "name": "stdout",
     "output_type": "stream",
     "text": [
      "5.7\n"
     ]
    }
   ],
   "source": [
    "#6.How do you access the third element of a tuple?\n",
    "tuple = (65,6,89,5.7,'hi')\n",
    "print(tuple[3])\n"
   ]
  },
  {
   "cell_type": "code",
   "execution_count": 22,
   "id": "27733fb7-12f8-4fb2-a582-91887a0d8ade",
   "metadata": {},
   "outputs": [
    {
     "data": {
      "text/plain": [
       "[1, 2, 2, 2, 3, 3, 3, 3, 5.7, 6, 7, 7, 9, 9, 43, 45, 65, 89]"
      ]
     },
     "execution_count": 22,
     "metadata": {},
     "output_type": "execute_result"
    }
   ],
   "source": [
    "#7. What method can you use to sort a list in ascending order?\n",
    "li = [65,6,89,5.7,3,7,3,9,7,9,43,3,2,1,3,2,45,2,]\n",
    "li.sort()\n",
    "li"
   ]
  },
  {
   "cell_type": "code",
   "execution_count": 25,
   "id": "153f56fd-424b-43d4-9d0f-35625ae13265",
   "metadata": {},
   "outputs": [
    {
     "name": "stdout",
     "output_type": "stream",
     "text": [
      "True\n"
     ]
    }
   ],
   "source": [
    "#8.How can you check if a specific item exists in a tuple?\n",
    "tuple = (4,7,9,3,89,7)\n",
    "print(4 in tuple)"
   ]
  },
  {
   "cell_type": "code",
   "execution_count": 29,
   "id": "0034013c-ccf0-446f-bff9-4aab1be2d485",
   "metadata": {},
   "outputs": [
    {
     "data": {
      "text/plain": [
       "[]"
      ]
     },
     "execution_count": 29,
     "metadata": {},
     "output_type": "execute_result"
    }
   ],
   "source": [
    "#9.What method would you use to remove all occurrences of a specific item from a list?\n",
    "li = [65,6,89,5.7,3,7,3,9,7,9,43,3,2,1,3,2,45,2,]\n",
    "li.clear()\n",
    "li"
   ]
  },
  {
   "cell_type": "code",
   "execution_count": 31,
   "id": "6c387c4c-7895-41fa-9f55-8e7451d6b2fc",
   "metadata": {},
   "outputs": [
    {
     "name": "stdout",
     "output_type": "stream",
     "text": [
      "(3, 7, 4, 8, 4, 'nnk', 43, 8.9)\n"
     ]
    }
   ],
   "source": [
    "#10 How can you concatenate two tuples?\n",
    "t1 = (3,7,4,8,4)\n",
    "t2= ('nnk',43,8.9)\n",
    "print(t1+t2)"
   ]
  },
  {
   "cell_type": "code",
   "execution_count": 34,
   "id": "d7030a73-9a97-45d2-90dc-7a2d30924550",
   "metadata": {},
   "outputs": [
    {
     "data": {
      "text/plain": [
       "4"
      ]
     },
     "execution_count": 34,
     "metadata": {},
     "output_type": "execute_result"
    }
   ],
   "source": [
    "#11 What method can you use to get the index of a specific item in a list?\n",
    "li = [65,6,89,5.7,3,7,3,9,7,9,43,3,2,1,3,2,45,2,]\n",
    "li.index(3)"
   ]
  },
  {
   "cell_type": "code",
   "execution_count": 44,
   "id": "89dd2dd8-de3e-4aef-bf0f-7dea84cf68d5",
   "metadata": {},
   "outputs": [
    {
     "data": {
      "text/plain": [
       "(23,)"
      ]
     },
     "execution_count": 44,
     "metadata": {},
     "output_type": "execute_result"
    }
   ],
   "source": [
    "#12How do you create a tuple with a single element?\n",
    "tup = (23,)\n",
    "tup"
   ]
  },
  {
   "cell_type": "code",
   "execution_count": 39,
   "id": "2fdab9ff-3b3b-4ee3-8bc9-49cfbd973802",
   "metadata": {},
   "outputs": [
    {
     "data": {
      "text/plain": [
       "[2, 45, 2, 3, 1, 2, 3, 43, 9, 7, 9, 3, 7, 3, 5.7, 89, 6, 65]"
      ]
     },
     "execution_count": 39,
     "metadata": {},
     "output_type": "execute_result"
    }
   ],
   "source": [
    "#13 How can you reverse the elements of a list?\n",
    "li = [65,6,89,5.7,3,7,3,9,7,9,43,3,2,1,3,2,45,2,]\n",
    "li.reverse()\n",
    "li"
   ]
  },
  {
   "cell_type": "code",
   "execution_count": 41,
   "id": "7abdabcb-6b92-4267-90c4-5cccdd8a6472",
   "metadata": {},
   "outputs": [
    {
     "name": "stdout",
     "output_type": "stream",
     "text": [
      "True\n",
      "True\n"
     ]
    }
   ],
   "source": [
    "#14 What does the in operator do when used with a list or tuple?\n",
    "tuple = (4,7,9,3,89,7)\n",
    "print(4 in tuple)\n",
    "list = [1,3]\n",
    "print(1 in list)"
   ]
  },
  {
   "cell_type": "code",
   "execution_count": 47,
   "id": "f141d3a4-a9cf-4575-931c-18baa5459bd0",
   "metadata": {},
   "outputs": [
    {
     "data": {
      "text/plain": [
       "4"
      ]
     },
     "execution_count": 47,
     "metadata": {},
     "output_type": "execute_result"
    }
   ],
   "source": [
    "#15. How do you find the number of occurrences of a specific element in a list?\n",
    "li = [65,6,89,5.7,3,7,3,9,7,9,43,3,2,1,3,2,45,2,]\n",
    "li.count(3)\n"
   ]
  },
  {
   "cell_type": "code",
   "execution_count": 51,
   "id": "7c0de8ad-02b8-4f99-bd73-c1375141b695",
   "metadata": {},
   "outputs": [
    {
     "data": {
      "text/plain": [
       "[65, 6, 89]"
      ]
     },
     "execution_count": 51,
     "metadata": {},
     "output_type": "execute_result"
    }
   ],
   "source": [
    "#16.How can you slice a list to get the first three elements?\n",
    "li = [65,6,89,5.7,3,7,3,9,7,9,43,3,2,1,3,2,45,2,]\n",
    "li[0:3:1]"
   ]
  },
  {
   "cell_type": "code",
   "execution_count": 56,
   "id": "611cfc68-9fbb-47e4-88c6-b633ae24273e",
   "metadata": {},
   "outputs": [],
   "source": [
    "#17.What is the difference between the append and extend methods for a list?\n",
    "\n",
    "#append add only one item at the end of the list\n",
    "#append add multiple item at the end of the list"
   ]
  },
  {
   "cell_type": "code",
   "execution_count": 58,
   "id": "26c56861-4afe-4ded-80ef-499e50989335",
   "metadata": {},
   "outputs": [
    {
     "data": {
      "text/plain": [
       "[(1, 2), (3, 4)]"
      ]
     },
     "execution_count": 58,
     "metadata": {},
     "output_type": "execute_result"
    }
   ],
   "source": [
    "#18How can you create a list of tuples where each tuple contains two elements?\n",
    "list = [(1,2),(3,4)]\n",
    "list"
   ]
  },
  {
   "cell_type": "code",
   "execution_count": 59,
   "id": "93fd3911-9fff-4226-9700-7d83f2f26430",
   "metadata": {},
   "outputs": [],
   "source": [
    "#19. What method can you use to remove an element from a tuple (since tuples are immutable)?\n",
    "#we cannot modify them directly to remove an element. However, we can create a new tuple that excludes the element we want to remove."
   ]
  },
  {
   "cell_type": "code",
   "execution_count": 65,
   "id": "372ac358-cf3e-4768-ab17-a783c0498148",
   "metadata": {},
   "outputs": [
    {
     "name": "stdout",
     "output_type": "stream",
     "text": [
      "['niki', 'pja', 'mahak', 'poonam', 'kartikey']\n"
     ]
    }
   ],
   "source": [
    "#20 How do you join a list of strings into a single string with spaces in between?\n",
    "list = ['niki','pja','mahak']\n",
    "list1= ['poonam','kartikey']\n",
    "print(list + list1)"
   ]
  },
  {
   "cell_type": "code",
   "execution_count": 67,
   "id": "ce4cf736-46f7-4df7-8da0-abeb7840d886",
   "metadata": {},
   "outputs": [],
   "source": [
    "#if else "
   ]
  },
  {
   "cell_type": "code",
   "execution_count": 68,
   "id": "8a15e413-9aac-4585-a53f-3cf2c3d6a991",
   "metadata": {},
   "outputs": [],
   "source": [
    "#1 . What is the syntax for an if statement in Python?\n",
    "# if(condition):\n",
    "#     code\n",
    "# elif(condition):\n",
    "#     code\n",
    "# else:\n",
    "#     code"
   ]
  },
  {
   "cell_type": "code",
   "execution_count": 70,
   "id": "8fec688c-ec94-4c71-8f49-a20ab4826e68",
   "metadata": {},
   "outputs": [
    {
     "name": "stdout",
     "output_type": "stream",
     "text": [
      "number is positive\n"
     ]
    }
   ],
   "source": [
    "#2 .How do you write an if-else statement to check if a number is positive or negative?\n",
    "n=43\n",
    "if(n>0):\n",
    "    print(\"number is positive\")\n",
    "elif(n<0):\n",
    "    print('negative')\n",
    "else:\n",
    "    print('zero')"
   ]
  },
  {
   "cell_type": "code",
   "execution_count": 71,
   "id": "9f220556-6a6e-4569-ab44-a5cafe6ce0d1",
   "metadata": {},
   "outputs": [],
   "source": [
    "#3 What is the purpose of the elif keyword?\n",
    "  ##to pass multiple condition in prgram\n"
   ]
  },
  {
   "cell_type": "code",
   "execution_count": 74,
   "id": "632ca4c2-8c94-4fff-afc6-430700bd0cbf",
   "metadata": {},
   "outputs": [
    {
     "name": "stdin",
     "output_type": "stream",
     "text": [
      "enter value 67\n"
     ]
    },
    {
     "name": "stdout",
     "output_type": "stream",
     "text": [
      "not in range\n"
     ]
    }
   ],
   "source": [
    "#4 How do you check if a variable x is between 10 and 20 (inclusive)?\n",
    "n = int(input('enter value'))\n",
    "if((n>=10) and (n<=20)):\n",
    "    print(\"no. in range\")\n",
    "else:\n",
    "    print('not in range')"
   ]
  },
  {
   "cell_type": "code",
   "execution_count": 76,
   "id": "95de1138-982b-407e-b0e7-dcdb5d8ab272",
   "metadata": {},
   "outputs": [],
   "source": [
    "#5 What is the result of an if statement when the condition is False?\n",
    "#  then it will code execute in else part"
   ]
  },
  {
   "cell_type": "code",
   "execution_count": 79,
   "id": "e450d3a0-07ab-4527-bc5a-f237faf4bdc6",
   "metadata": {},
   "outputs": [
    {
     "name": "stdin",
     "output_type": "stream",
     "text": [
      "enter value 10\n"
     ]
    },
    {
     "name": "stdout",
     "output_type": "stream",
     "text": [
      "no. in range\n"
     ]
    }
   ],
   "source": [
    "#6 How can you combine multiple conditions in a single if statement using and?\n",
    "n = int(input('enter value'))\n",
    "if((n>=10) and (n<=20)):\n",
    "    print(\"no. in range\")\n",
    "else:\n",
    "    print('not in range')"
   ]
  },
  {
   "cell_type": "code",
   "execution_count": 80,
   "id": "fec2fcca-e382-415f-a8fc-be3829349320",
   "metadata": {},
   "outputs": [],
   "source": [
    "#7 What will be the output of an if-else statement if the condition is true?\n",
    "#first exexute and output given"
   ]
  },
  {
   "cell_type": "code",
   "execution_count": 83,
   "id": "db6d46fe-a146-4490-aae0-cfe6025885e7",
   "metadata": {},
   "outputs": [
    {
     "name": "stdin",
     "output_type": "stream",
     "text": [
      "enter value 34\n"
     ]
    },
    {
     "name": "stdout",
     "output_type": "stream",
     "text": [
      "eligible\n"
     ]
    }
   ],
   "source": [
    "#8 How do you use the or operator to check if at least one of two conditions is true?\n",
    "n = int(input('enter value'))\n",
    "card = 'has'\n",
    "if((n>=18) or (card=='has')):\n",
    "    print(\"eligible\")\n",
    "else:\n",
    "    print('not in range')"
   ]
  },
  {
   "cell_type": "code",
   "execution_count": 85,
   "id": "98be6cfb-b523-4a82-9b1c-641f0c59fe23",
   "metadata": {},
   "outputs": [],
   "source": [
    "#8 What is the difference between == and is in conditional statements?\n",
    "#== means both are equal\n",
    "# is means both are in same location"
   ]
  },
  {
   "cell_type": "code",
   "execution_count": 87,
   "id": "e7fe211c-2faa-4f0d-9c13-c87884c6dfdc",
   "metadata": {},
   "outputs": [
    {
     "data": {
      "text/plain": [
       "False"
      ]
     },
     "execution_count": 87,
     "metadata": {},
     "output_type": "execute_result"
    }
   ],
   "source": [
    "#9 How can you check if a string s is empty?\n",
    "a = ''\n",
    "bool(a) #if false means there were no string "
   ]
  },
  {
   "cell_type": "code",
   "execution_count": 89,
   "id": "86893fc3-d997-47bf-a273-c861bf29ae93",
   "metadata": {},
   "outputs": [
    {
     "name": "stdin",
     "output_type": "stream",
     "text": [
      "enter value 5\n"
     ]
    },
    {
     "name": "stdout",
     "output_type": "stream",
     "text": [
      "true\n"
     ]
    }
   ],
   "source": [
    "# 10What is the result of the following condition: if not (x > 10)?\n",
    "x = int(input('enter value'))\n",
    "if(not (x > 10)):\n",
    "    print(\"true\")\n",
    "else:\n",
    "    print('false')"
   ]
  },
  {
   "cell_type": "code",
   "execution_count": 92,
   "id": "63d7d9d0-6329-4407-a867-9f99836789a7",
   "metadata": {},
   "outputs": [
    {
     "name": "stdin",
     "output_type": "stream",
     "text": [
      "enter value 4\n"
     ]
    },
    {
     "name": "stdout",
     "output_type": "stream",
     "text": [
      "even\n"
     ]
    }
   ],
   "source": [
    "#11How do you write a conditional statement to execute code only if a number is even?\n",
    "x = int(input('enter value'))\n",
    "if(x%2==0):\n",
    "    print(\"even\")\n",
    "else:\n",
    "    print('odd')"
   ]
  },
  {
   "cell_type": "code",
   "execution_count": 106,
   "id": "593e1277-eeee-48f3-be60-decaf9896a14",
   "metadata": {},
   "outputs": [
    {
     "name": "stdout",
     "output_type": "stream",
     "text": [
      "not empty\n"
     ]
    }
   ],
   "source": [
    "#12How can you use an if statement to determine if a list is empty?\n",
    "list = [1]\n",
    "if(len(list)==0):\n",
    "    print('empty')\n",
    "else:\n",
    "        print('not empty')"
   ]
  },
  {
   "cell_type": "code",
   "execution_count": 94,
   "id": "4e33dcf6-6dbe-4597-af9a-97dd7f4cca51",
   "metadata": {},
   "outputs": [],
   "source": [
    "#13What does the pass statement do in an if block?\n",
    "#the pass statement is a placeholder that does nothing. It’s used in situations where syntactically some code is required but we don’t want to execute any code. In an if block, the pass statement allows we to create an empty block of code that can be filled in later."
   ]
  },
  {
   "cell_type": "code",
   "execution_count": 96,
   "id": "54ce0a5c-075a-4ed5-b4a4-765451fa112a",
   "metadata": {},
   "outputs": [
    {
     "name": "stdin",
     "output_type": "stream",
     "text": [
      "enter value 7\n",
      "enter value 8\n"
     ]
    },
    {
     "name": "stdout",
     "output_type": "stream",
     "text": [
      "even\n"
     ]
    }
   ],
   "source": [
    "#14How can you nest if statements inside each other?\n",
    "x = int(input('enter value'))\n",
    "if(x>5):\n",
    "    a=int(input('enter value'))\n",
    "    if(a%2==0):\n",
    "         print(\"even\")\n",
    "    else:\n",
    "        print('odd')\n",
    "else:\n",
    "    print(\"less than 5\")"
   ]
  },
  {
   "cell_type": "code",
   "execution_count": 107,
   "id": "d3948d7c-b23d-48e9-adf7-020ab022bcf1",
   "metadata": {},
   "outputs": [],
   "source": [
    "#15What will be the result if no conditions in an if-elif-else chain are met?\n",
    "#else part always run\n",
    "#if else is not present than nothing print"
   ]
  },
  {
   "cell_type": "code",
   "execution_count": 109,
   "id": "704f933e-20e4-430a-ac1e-0dddeeba8b78",
   "metadata": {},
   "outputs": [
    {
     "name": "stdin",
     "output_type": "stream",
     "text": [
      "enter value 15\n"
     ]
    },
    {
     "name": "stdout",
     "output_type": "stream",
     "text": [
      "divisble\n"
     ]
    }
   ],
   "source": [
    "#16How do you check if a number is divisible by both 3 and 5 using an if statement?\n",
    "x = int(input('enter value'))\n",
    "if((x%3==0) and (x%5==0)):\n",
    "    print(\"divisble\")\n",
    "else:\n",
    "    print('not')"
   ]
  },
  {
   "cell_type": "code",
   "execution_count": 111,
   "id": "18f48801-ff50-4574-94e7-197732223c11",
   "metadata": {},
   "outputs": [
    {
     "name": "stdin",
     "output_type": "stream",
     "text": [
      "enter value 6\n"
     ]
    },
    {
     "name": "stdout",
     "output_type": "stream",
     "text": [
      "x is large\n"
     ]
    }
   ],
   "source": [
    "#18What is the result of the following if statement: if x > 5: print(&quot;x is large&quot;) else: print(&quot;x is small&quot;)\n",
    "#where x is 3?\n",
    "x = int(input('enter value'))\n",
    "if(x > 5):\n",
    "    print('x is large')\n",
    "else:\n",
    "    print('x is small')"
   ]
  }
 ],
 "metadata": {
  "kernelspec": {
   "display_name": "Python 3 (ipykernel)",
   "language": "python",
   "name": "python3"
  },
  "language_info": {
   "codemirror_mode": {
    "name": "ipython",
    "version": 3
   },
   "file_extension": ".py",
   "mimetype": "text/x-python",
   "name": "python",
   "nbconvert_exporter": "python",
   "pygments_lexer": "ipython3",
   "version": "3.12.4"
  }
 },
 "nbformat": 4,
 "nbformat_minor": 5
}
