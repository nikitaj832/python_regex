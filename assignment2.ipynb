{
 "cells": [
  {
   "cell_type": "code",
   "execution_count": 1,
   "id": "897363dc-476e-495f-a98d-3178be1d6599",
   "metadata": {},
   "outputs": [],
   "source": [
    "#LIST INDEXING AND SLICING"
   ]
  },
  {
   "cell_type": "code",
   "execution_count": 3,
   "id": "b7cb2b3a-18c7-4856-bfa2-c563c8bf59e5",
   "metadata": {},
   "outputs": [],
   "source": [
    "#1. What is list indexing in Python?\n",
    "# it is used to show the element by its indexing value,negative indexinng and positive indexing\n"
   ]
  },
  {
   "cell_type": "code",
   "execution_count": 5,
   "id": "5502f5fa-4ec4-4aae-af70-b2f6965dc9b0",
   "metadata": {},
   "outputs": [
    {
     "data": {
      "text/plain": [
       "1"
      ]
     },
     "execution_count": 5,
     "metadata": {},
     "output_type": "execute_result"
    }
   ],
   "source": [
    "#2. How do you access the first element of a list?\n",
    "#by giving its indexing n. it start with 0 index\n",
    "list=[1,3,4,5,]\n",
    "list[0]"
   ]
  },
  {
   "cell_type": "code",
   "execution_count": 7,
   "id": "9659e67a-9a05-4d4e-af83-a4f36ff6777a",
   "metadata": {},
   "outputs": [
    {
     "data": {
      "text/plain": [
       "30"
      ]
     },
     "execution_count": 7,
     "metadata": {},
     "output_type": "execute_result"
    }
   ],
   "source": [
    "#3. What is the result of my_list[2] if my_list = [10, 20, 30, 40]?\n",
    "my_list = [10, 20, 30, 40]\n",
    "my_list[2]"
   ]
  },
  {
   "cell_type": "code",
   "execution_count": 9,
   "id": "0fc35028-02c9-4085-92b4-906651dbf164",
   "metadata": {},
   "outputs": [
    {
     "data": {
      "text/plain": [
       "40"
      ]
     },
     "execution_count": 9,
     "metadata": {},
     "output_type": "execute_result"
    }
   ],
   "source": [
    "#4. How can you access the last element of a list?\n",
    "#by giving index no. is -1\n",
    "my_list = [10, 20, 30, 40]\n",
    "my_list[-1]"
   ]
  },
  {
   "cell_type": "code",
   "execution_count": 13,
   "id": "14376434-d4a7-4050-b911-ff4b0940d9ce",
   "metadata": {},
   "outputs": [
    {
     "data": {
      "text/plain": [
       "5"
      ]
     },
     "execution_count": 13,
     "metadata": {},
     "output_type": "execute_result"
    }
   ],
   "source": [
    "#5. What will my_list[-1] return if my_list = [1, 2, 3, 4, 5]?\n",
    "my_list = [1, 2, 3, 4, 5]\n",
    "my_list[-1]"
   ]
  },
  {
   "cell_type": "code",
   "execution_count": 15,
   "id": "87fb6d78-1af7-4452-9947-10eee264897d",
   "metadata": {},
   "outputs": [
    {
     "data": {
      "text/plain": [
       "[2, 36, 4, 5, 56]"
      ]
     },
     "execution_count": 15,
     "metadata": {},
     "output_type": "execute_result"
    }
   ],
   "source": [
    "#6. How do you access a range of elements in a list?\n",
    "my_list = [10, 2, 36, 4, 5,56]\n",
    "my_list[1:6]"
   ]
  },
  {
   "cell_type": "code",
   "execution_count": 17,
   "id": "2d007fd8-74f7-4080-8be5-e49887d44387",
   "metadata": {},
   "outputs": [
    {
     "data": {
      "text/plain": [
       "[20, 30, 40]"
      ]
     },
     "execution_count": 17,
     "metadata": {},
     "output_type": "execute_result"
    }
   ],
   "source": [
    "#7. What does my_list[1:4] return for my_list = [10, 20, 30, 40, 50]?\n",
    "my_list = [10, 20, 30, 40, 50]\n",
    "my_list[1:4] "
   ]
  },
  {
   "cell_type": "code",
   "execution_count": 19,
   "id": "580baa68-db5f-4919-b1a8-b75cc989828f",
   "metadata": {},
   "outputs": [
    {
     "data": {
      "text/plain": [
       "['a', 'b', 'c']"
      ]
     },
     "execution_count": 19,
     "metadata": {},
     "output_type": "execute_result"
    }
   ],
   "source": [
    "#8. What is the result of my_list[:3] if my_list =['a','b','c','d']\n",
    "my_list = ['a','b','c','d']\n",
    "my_list[:3]"
   ]
  },
  {
   "cell_type": "code",
   "execution_count": 21,
   "id": "51f7dea7-f5ce-4b2e-b917-b9c6fa567e3b",
   "metadata": {},
   "outputs": [
    {
     "data": {
      "text/plain": [
       "[2, 36, 4, 5, 56]"
      ]
     },
     "execution_count": 21,
     "metadata": {},
     "output_type": "execute_result"
    }
   ],
   "source": [
    "#9. How do you get a sublist from the beginning to a specified index?\n",
    "#by slicing \n",
    "my_list = [10, 2, 36, 4, 5,56]\n",
    "my_list[1:6]"
   ]
  },
  {
   "cell_type": "code",
   "execution_count": 23,
   "id": "6599efea-497f-4746-8a6f-77f390485740",
   "metadata": {},
   "outputs": [
    {
     "data": {
      "text/plain": [
       "[3, 4, 5]"
      ]
     },
     "execution_count": 23,
     "metadata": {},
     "output_type": "execute_result"
    }
   ],
   "source": [
    "#10. What will my_list[2:] return if my_list = [1, 2, 3, 4, 5]?\n",
    "my_list = [1, 2, 3, 4, 5]\n",
    "my_list[2:]"
   ]
  },
  {
   "cell_type": "code",
   "execution_count": 25,
   "id": "439e6494-f593-4007-87d2-2857f993445d",
   "metadata": {},
   "outputs": [
    {
     "data": {
      "text/plain": [
       "[5, 4, 3, 2]"
      ]
     },
     "execution_count": 25,
     "metadata": {},
     "output_type": "execute_result"
    }
   ],
   "source": [
    "#11. How can you reverse a list using slicing?\n",
    "my_list = [1, 2, 3, 4, 5]\n",
    "my_list[-1:-5:-1]"
   ]
  },
  {
   "cell_type": "code",
   "execution_count": 27,
   "id": "5eedc27b-420f-4724-949d-5a85a39ed2a0",
   "metadata": {},
   "outputs": [
    {
     "data": {
      "text/plain": [
       "[3, 2, 1]"
      ]
     },
     "execution_count": 27,
     "metadata": {},
     "output_type": "execute_result"
    }
   ],
   "source": [
    "#12. What does my_list[::-1] do if my_list = [1, 2, 3]?\n",
    "my_list = [1, 2, 3]\n",
    "my_list[::-1]"
   ]
  },
  {
   "cell_type": "code",
   "execution_count": 29,
   "id": "6e728188-33c5-496c-a108-16110539431d",
   "metadata": {},
   "outputs": [
    {
     "data": {
      "text/plain": [
       "[2, 4]"
      ]
     },
     "execution_count": 29,
     "metadata": {},
     "output_type": "execute_result"
    }
   ],
   "source": [
    "#13. How do you extract every second element from a list?\n",
    "my_list = [1, 2, 3, 4, 5]\n",
    "my_list[1:5:2]"
   ]
  },
  {
   "cell_type": "code",
   "execution_count": 31,
   "id": "d57a1d29-9fda-4f4d-8fd4-b6d76f52bfe5",
   "metadata": {},
   "outputs": [
    {
     "data": {
      "text/plain": [
       "[10, 30, 50]"
      ]
     },
     "execution_count": 31,
     "metadata": {},
     "output_type": "execute_result"
    }
   ],
   "source": [
    "#14. What will my_list[::2] return if my_list = [10, 20, 30, 40, 50]?\n",
    "my_list = [10, 20, 30, 40, 50]\n",
    "my_list[::2]"
   ]
  },
  {
   "cell_type": "code",
   "execution_count": 33,
   "id": "33bade5b-293d-416c-a905-7b1048abccb0",
   "metadata": {},
   "outputs": [
    {
     "data": {
      "text/plain": [
       "[3, 2, 1]"
      ]
     },
     "execution_count": 33,
     "metadata": {},
     "output_type": "execute_result"
    }
   ],
   "source": [
    "#15. Can you slice a list with a negative step? If so, how?\n",
    "#yes we can\n",
    "my_list = [1, 2, 3]\n",
    "my_list[::-1]"
   ]
  },
  {
   "cell_type": "code",
   "execution_count": 34,
   "id": "260c96a4-3741-49ec-8f34-9c35a904156e",
   "metadata": {},
   "outputs": [
    {
     "data": {
      "text/plain": [
       "[8, 7]"
      ]
     },
     "execution_count": 34,
     "metadata": {},
     "output_type": "execute_result"
    }
   ],
   "source": [
    "#16. What is the output of my_list[3:1:-1] if my_list = [5, 6, 7, 8, 9]?\n",
    "my_list = [5, 6, 7, 8, 9]\n",
    "my_list[3:1:-1] "
   ]
  },
  {
   "cell_type": "code",
   "execution_count": 36,
   "id": "0c552a2d-f579-429a-ace7-a5dcbb649a05",
   "metadata": {},
   "outputs": [
    {
     "data": {
      "text/plain": [
       "[2, 3]"
      ]
     },
     "execution_count": 36,
     "metadata": {},
     "output_type": "execute_result"
    }
   ],
   "source": [
    "#17. How do you handle list indexing errors, such as accessing an out-of-range index?\n",
    "# handle by using slicing for out range\n",
    "my_list = [1, 2, 3]\n",
    "my_list[1:5]"
   ]
  },
  {
   "cell_type": "code",
   "execution_count": 38,
   "id": "25ef805a-8898-4c02-9759-0accb726369a",
   "metadata": {},
   "outputs": [
    {
     "ename": "IndexError",
     "evalue": "list index out of range",
     "output_type": "error",
     "traceback": [
      "\u001b[1;31m---------------------------------------------------------------------------\u001b[0m",
      "\u001b[1;31mIndexError\u001b[0m                                Traceback (most recent call last)",
      "Cell \u001b[1;32mIn[38], line 3\u001b[0m\n\u001b[0;32m      1\u001b[0m \u001b[38;5;66;03m#18. What happens if you use an index greater than the length of the list?\u001b[39;00m\n\u001b[0;32m      2\u001b[0m my_list \u001b[38;5;241m=\u001b[39m [\u001b[38;5;241m1\u001b[39m, \u001b[38;5;241m2\u001b[39m, \u001b[38;5;241m3\u001b[39m]\n\u001b[1;32m----> 3\u001b[0m \u001b[43mmy_list\u001b[49m\u001b[43m[\u001b[49m\u001b[38;5;241;43m5\u001b[39;49m\u001b[43m]\u001b[49m\n",
      "\u001b[1;31mIndexError\u001b[0m: list index out of range"
     ]
    }
   ],
   "source": [
    "#18. What happens if you use an index greater than the length of the list?\n",
    "my_list = [1, 2, 3]\n",
    "my_list[5]"
   ]
  },
  {
   "cell_type": "code",
   "execution_count": 41,
   "id": "b304d50e-9934-4333-8944-4fb04c293d94",
   "metadata": {},
   "outputs": [
    {
     "data": {
      "text/plain": [
       "[7, 6]"
      ]
     },
     "execution_count": 41,
     "metadata": {},
     "output_type": "execute_result"
    }
   ],
   "source": [
    "#19. How do negative indices work in Python lists?\n",
    "my_list = [5, 6, 7, 8, 9]\n",
    "my_list[-3:-5:-1] \n"
   ]
  },
  {
   "cell_type": "code",
   "execution_count": 43,
   "id": "9ab48eaa-587c-4aa8-a372-155a6516bd4c",
   "metadata": {},
   "outputs": [
    {
     "data": {
      "text/plain": [
       "[6, 7, 8]"
      ]
     },
     "execution_count": 43,
     "metadata": {},
     "output_type": "execute_result"
    }
   ],
   "source": [
    "#20. What does my_list[-3:] return if my_list = [4, 5, 6, 7, 8]?\n",
    "my_list = [4, 5, 6, 7, 8]\n",
    "my_list[-3:]"
   ]
  },
  {
   "cell_type": "code",
   "execution_count": 46,
   "id": "2d0272e1-358e-4f51-b6ea-04334e0fcec7",
   "metadata": {},
   "outputs": [
    {
     "data": {
      "text/plain": [
       "[4, 5, 6, 7, 8]"
      ]
     },
     "execution_count": 46,
     "metadata": {},
     "output_type": "execute_result"
    }
   ],
   "source": [
    "#21. How can you use slicing to create a copy of a list?\n",
    "my_list = [4, 5, 6, 7, 8]\n",
    "my_list[0:5]"
   ]
  },
  {
   "cell_type": "code",
   "execution_count": 48,
   "id": "722dcbfe-75bd-48d3-be0f-07c848f00b5a",
   "metadata": {},
   "outputs": [
    {
     "data": {
      "text/plain": [
       "[1, 4]"
      ]
     },
     "execution_count": 48,
     "metadata": {},
     "output_type": "execute_result"
    }
   ],
   "source": [
    "#22. What is the result of my_list[::3] for my_list = [1, 2, 3, 4, 5, 6]?\n",
    "my_list = [1, 2, 3, 4, 5, 6]\n",
    "my_list[::3]"
   ]
  },
  {
   "cell_type": "code",
   "execution_count": 51,
   "id": "0da5bab9-d239-475f-b1a2-911dd5a6da73",
   "metadata": {},
   "outputs": [
    {
     "data": {
      "text/plain": [
       "[2, 3, 4, 5]"
      ]
     },
     "execution_count": 51,
     "metadata": {},
     "output_type": "execute_result"
    }
   ],
   "source": [
    "#23. How can you use slicing to remove the first and last elements of a list?\n",
    "my_list = [1, 2, 3, 4, 5, 6]\n",
    "my_list[1:-1]"
   ]
  },
  {
   "cell_type": "code",
   "execution_count": 52,
   "id": "6520f062-5778-4d14-8568-91eca5550c7b",
   "metadata": {},
   "outputs": [
    {
     "data": {
      "text/plain": [
       "[20, 30, 40]"
      ]
     },
     "execution_count": 52,
     "metadata": {},
     "output_type": "execute_result"
    }
   ],
   "source": [
    "#24. What is the result of my_list[1:-1] if my_list = [10, 20, 30, 40, 50]?\n",
    "my_list = [10, 20, 30, 40, 50]\n",
    "my_list[1:-1]"
   ]
  },
  {
   "cell_type": "code",
   "execution_count": 55,
   "id": "52696226-3820-4723-860a-54cdf90d12d5",
   "metadata": {},
   "outputs": [
    {
     "data": {
      "text/plain": [
       "[]"
      ]
     },
     "execution_count": 55,
     "metadata": {},
     "output_type": "execute_result"
    }
   ],
   "source": [
    "#25. How can you check if a list is empty using slicing?\n",
    "my_list = [1, 2, 3, 4, 5, 6]\n",
    "my_list[-1:-2]"
   ]
  },
  {
   "cell_type": "code",
   "execution_count": 57,
   "id": "6d47945c-4709-45b9-a5a2-a5456d049ad0",
   "metadata": {},
   "outputs": [
    {
     "data": {
      "text/plain": [
       "[2, 3, 4]"
      ]
     },
     "execution_count": 57,
     "metadata": {},
     "output_type": "execute_result"
    }
   ],
   "source": [
    "#26. What does my_list[2:-2] return for my_list = [0, 1, 2, 3, 4, 5, 6]?\n",
    "my_list = [0, 1, 2, 3, 4, 5, 6]\n",
    "my_list[2:-2]"
   ]
  },
  {
   "cell_type": "code",
   "execution_count": 68,
   "id": "5eb0873b-24bb-4c24-9761-e49de7c4545a",
   "metadata": {},
   "outputs": [
    {
     "data": {
      "text/plain": [
       "[[1, 2, 3, 4], [7, 8, 9]]"
      ]
     },
     "execution_count": 68,
     "metadata": {},
     "output_type": "execute_result"
    }
   ],
   "source": [
    "#27. How do list slicing and indexing differ when used with multidimensional lists?\n",
    "list = [[1,2,3,4],[1,2,3,4],[7,8,9]]\n",
    "list[1][2]\n",
    "list[1:3]"
   ]
  },
  {
   "cell_type": "code",
   "execution_count": 67,
   "id": "2b9607ff-bf97-4027-a497-0bd5deafc940",
   "metadata": {},
   "outputs": [
    {
     "data": {
      "text/plain": [
       "[0, 1, 2, 3, 4, 5, 6]"
      ]
     },
     "execution_count": 67,
     "metadata": {},
     "output_type": "execute_result"
    }
   ],
   "source": [
    "#28. What is the result of my_list[::]?\n",
    "my_list[::]"
   ]
  },
  {
   "cell_type": "code",
   "execution_count": 70,
   "id": "458912c1-047a-4e9c-8519-83d610651cf8",
   "metadata": {},
   "outputs": [
    {
     "data": {
      "text/plain": [
       "[3, 4, 5]"
      ]
     },
     "execution_count": 70,
     "metadata": {},
     "output_type": "execute_result"
    }
   ],
   "source": [
    "#29. How do you use slicing to obtain a specific part of a list from a specific start and end index?\n",
    "l=[0, 1, 2, 3, 4, 5, 6]\n",
    "l[3:6]"
   ]
  },
  {
   "cell_type": "code",
   "execution_count": 73,
   "id": "abf9ace6-6ea1-4015-9156-8592dc934fc8",
   "metadata": {},
   "outputs": [],
   "source": [
    "#30. How can you combine slices to extract different non-contiguous parts of a list?\n",
    "#combination of indexing and slicing"
   ]
  },
  {
   "cell_type": "code",
   "execution_count": null,
   "id": "5840789b-eb20-4c71-8acd-d1c0704df898",
   "metadata": {},
   "outputs": [],
   "source": []
  }
 ],
 "metadata": {
  "kernelspec": {
   "display_name": "Python 3 (ipykernel)",
   "language": "python",
   "name": "python3"
  },
  "language_info": {
   "codemirror_mode": {
    "name": "ipython",
    "version": 3
   },
   "file_extension": ".py",
   "mimetype": "text/x-python",
   "name": "python",
   "nbconvert_exporter": "python",
   "pygments_lexer": "ipython3",
   "version": "3.12.4"
  }
 },
 "nbformat": 4,
 "nbformat_minor": 5
}
