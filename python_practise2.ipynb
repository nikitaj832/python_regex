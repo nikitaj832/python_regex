{
 "cells": [
  {
   "cell_type": "code",
   "execution_count": 1,
   "id": "c1bf8121-1f19-4d4c-a83d-2a8498b9fde9",
   "metadata": {},
   "outputs": [
    {
     "name": "stdout",
     "output_type": "stream",
     "text": [
      "[0, 1, 2]\n",
      "[0, 3, 4]\n",
      "[1, 2, 4]\n"
     ]
    }
   ],
   "source": [
    "nums = [-1,0,1,2,-1,-4]\n",
    "target =0\n",
    "for i in range(len(nums)-2):\n",
    "    for j in range(i+1,len(nums)-1):\n",
    "        for k in range(j+1,len(nums)):\n",
    "            if nums[i]+nums[j]+nums[k] ==target:\n",
    "                print([i,j,k])"
   ]
  },
  {
   "cell_type": "code",
   "execution_count": 5,
   "id": "ea0d9be2-eb66-4f48-bd57-6aa593bde9b8",
   "metadata": {},
   "outputs": [
    {
     "data": {
      "text/plain": [
       "[1, 2, 4, 5, 7, 36]"
      ]
     },
     "execution_count": 5,
     "metadata": {},
     "output_type": "execute_result"
    }
   ],
   "source": [
    "mylist =[1,2,4,5,7,36]\n",
    "start =0\n",
    "end =len(mylist)-1\n",
    "target =9\n",
    "mylist"
   ]
  },
  {
   "cell_type": "code",
   "execution_count": 4,
   "id": "7426256f-53ca-480c-9ada-76809269e373",
   "metadata": {},
   "outputs": [
    {
     "data": {
      "text/plain": [
       "[[-1, -1, 2], [-1, 0, 1], [-1, 0, 1]]"
      ]
     },
     "execution_count": 4,
     "metadata": {},
     "output_type": "execute_result"
    }
   ],
   "source": [
    "nums = [-1,0,1,2,-1,-4]\n",
    "s=[]\n",
    "nums.sort()\n",
    "for i in range(len(nums)-2):\n",
    "    start =i+1\n",
    "    end = len(nums)-1\n",
    "    while(start < end):\n",
    "        if nums[i]+nums[start]+nums[end] ==0:\n",
    "            s.append([nums[i],nums[start] ,nums[end]])\n",
    "            start+=1\n",
    "            end-=1\n",
    "        elif  (nums[i]+nums[start]+nums[end] > 0):\n",
    "            end -=1\n",
    "        else:\n",
    "            start+=1\n",
    "s\n"
   ]
  },
  {
   "cell_type": "code",
   "execution_count": 65,
   "id": "e71583f3-5b14-49ff-b7d3-68d2fa56c809",
   "metadata": {},
   "outputs": [
    {
     "data": {
      "text/plain": [
       "{10: 'isha', 'rolln': [90, 100]}"
      ]
     },
     "execution_count": 65,
     "metadata": {},
     "output_type": "execute_result"
    }
   ],
   "source": [
    "mydict = {10: \"isha\",\"rolln\":[90,100]}\n",
    "mydict"
   ]
  },
  {
   "cell_type": "code",
   "execution_count": 67,
   "id": "7bcf9e9c-565d-4c10-acbe-80e44de4180f",
   "metadata": {},
   "outputs": [],
   "source": [
    "mydict[\"rolln\"] =99"
   ]
  },
  {
   "cell_type": "code",
   "execution_count": 69,
   "id": "683fa36e-41e8-4423-872e-90fe5d41205e",
   "metadata": {},
   "outputs": [
    {
     "data": {
      "text/plain": [
       "{10: 'isha', 'rolln': 99}"
      ]
     },
     "execution_count": 69,
     "metadata": {},
     "output_type": "execute_result"
    }
   ],
   "source": [
    "mydict"
   ]
  },
  {
   "cell_type": "code",
   "execution_count": 79,
   "id": "93f79cbc-14da-471d-bd4a-270fde54dab4",
   "metadata": {},
   "outputs": [
    {
     "name": "stdout",
     "output_type": "stream",
     "text": [
      "{10: 'isha'} ('rolln', [90, 100])\n"
     ]
    }
   ],
   "source": [
    "mydict = {10: \"isha\",\"rolln\":[90,100]}\n",
    "# mydict.pop(10)\n",
    "y=mydict.popitem()\n",
    "print(mydict,y)"
   ]
  },
  {
   "cell_type": "code",
   "execution_count": 87,
   "id": "067dbe1c-c2c8-4c4b-ad82-07e3cbe8c902",
   "metadata": {},
   "outputs": [
    {
     "data": {
      "text/plain": [
       "{10: 'isha', 20: 'aman'}"
      ]
     },
     "execution_count": 87,
     "metadata": {},
     "output_type": "execute_result"
    }
   ],
   "source": [
    "data =[(10,'isha'),(20,'aman')]\n",
    "dict(data)"
   ]
  },
  {
   "cell_type": "code",
   "execution_count": 53,
   "id": "c4c8070e-99d9-4529-b72e-3d5b94461fa9",
   "metadata": {},
   "outputs": [
    {
     "data": {
      "text/plain": [
       "654"
      ]
     },
     "execution_count": 53,
     "metadata": {},
     "output_type": "execute_result"
    }
   ],
   "source": [
    "list =[10,25,14,6,8,7,78,52,8,654,1,5,2,0]\n",
    "k =2\n",
    "max =1\n",
    "for i in list:\n",
    "    if i>max:\n",
    "        max=i\n",
    "max"
   ]
  },
  {
   "cell_type": "code",
   "execution_count": 8,
   "id": "f18e490f-cbd6-4a22-8b72-44bd7035ce07",
   "metadata": {},
   "outputs": [
    {
     "name": "stdout",
     "output_type": "stream",
     "text": [
      "3 -th highest number: 120\n"
     ]
    }
   ],
   "source": [
    "lst = [10, 25, 14, 6, 8, 78,120,7, 52, 8, 654, 1, 5, 2,100, 0,120 ]\n",
    "k = 3 # Change k to find the k-th highest number\n",
    "\n",
    "# Initialize an empty list to store top k elements\n",
    "top_k = [-float('inf')] * k  \n",
    "\n",
    "for num in lst:\n",
    "    for i in range(k):\n",
    "        if num > top_k[i]:\n",
    "            # Shift elements to the right\n",
    "            j = k - 1\n",
    "            while j > i:\n",
    "                top_k[j] = top_k[j - 1]\n",
    "                j -= 1\n",
    "            top_k[i] = num\n",
    "            break  # Move to the next number after inserting\n",
    "\n",
    "# The k-th highest number is at the last index of top_k\n",
    "print(k, \"-th highest number:\", top_k[-1])"
   ]
  },
  {
   "cell_type": "code",
   "execution_count": 14,
   "id": "899c5659-419b-4166-85ad-bbe6e41a4689",
   "metadata": {},
   "outputs": [
    {
     "data": {
      "text/plain": [
       "[2, 3, 4, 5, 6, 7]"
      ]
     },
     "execution_count": 14,
     "metadata": {},
     "output_type": "execute_result"
    }
   ],
   "source": [
    "l =[i for i in range(2,8)]\n",
    "l"
   ]
  },
  {
   "cell_type": "code",
   "execution_count": 30,
   "id": "85f06c5b-2b2c-41e4-ad00-e7d73915f293",
   "metadata": {},
   "outputs": [
    {
     "data": {
      "text/plain": [
       "['2', '5', '6', '4', '6', '2', '5', '3']"
      ]
     },
     "execution_count": 30,
     "metadata": {},
     "output_type": "execute_result"
    }
   ],
   "source": [
    "l =25646253\n",
    "li=[]\n",
    "for i in str(l):\n",
    "    for j in i:\n",
    "        li.append(j)\n",
    "li\n",
    "\n",
    "\n",
    "    \n",
    "    "
   ]
  },
  {
   "cell_type": "code",
   "execution_count": 50,
   "id": "5eb6ec7e-d837-4a37-90b6-11854e674ad9",
   "metadata": {},
   "outputs": [
    {
     "name": "stdout",
     "output_type": "stream",
     "text": [
      "4 5\n"
     ]
    }
   ],
   "source": [
    "a =[1,2,3,4,5,6]\n",
    "mid =len(a)//2\n",
    "if len(a)%2==0:\n",
    "    print(a[mid],a[mid+1])\n",
    "else:\n",
    "    print"
   ]
  },
  {
   "cell_type": "code",
   "execution_count": 56,
   "id": "b3ebe465-ac78-49a2-a3e1-2f75585a3b9a",
   "metadata": {},
   "outputs": [
    {
     "name": "stdout",
     "output_type": "stream",
     "text": [
      "XLI\n"
     ]
    }
   ],
   "source": [
    "num =41 # Example input\n",
    "\n",
    "roman_dict = {\n",
    "    1000: \"M\", 900: \"CM\", 500: \"D\", 400: \"CD\",\n",
    "    100: \"C\", 90: \"XC\", 50: \"L\", 40: \"XL\",\n",
    "    10: \"X\", 9: \"IX\", 5: \"V\", 4: \"IV\", 1: \"I\"\n",
    "}\n",
    "\n",
    "roman_numeral = \"\"\n",
    "\n",
    "for value, symbol in roman_dict.items():\n",
    "    while num >= value:\n",
    "        roman_numeral += symbol\n",
    "        num -= value\n",
    "\n",
    "print(roman_numeral)  # Output: MCMLXXXVII\n"
   ]
  },
  {
   "cell_type": "code",
   "execution_count": 63,
   "id": "8e896e89-44dc-4e17-978d-d0cbb02741b7",
   "metadata": {},
   "outputs": [
    {
     "name": "stdout",
     "output_type": "stream",
     "text": [
      "{10, 35, 20, 30}\n"
     ]
    }
   ],
   "source": [
    "myset = {10,20,30,35,10}\n",
    "print(myset)"
   ]
  },
  {
   "cell_type": "code",
   "execution_count": 67,
   "id": "c587a6df-d794-41f6-8f3f-243c97781839",
   "metadata": {},
   "outputs": [
    {
     "data": {
      "text/plain": [
       "{10, 20, 30, 35, 40}"
      ]
     },
     "execution_count": 67,
     "metadata": {},
     "output_type": "execute_result"
    }
   ],
   "source": [
    "myset.add(40)\n",
    "myset"
   ]
  },
  {
   "cell_type": "code",
   "execution_count": 69,
   "id": "b9602a3c-9f79-434b-9d92-94fbbbcbfc1d",
   "metadata": {},
   "outputs": [
    {
     "data": {
      "text/plain": [
       "{10, 20, 30, 35, 40, 100, 200}"
      ]
     },
     "execution_count": 69,
     "metadata": {},
     "output_type": "execute_result"
    }
   ],
   "source": [
    "myset.update({100,200})\n",
    "myset"
   ]
  },
  {
   "cell_type": "code",
   "execution_count": 71,
   "id": "0dbe8319-50b6-4ef6-acef-f9401c5d5404",
   "metadata": {},
   "outputs": [
    {
     "data": {
      "text/plain": [
       "35"
      ]
     },
     "execution_count": 71,
     "metadata": {},
     "output_type": "execute_result"
    }
   ],
   "source": [
    "myset.pop()"
   ]
  },
  {
   "cell_type": "code",
   "execution_count": 73,
   "id": "bdcf1187-5b04-4352-b69c-76d0b3667ae4",
   "metadata": {},
   "outputs": [],
   "source": [
    "myset.remove(100)"
   ]
  },
  {
   "cell_type": "code",
   "execution_count": 75,
   "id": "575ec0e3-b6f8-435e-bb6f-8a844f34c740",
   "metadata": {},
   "outputs": [
    {
     "data": {
      "text/plain": [
       "{10, 20, 30, 40, 200}"
      ]
     },
     "execution_count": 75,
     "metadata": {},
     "output_type": "execute_result"
    }
   ],
   "source": [
    "myset"
   ]
  },
  {
   "cell_type": "code",
   "execution_count": 114,
   "id": "819794ab-8c75-409c-bffb-af8fc6408173",
   "metadata": {},
   "outputs": [
    {
     "data": {
      "text/plain": [
       "{10, 20, 30, 40, 50}"
      ]
     },
     "execution_count": 114,
     "metadata": {},
     "output_type": "execute_result"
    }
   ],
   "source": [
    "myset={10,20,30,40,50}\n",
    "myset2 ={30,40,50}\n",
    "myset.union(myset2)"
   ]
  },
  {
   "cell_type": "code",
   "execution_count": 115,
   "id": "f10cc02d-6274-4692-97a3-10804870d5f4",
   "metadata": {},
   "outputs": [
    {
     "data": {
      "text/plain": [
       "{30, 40, 50}"
      ]
     },
     "execution_count": 115,
     "metadata": {},
     "output_type": "execute_result"
    }
   ],
   "source": [
    "myset&myset2"
   ]
  },
  {
   "cell_type": "code",
   "execution_count": 117,
   "id": "71a38305-378e-4326-af36-82f32d3584d6",
   "metadata": {},
   "outputs": [
    {
     "data": {
      "text/plain": [
       "{10, 20}"
      ]
     },
     "execution_count": 117,
     "metadata": {},
     "output_type": "execute_result"
    }
   ],
   "source": [
    "myset.difference(myset2)"
   ]
  },
  {
   "cell_type": "code",
   "execution_count": 118,
   "id": "e50b8b57-0dc9-495a-8ee4-aff61a99b08e",
   "metadata": {},
   "outputs": [
    {
     "data": {
      "text/plain": [
       "False"
      ]
     },
     "execution_count": 118,
     "metadata": {},
     "output_type": "execute_result"
    }
   ],
   "source": [
    "myset.issubset(myset2)"
   ]
  },
  {
   "cell_type": "code",
   "execution_count": 120,
   "id": "9fcb6274-e618-4e2e-a153-3bdb1af6f84f",
   "metadata": {},
   "outputs": [
    {
     "data": {
      "text/plain": [
       "True"
      ]
     },
     "execution_count": 120,
     "metadata": {},
     "output_type": "execute_result"
    }
   ],
   "source": [
    "myset.issuperset(myset2)"
   ]
  },
  {
   "cell_type": "code",
   "execution_count": 126,
   "id": "37bdcf4d-6ffa-4ab1-b86f-d76b91c1d676",
   "metadata": {},
   "outputs": [
    {
     "data": {
      "text/plain": [
       "[1, 2, 3, 4, 5, 6, 7, 8, 9]"
      ]
     },
     "execution_count": 126,
     "metadata": {},
     "output_type": "execute_result"
    }
   ],
   "source": [
    "[i for i in range(1,10)]"
   ]
  },
  {
   "cell_type": "code",
   "execution_count": 128,
   "id": "eb2fc7a7-ba99-4908-8435-d03c6ee7eb79",
   "metadata": {},
   "outputs": [
    {
     "data": {
      "text/plain": [
       "{1, 2, 3, 4, 5, 6, 7, 8, 9}"
      ]
     },
     "execution_count": 128,
     "metadata": {},
     "output_type": "execute_result"
    }
   ],
   "source": [
    "{i for i in range(1,10)}"
   ]
  },
  {
   "cell_type": "code",
   "execution_count": 130,
   "id": "7d9b6dcf-e5f1-4fb6-b415-ba9e1cc7e5d5",
   "metadata": {},
   "outputs": [
    {
     "data": {
      "text/plain": [
       "{1: 1, 2: 1, 3: 1, 4: 1, 5: 1, 6: 1, 7: 1, 8: 1, 9: 1}"
      ]
     },
     "execution_count": 130,
     "metadata": {},
     "output_type": "execute_result"
    }
   ],
   "source": [
    "{i:1 for i in range(1,10)}"
   ]
  },
  {
   "cell_type": "code",
   "execution_count": 132,
   "id": "a9156b7c-c0c4-4f4a-8b1f-4d9e8b86c156",
   "metadata": {},
   "outputs": [
    {
     "data": {
      "text/plain": [
       "[2, 4, 6, 8]"
      ]
     },
     "execution_count": 132,
     "metadata": {},
     "output_type": "execute_result"
    }
   ],
   "source": [
    "[i for i in range(1,10) if i%2==0]"
   ]
  },
  {
   "cell_type": "code",
   "execution_count": 137,
   "id": "fada339c-2a69-4caa-b87d-ecc412bca2b3",
   "metadata": {},
   "outputs": [
    {
     "data": {
      "text/plain": [
       "True"
      ]
     },
     "execution_count": 137,
     "metadata": {},
     "output_type": "execute_result"
    }
   ],
   "source": [
    "a =[1,2,4,2,5]\n",
    "1 in a"
   ]
  },
  {
   "cell_type": "code",
   "execution_count": 161,
   "id": "264332bb-6487-4625-8de5-73859ca7f3f2",
   "metadata": {},
   "outputs": [],
   "source": [
    "# for i in [1,2,3,4,5]:\n"
   ]
  },
  {
   "cell_type": "code",
   "execution_count": 163,
   "id": "a1d28689-109d-40c6-baab-dc3c1d8aa4f5",
   "metadata": {},
   "outputs": [
    {
     "name": "stdout",
     "output_type": "stream",
     "text": [
      "140734311227464 140734311227464\n"
     ]
    }
   ],
   "source": [
    "x=234\n",
    "b=234\n",
    "print(id(b),id(x))"
   ]
  },
  {
   "cell_type": "code",
   "execution_count": 165,
   "id": "3bcaa75b-ca71-45bf-bb1c-7bc61bb7a6c8",
   "metadata": {},
   "outputs": [
    {
     "name": "stdout",
     "output_type": "stream",
     "text": [
      "2866908263376 2866908264400\n"
     ]
    }
   ],
   "source": [
    "x=259\n",
    "b=259\n",
    "print(id(b),id(x))"
   ]
  },
  {
   "cell_type": "code",
   "execution_count": 170,
   "id": "5151477a-b07a-4c0d-be6a-356a1b692973",
   "metadata": {},
   "outputs": [
    {
     "name": "stdout",
     "output_type": "stream",
     "text": [
      "2866908264400 2866908264400\n"
     ]
    },
    {
     "data": {
      "text/plain": [
       "True"
      ]
     },
     "execution_count": 170,
     "metadata": {},
     "output_type": "execute_result"
    }
   ],
   "source": [
    "x =258\n",
    "a=x\n",
    "print(id(a),id(x))\n",
    "a is x"
   ]
  },
  {
   "cell_type": "code",
   "execution_count": 174,
   "id": "585718df-962e-4a63-b4ad-01712af463fe",
   "metadata": {},
   "outputs": [],
   "source": [
    "# functions"
   ]
  },
  {
   "cell_type": "code",
   "execution_count": 183,
   "id": "a99e59b7-22ae-4f44-b642-228bbac25ece",
   "metadata": {},
   "outputs": [
    {
     "name": "stdout",
     "output_type": "stream",
     "text": [
      "hey\n",
      "hey\n",
      "hey\n"
     ]
    },
    {
     "data": {
      "text/plain": [
       "'hello'"
      ]
     },
     "execution_count": 183,
     "metadata": {},
     "output_type": "execute_result"
    }
   ],
   "source": [
    "def func():\n",
    "    print('hey')\n",
    "    return \"hello\"\n",
    "\n",
    "func()\n",
    "func()\n",
    "func()"
   ]
  },
  {
   "cell_type": "code",
   "execution_count": 189,
   "id": "a75bf2d6-0b67-4745-9b06-2ddd1d7dc613",
   "metadata": {},
   "outputs": [
    {
     "name": "stdout",
     "output_type": "stream",
     "text": [
      "hey niki\n"
     ]
    }
   ],
   "source": [
    "def func():\n",
    "    x=\"niki\"\n",
    "    print('hey',x)\n",
    "\n",
    "func()"
   ]
  },
  {
   "cell_type": "code",
   "execution_count": 199,
   "id": "6dfc4ff3-d41d-4721-bfce-139088a81044",
   "metadata": {},
   "outputs": [
    {
     "name": "stdout",
     "output_type": "stream",
     "text": [
      "hey niki 20\n",
      "20\n"
     ]
    }
   ],
   "source": [
    "y =20\n",
    "def func():\n",
    "    x=\"niki\"\n",
    "    print('hey',x,y)\n",
    "\n",
    "func()\n",
    "print(y)"
   ]
  },
  {
   "cell_type": "code",
   "execution_count": 201,
   "id": "8b33951b-d04a-42fe-8910-adc7350fc3d6",
   "metadata": {},
   "outputs": [
    {
     "name": "stdout",
     "output_type": "stream",
     "text": [
      "hey niki 10\n",
      "20\n"
     ]
    }
   ],
   "source": [
    "y =20\n",
    "def func():\n",
    "    y=10\n",
    "    x=\"niki\"\n",
    "    print('hey',x,y)\n",
    "\n",
    "func()\n",
    "print(y)"
   ]
  },
  {
   "cell_type": "code",
   "execution_count": 211,
   "id": "b7b98f42-0692-4468-b55c-66799bb88e1b",
   "metadata": {},
   "outputs": [
    {
     "name": "stdout",
     "output_type": "stream",
     "text": [
      "hey niki 400\n",
      "400\n"
     ]
    }
   ],
   "source": [
    "y =20\n",
    "def func():\n",
    "    global y\n",
    "    x=\"niki\"\n",
    "    y=400\n",
    "    print('hey',x,y)\n",
    "\n",
    "func()\n",
    "print(y)\n"
   ]
  },
  {
   "cell_type": "code",
   "execution_count": 225,
   "id": "08069998-7cb7-4b0e-bf14-bd53a680f354",
   "metadata": {},
   "outputs": [
    {
     "name": "stdin",
     "output_type": "stream",
     "text": [
      " hi\n"
     ]
    },
    {
     "name": "stdout",
     "output_type": "stream",
     "text": [
      "hey hi\n"
     ]
    }
   ],
   "source": [
    "def func():\n",
    "    x=input()\n",
    "    print('hey',x)\n",
    "\n",
    "func()\n",
    "    "
   ]
  },
  {
   "cell_type": "code",
   "execution_count": 229,
   "id": "6fc45f87-b989-41d2-b65c-ca6058087a03",
   "metadata": {},
   "outputs": [
    {
     "name": "stdin",
     "output_type": "stream",
     "text": [
      " efhuej\n"
     ]
    },
    {
     "name": "stdout",
     "output_type": "stream",
     "text": [
      "hey efhuej\n"
     ]
    }
   ],
   "source": [
    "def func():\n",
    "    x=input()\n",
    "    print('hey',x)\n",
    "\n",
    "func()\n",
    "    "
   ]
  },
  {
   "cell_type": "code",
   "execution_count": 241,
   "id": "46922bd7-55fb-483c-80cc-16c848e574a2",
   "metadata": {},
   "outputs": [
    {
     "name": "stdout",
     "output_type": "stream",
     "text": [
      "45\n"
     ]
    }
   ],
   "source": [
    "# type hinting\n",
    "def func(z:int)-> str:\n",
    "    print(z)\n",
    "\n",
    "func(45)"
   ]
  },
  {
   "cell_type": "code",
   "execution_count": 247,
   "id": "c5f7c11d-18f7-4083-9f5d-696c28c10abf",
   "metadata": {},
   "outputs": [
    {
     "name": "stdout",
     "output_type": "stream",
     "text": [
      "45 46\n"
     ]
    }
   ],
   "source": [
    "def func(z:int ,k:str)-> str:   # parameter \n",
    "    print(z,k)\n",
    "\n",
    "func(45,46) # argument"
   ]
  },
  {
   "cell_type": "code",
   "execution_count": null,
   "id": "0fbda5de-296e-4207-9695-8892382bbc43",
   "metadata": {},
   "outputs": [],
   "source": []
  },
  {
   "cell_type": "code",
   "execution_count": 7,
   "id": "ac2c93ca-a8ab-4704-ac94-73b11fcc6440",
   "metadata": {},
   "outputs": [
    {
     "name": "stdout",
     "output_type": "stream",
     "text": [
      "(19,)\n",
      "(10, 4, 3, 6, 3)\n"
     ]
    }
   ],
   "source": [
    "# *arts => variable length argument\n",
    "def func(*a):\n",
    "    print(a)\n",
    "func(19)\n",
    "func(10,4,3,6,3)"
   ]
  },
  {
   "cell_type": "code",
   "execution_count": 17,
   "id": "50ae9f12-eec4-43f6-89bc-1816ded6c262",
   "metadata": {},
   "outputs": [
    {
     "name": "stdout",
     "output_type": "stream",
     "text": [
      "{'a': 10, 'b': 4, 'c': 3, 'd': 6, 'e': 3}\n"
     ]
    }
   ],
   "source": [
    "# ** kwargs => keyword variable length argument\n",
    "def func(**a):\n",
    "    print(a)\n",
    "func(a=10,b=4,c=3,d=6,e=3)"
   ]
  },
  {
   "cell_type": "code",
   "execution_count": 26,
   "id": "824a9cf3-7e93-4128-a8b4-402975731f6b",
   "metadata": {},
   "outputs": [
    {
     "name": "stdout",
     "output_type": "stream",
     "text": [
      "<function func at 0x0000016827AB3920> <function func at 0x0000016827AB3920>\n",
      "hey\n"
     ]
    }
   ],
   "source": [
    "# first class function\n",
    "def func():\n",
    "    print('hey')\n",
    "a=func\n",
    "print(func,a)\n",
    "a()"
   ]
  },
  {
   "cell_type": "code",
   "execution_count": 42,
   "id": "e0903c57-a31f-4013-b438-74bb0f54deba",
   "metadata": {},
   "outputs": [
    {
     "name": "stdout",
     "output_type": "stream",
     "text": [
      "regex <function test at 0x00000168264045E0>\n",
      "tests\n",
      "regex 1\n"
     ]
    }
   ],
   "source": [
    "# high order functioon\n",
    "\n",
    "def test():\n",
    "    print('tests')\n",
    "def regex(x):\n",
    "    print('regex',x)\n",
    "\n",
    "regex(test)\n",
    "test() \n",
    "regex(1)"
   ]
  },
  {
   "cell_type": "code",
   "execution_count": 48,
   "id": "47c39e3c-5797-46cd-8187-d46c2f83307d",
   "metadata": {},
   "outputs": [
    {
     "name": "stdout",
     "output_type": "stream",
     "text": [
      "<function <lambda> at 0x0000016828BC6D40>\n"
     ]
    }
   ],
   "source": [
    "# lambda\n",
    "# annymus\n",
    "print(lambda x:\"abc\")"
   ]
  },
  {
   "cell_type": "code",
   "execution_count": 54,
   "id": "a18be8f1-893f-49d3-96f4-02e622d3f4c2",
   "metadata": {},
   "outputs": [
    {
     "name": "stdout",
     "output_type": "stream",
     "text": [
      "<function func at 0x0000016827AB3420>\n",
      "abc\n"
     ]
    }
   ],
   "source": [
    "\n",
    "def func():\n",
    "    print(\"abc\")\n",
    "\n",
    "print(func)\n",
    "func()"
   ]
  },
  {
   "cell_type": "code",
   "execution_count": 58,
   "id": "3d5b4325-d9d4-48df-be96-03e49800d2b1",
   "metadata": {},
   "outputs": [
    {
     "data": {
      "text/plain": [
       "'abc'"
      ]
     },
     "execution_count": 58,
     "metadata": {},
     "output_type": "execute_result"
    }
   ],
   "source": [
    "# lambda parameter : expression\n",
    "u1 =lambda x: \"abc\"\n",
    "u1(4)"
   ]
  },
  {
   "cell_type": "code",
   "execution_count": 71,
   "id": "3df1601d-5433-42cc-a210-6070853e3d2f",
   "metadata": {},
   "outputs": [
    {
     "name": "stdout",
     "output_type": "stream",
     "text": [
      "y\n"
     ]
    }
   ],
   "source": [
    "def func(x):\n",
    "    print(x[-1])\n",
    "func(\"hey\")"
   ]
  },
  {
   "cell_type": "code",
   "execution_count": 79,
   "id": "b90e5188-0ae9-4c93-a824-54106fdc0f0c",
   "metadata": {},
   "outputs": [
    {
     "name": "stdout",
     "output_type": "stream",
     "text": [
      "inside =>  this\n"
     ]
    }
   ],
   "source": [
    "def func(x):\n",
    "    print(\"inside => \",x.split(\" \")[-1])\n",
    "func(\"hey regex this\")"
   ]
  },
  {
   "cell_type": "code",
   "execution_count": 81,
   "id": "50d05c34-1d8e-4872-9f7c-f42a7b507570",
   "metadata": {},
   "outputs": [
    {
     "data": {
      "text/plain": [
       "'this'"
      ]
     },
     "execution_count": 81,
     "metadata": {},
     "output_type": "execute_result"
    }
   ],
   "source": [
    "u2 =lambda x: x.split(\" \")[-1]\n",
    "u2(\"hey regec this\")"
   ]
  },
  {
   "cell_type": "code",
   "execution_count": 87,
   "id": "b63558d1-9b70-4277-9c5c-10f4cc5448a8",
   "metadata": {},
   "outputs": [
    {
     "data": {
      "text/plain": [
       "['this', 'regec', 'hey']"
      ]
     },
     "execution_count": 87,
     "metadata": {},
     "output_type": "execute_result"
    }
   ],
   "source": [
    "u2 =lambda x: x.split(\" \")[::-1]\n",
    "u2(\"hey regec this\")"
   ]
  },
  {
   "cell_type": "code",
   "execution_count": 99,
   "id": "b4f80202-5940-4778-9ce2-79f2863790a5",
   "metadata": {},
   "outputs": [
    {
     "name": "stdout",
     "output_type": "stream",
     "text": [
      "here ['Niki', 'hello'] hey\n"
     ]
    }
   ],
   "source": [
    "mylist = \"hey Niki hello here\".split(\" \")\n",
    "print(mylist[-1],mylist[1:len(mylist)-1] ,mylist[0])"
   ]
  },
  {
   "cell_type": "code",
   "execution_count": 101,
   "id": "74821ac3-bac7-48f9-8454-4d3e8c3c8fea",
   "metadata": {},
   "outputs": [
    {
     "data": {
      "text/plain": [
       "'hey user'"
      ]
     },
     "execution_count": 101,
     "metadata": {},
     "output_type": "execute_result"
    }
   ],
   "source": [
    "\"\".join([\"hey user\"])"
   ]
  },
  {
   "cell_type": "code",
   "execution_count": 111,
   "id": "c3fbcaf6-38c6-4459-a40a-004b61df9ef1",
   "metadata": {},
   "outputs": [
    {
     "name": "stdout",
     "output_type": "stream",
     "text": [
      "in 24\n",
      "None\n"
     ]
    }
   ],
   "source": [
    "# return\n",
    "def func(a):\n",
    "    print(\"in\",a+5)\n",
    "\n",
    "print(func(19))"
   ]
  },
  {
   "cell_type": "code",
   "execution_count": 113,
   "id": "93f93d46-406b-4132-b0cc-2ef45313034d",
   "metadata": {},
   "outputs": [
    {
     "name": "stdout",
     "output_type": "stream",
     "text": [
      "in 24\n",
      "21\n"
     ]
    }
   ],
   "source": [
    "# return\n",
    "def func(a):\n",
    "    print(\"in\",a+5)\n",
    "    return a+2\n",
    "print(func(19))"
   ]
  },
  {
   "cell_type": "code",
   "execution_count": 115,
   "id": "0f2dc42f-3324-4191-ba89-b39490eb12f0",
   "metadata": {},
   "outputs": [
    {
     "name": "stdout",
     "output_type": "stream",
     "text": [
      "23\n"
     ]
    }
   ],
   "source": [
    "def func(a):\n",
    "    return a+5\n",
    "\n",
    "out =func(18)\n",
    "print(out)"
   ]
  },
  {
   "cell_type": "code",
   "execution_count": 117,
   "id": "4876cf83-8d37-4643-b668-4911a3fefead",
   "metadata": {},
   "outputs": [],
   "source": [
    "def func(a):\n",
    "    return a+5"
   ]
  },
  {
   "cell_type": "code",
   "execution_count": 123,
   "id": "71fc8606-8366-46ce-b107-c48066510854",
   "metadata": {},
   "outputs": [
    {
     "data": {
      "text/plain": [
       "15"
      ]
     },
     "execution_count": 123,
     "metadata": {},
     "output_type": "execute_result"
    }
   ],
   "source": [
    "# map\n",
    "mylist =[10,12,3,5,123]\n",
    "next(map(func ,mylist))"
   ]
  },
  {
   "cell_type": "code",
   "execution_count": 129,
   "id": "f44beb02-07f6-465e-9589-affbf0ec3e82",
   "metadata": {},
   "outputs": [
    {
     "name": "stdout",
     "output_type": "stream",
     "text": [
      "15\n",
      "17\n"
     ]
    }
   ],
   "source": [
    "mylist =[10,12,3,5,123]\n",
    "x=map(func ,mylist)\n",
    "print(next(x))\n",
    "print(next(x))"
   ]
  },
  {
   "cell_type": "code",
   "execution_count": 135,
   "id": "3a04753d-4dd6-4150-9176-601cefa8a66e",
   "metadata": {},
   "outputs": [
    {
     "name": "stdout",
     "output_type": "stream",
     "text": [
      "15\n",
      "17\n"
     ]
    }
   ],
   "source": [
    "mylist =[10,12,3,5,123]\n",
    "x=map(lambda a: a+5,mylist)\n",
    "print(next(x))\n",
    "print(next(x))"
   ]
  },
  {
   "cell_type": "code",
   "execution_count": 142,
   "id": "b6e67325-6cdb-4433-90d3-a6ea4ba227a1",
   "metadata": {},
   "outputs": [
    {
     "name": "stdout",
     "output_type": "stream",
     "text": [
      "True\n",
      "True\n",
      "False\n"
     ]
    }
   ],
   "source": [
    "mylist =[10,12,3,5,123]\n",
    "x=map(lambda a: a%2==0,mylist)\n",
    "print(next(x))\n",
    "print(next(x))\n",
    "print(next(x))"
   ]
  },
  {
   "cell_type": "code",
   "execution_count": 146,
   "id": "ff9f69f8-ccf8-4de3-bafb-ab40f52b5a98",
   "metadata": {},
   "outputs": [
    {
     "data": {
      "text/plain": [
       "[True, True, False, False, True, False]"
      ]
     },
     "execution_count": 146,
     "metadata": {},
     "output_type": "execute_result"
    }
   ],
   "source": [
    "mylist =[10,12,3,5,12,63]\n",
    "list(map(lambda a: a%2==0,mylist))\n"
   ]
  },
  {
   "cell_type": "code",
   "execution_count": 148,
   "id": "dd043b44-663e-40ab-bd59-9ef0330b84cb",
   "metadata": {},
   "outputs": [
    {
     "data": {
      "text/plain": [
       "[10, 12, 12]"
      ]
     },
     "execution_count": 148,
     "metadata": {},
     "output_type": "execute_result"
    }
   ],
   "source": [
    "mylist =[10,12,3,5,12,63]\n",
    "list(filter(lambda a: a%2==0,mylist))"
   ]
  },
  {
   "cell_type": "code",
   "execution_count": 21,
   "id": "ab445893-9e69-49c0-a62e-8432f0e79587",
   "metadata": {},
   "outputs": [
    {
     "name": "stdout",
     "output_type": "stream",
     "text": [
      "abc\n"
     ]
    }
   ],
   "source": [
    "def func():\n",
    "    return \"abc\"\n",
    "    print('hey')\n",
    "\n",
    "x=func()\n",
    "print(x)"
   ]
  },
  {
   "cell_type": "code",
   "execution_count": 57,
   "id": "99fb92d0-caaa-4ba7-823d-9276e3ab725d",
   "metadata": {},
   "outputs": [],
   "source": [
    "# generator\n",
    "def func():\n",
    "    print(\"first\")\n",
    "    yield 1"
   ]
  },
  {
   "cell_type": "code",
   "execution_count": 59,
   "id": "f9964840-fc54-447b-9cf5-45c36462ab56",
   "metadata": {},
   "outputs": [
    {
     "name": "stdout",
     "output_type": "stream",
     "text": [
      "first\n",
      "1\n"
     ]
    }
   ],
   "source": [
    "Gen =func()\n",
    "print(next(Gen))"
   ]
  },
  {
   "cell_type": "code",
   "execution_count": 69,
   "id": "b86e7d8d-4136-4f78-bcab-a37bb57132f1",
   "metadata": {},
   "outputs": [
    {
     "name": "stdout",
     "output_type": "stream",
     "text": [
      "first\n",
      "1\n",
      "sec\n"
     ]
    },
    {
     "ename": "StopIteration",
     "evalue": "",
     "output_type": "error",
     "traceback": [
      "\u001b[1;31m---------------------------------------------------------------------------\u001b[0m",
      "\u001b[1;31mStopIteration\u001b[0m                             Traceback (most recent call last)",
      "Cell \u001b[1;32mIn[69], line 9\u001b[0m\n\u001b[0;32m      7\u001b[0m Gen \u001b[38;5;241m=\u001b[39mfunc()\n\u001b[0;32m      8\u001b[0m \u001b[38;5;28mprint\u001b[39m(\u001b[38;5;28mnext\u001b[39m(Gen))\n\u001b[1;32m----> 9\u001b[0m \u001b[38;5;28mprint\u001b[39m(\u001b[38;5;28mnext\u001b[39m(Gen))\n",
      "\u001b[1;31mStopIteration\u001b[0m: "
     ]
    }
   ],
   "source": [
    "def func():\n",
    "    print(\"first\")\n",
    "    yield 1\n",
    "    print(\"sec\")\n",
    "    # yield 2         # if in last not write yield it will show error(stopiteration)\n",
    "\n",
    "Gen =func()\n",
    "print(next(Gen))\n",
    "print(next(Gen))"
   ]
  },
  {
   "cell_type": "code",
   "execution_count": 71,
   "id": "61edee8f-f5d7-44de-8b22-80dcc0e82d81",
   "metadata": {},
   "outputs": [
    {
     "name": "stdout",
     "output_type": "stream",
     "text": [
      "first\n",
      "1\n",
      "sec\n",
      "2\n"
     ]
    }
   ],
   "source": [
    "def func():\n",
    "    print(\"first\")\n",
    "    yield 1\n",
    "    print(\"sec\")\n",
    "    yield 2\n",
    "\n",
    "Gen =func()\n",
    "print(next(Gen))\n",
    "print(next(Gen))"
   ]
  },
  {
   "cell_type": "code",
   "execution_count": 90,
   "id": "54bf4f4e-5a76-4fe5-b6a3-d0ad42c9eaaa",
   "metadata": {},
   "outputs": [
    {
     "name": "stdout",
     "output_type": "stream",
     "text": [
      "0 1 1 2 3 5 "
     ]
    }
   ],
   "source": [
    "def fab(n):\n",
    "    a,b=0,1\n",
    "    for i in range(1,n+1):\n",
    "        print(a,end = \" \")\n",
    "        a,b = b,a+b\n",
    "fab(6)"
   ]
  },
  {
   "cell_type": "code",
   "execution_count": 106,
   "id": "a5189295-55d8-4b29-bbed-d3d228e10be5",
   "metadata": {},
   "outputs": [
    {
     "name": "stdout",
     "output_type": "stream",
     "text": [
      "0\n",
      "1\n",
      "1\n",
      "2\n",
      "3\n",
      "5\n"
     ]
    }
   ],
   "source": [
    "a=0\n",
    "b=1\n",
    "n=6\n",
    "for I in range(1,n+1):\n",
    "    print(a)\n",
    "    c=a+b\n",
    "    a=b\n",
    "    b=c\n"
   ]
  },
  {
   "cell_type": "code",
   "execution_count": 168,
   "id": "05df0989-f400-4fad-9479-8393e940f3b4",
   "metadata": {},
   "outputs": [
    {
     "name": "stdout",
     "output_type": "stream",
     "text": [
      "0\n",
      "1\n",
      "1\n",
      "2\n",
      "3\n",
      "5\n",
      "8\n"
     ]
    }
   ],
   "source": [
    "def fun(n):\n",
    "    a=0\n",
    "    b=1\n",
    "    for I in range(1,n+1):\n",
    "        yield a\n",
    "        c=a+b\n",
    "        a=b\n",
    "        b=c\n",
    "\n",
    "gen=fun(7)\n",
    "print(next(gen))\n",
    "print(next(gen))\n",
    "print(next(gen))\n",
    "print(next(gen))\n",
    "print(next(gen))\n",
    "print(next(gen))\n",
    "print(next(gen))"
   ]
  },
  {
   "cell_type": "code",
   "execution_count": 170,
   "id": "4313f76d-f2ed-49d4-8341-0f7c497ed716",
   "metadata": {},
   "outputs": [
    {
     "name": "stdout",
     "output_type": "stream",
     "text": [
      "0  1  1  2  3  5  "
     ]
    }
   ],
   "source": [
    "Gen =fun(6)\n",
    "for i in Gen:\n",
    "    print(i,end='  ')"
   ]
  },
  {
   "cell_type": "code",
   "execution_count": 173,
   "id": "2d321454-d90d-4651-be03-9926e9578ef8",
   "metadata": {},
   "outputs": [],
   "source": [
    "# decorators"
   ]
  },
  {
   "cell_type": "code",
   "execution_count": 191,
   "id": "40df0ed8-61bd-46bb-a358-1329a7c43bd9",
   "metadata": {},
   "outputs": [
    {
     "name": "stdout",
     "output_type": "stream",
     "text": [
      "None\n"
     ]
    }
   ],
   "source": [
    "def fun_add(num):\n",
    "    def add_one(n) :\n",
    "        print('n val',n)\n",
    "    \n",
    "x= fun_add\n",
    "print(x(10))"
   ]
  },
  {
   "cell_type": "code",
   "execution_count": 199,
   "id": "897911ac-6a15-4769-801f-279c9e1ccc15",
   "metadata": {},
   "outputs": [
    {
     "name": "stdout",
     "output_type": "stream",
     "text": [
      "abc\n"
     ]
    }
   ],
   "source": [
    "def fun_add(num):\n",
    "    def add_one(n) :\n",
    "        print('n val',n)\n",
    "    return 'abc'\n",
    "x= fun_add\n",
    "print(x(10))"
   ]
  },
  {
   "cell_type": "code",
   "execution_count": 209,
   "id": "efcabd87-c9ea-43df-9e32-c18500147eec",
   "metadata": {},
   "outputs": [
    {
     "name": "stdout",
     "output_type": "stream",
     "text": [
      "n val 5\n",
      "None\n"
     ]
    }
   ],
   "source": [
    "def fun_add(num):\n",
    "    def add_one(n) :\n",
    "        print('n val',n)\n",
    "    return add_one\n",
    "x= fun_add(10)\n",
    "print(x(5))"
   ]
  },
  {
   "cell_type": "code",
   "execution_count": 211,
   "id": "c489efe1-e835-4249-95b1-3a988a7a593a",
   "metadata": {},
   "outputs": [
    {
     "name": "stdout",
     "output_type": "stream",
     "text": [
      "n val 5 10\n",
      "None\n"
     ]
    }
   ],
   "source": [
    "def fun_add(num):\n",
    "    def add_one(n) :\n",
    "        print('n val',n,num)\n",
    "    return add_one\n",
    "x= fun_add(10)\n",
    "print(x(5))"
   ]
  },
  {
   "cell_type": "code",
   "execution_count": 235,
   "id": "947ae174-9991-402c-b2e8-5e53790555da",
   "metadata": {},
   "outputs": [
    {
     "name": "stdout",
     "output_type": "stream",
     "text": [
      "inside add_one fun val--> hey\n",
      "None\n",
      "inside add_one fun val--> hey\n"
     ]
    }
   ],
   "source": [
    "def fun_add(num):\n",
    "    def add_one() :\n",
    "        print('inside add_one fun val-->',num())\n",
    "    return add_one\n",
    "\n",
    "\n",
    "# normal function\n",
    "def test():\n",
    "    return \"hey\"\n",
    "\n",
    "x= fun_add(test)\n",
    "print(x())\n",
    "x()"
   ]
  },
  {
   "cell_type": "code",
   "execution_count": 239,
   "id": "cd815535-58cc-4b97-ba07-9a1f4575392e",
   "metadata": {},
   "outputs": [
    {
     "name": "stdout",
     "output_type": "stream",
     "text": [
      "inside add_one fun val--> HEY\n",
      "None\n",
      "inside add_one fun val--> HEY\n"
     ]
    }
   ],
   "source": [
    "def fun_add(num):\n",
    "    def add_one() :\n",
    "        result=num()\n",
    "        print('inside add_one fun val-->',result.upper())\n",
    "    return add_one\n",
    "\n",
    "\n",
    "# normal function\n",
    "def test():\n",
    "    return \"hey\"\n",
    "\n",
    "x= fun_add(test)\n",
    "print(x())\n",
    "x()"
   ]
  },
  {
   "cell_type": "code",
   "execution_count": 249,
   "id": "1ca8211a-b8f5-452c-83bd-4335e9fccbdd",
   "metadata": {},
   "outputs": [
    {
     "name": "stdout",
     "output_type": "stream",
     "text": [
      "HEY\n"
     ]
    },
    {
     "data": {
      "text/plain": [
       "'HEY'"
      ]
     },
     "execution_count": 249,
     "metadata": {},
     "output_type": "execute_result"
    }
   ],
   "source": [
    "def fun_add(num):\n",
    "    def add_one() :\n",
    "        result=num()\n",
    "        return result.upper()\n",
    "    return add_one\n",
    "\n",
    "\n",
    "# normal function\n",
    "def test():\n",
    "    return \"hey\"\n",
    "\n",
    "x= fun_add(test)\n",
    "print(x())\n",
    "x()"
   ]
  },
  {
   "cell_type": "code",
   "execution_count": 267,
   "id": "6a4bc6a8-8eac-4e9c-a6dc-30fbca3ae7a8",
   "metadata": {},
   "outputs": [
    {
     "data": {
      "text/plain": [
       "'HEY NIKKI'"
      ]
     },
     "execution_count": 267,
     "metadata": {},
     "output_type": "execute_result"
    }
   ],
   "source": [
    "def fun_add(num):\n",
    "    def add_one() :\n",
    "        result=num()\n",
    "        return result.upper()\n",
    "    return add_one\n",
    "\n",
    "\n",
    "#decorator\n",
    "@fun_add\n",
    "def test():\n",
    "    return \"hey nikki\"\n",
    "\n",
    "test()"
   ]
  },
  {
   "cell_type": "code",
   "execution_count": null,
   "id": "60e38888-7e43-4391-b75c-224ebb373af3",
   "metadata": {},
   "outputs": [],
   "source": []
  },
  {
   "cell_type": "code",
   "execution_count": null,
   "id": "0a16b3f2-6437-49d3-b3ad-2dd98f5a9b2b",
   "metadata": {},
   "outputs": [],
   "source": []
  },
  {
   "cell_type": "code",
   "execution_count": null,
   "id": "bba9460f-0533-478a-a237-fa9b10ce77a7",
   "metadata": {},
   "outputs": [],
   "source": []
  },
  {
   "cell_type": "code",
   "execution_count": null,
   "id": "7dcdb28f-269a-4ff1-b264-656a7eddbeb9",
   "metadata": {},
   "outputs": [],
   "source": []
  }
 ],
 "metadata": {
  "kernelspec": {
   "display_name": "Python 3 (ipykernel)",
   "language": "python",
   "name": "python3"
  },
  "language_info": {
   "codemirror_mode": {
    "name": "ipython",
    "version": 3
   },
   "file_extension": ".py",
   "mimetype": "text/x-python",
   "name": "python",
   "nbconvert_exporter": "python",
   "pygments_lexer": "ipython3",
   "version": "3.11.7"
  }
 },
 "nbformat": 4,
 "nbformat_minor": 5
}
