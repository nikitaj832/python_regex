{
 "cells": [
  {
   "cell_type": "code",
   "execution_count": 6,
   "id": "38cca185-e5a6-434b-8887-e70d23fe579a",
   "metadata": {},
   "outputs": [
    {
     "name": "stdout",
     "output_type": "stream",
     "text": [
      "hello\n"
     ]
    }
   ],
   "source": [
    "# FUNCTIONS\n",
    "#code reusability\n",
    "#functions are a block of code that can  be reused again when needed\n",
    "\n",
    "\n",
    "#saves time\n",
    "#lessens the complexity of code\n",
    "#organizes the code\n",
    "\n",
    "#def funtionname(parameters):\n",
    "       #code\n",
    "\n",
    "def greet():\n",
    "    print('hello')\n",
    "\n",
    "greet()"
   ]
  },
  {
   "cell_type": "code",
   "execution_count": 8,
   "id": "f7df4c7b-c262-4c69-bbea-df18a995b087",
   "metadata": {},
   "outputs": [
    {
     "name": "stdout",
     "output_type": "stream",
     "text": [
      "11\n"
     ]
    }
   ],
   "source": [
    "def add(a,b):\n",
    "    print(a+b)\n",
    "add(4,7)"
   ]
  },
  {
   "cell_type": "code",
   "execution_count": 11,
   "id": "f55df7bf-a15c-400c-a98d-56f0072bf388",
   "metadata": {},
   "outputs": [
    {
     "name": "stdout",
     "output_type": "stream",
     "text": [
      "2\n"
     ]
    }
   ],
   "source": [
    "def sub(a,b):\n",
    "    print(a-b)\n",
    "sub(6,4)"
   ]
  },
  {
   "cell_type": "code",
   "execution_count": 13,
   "id": "5685860e-b929-4a0e-b5a8-63598d235203",
   "metadata": {},
   "outputs": [
    {
     "name": "stdout",
     "output_type": "stream",
     "text": [
      "1\n"
     ]
    }
   ],
   "source": [
    "def div(a,b):\n",
    "    print(a//b)\n",
    "div(6,4)\n"
   ]
  },
  {
   "cell_type": "code",
   "execution_count": 15,
   "id": "f1f9544f-425c-4f75-9750-45ca85ad2d85",
   "metadata": {},
   "outputs": [
    {
     "name": "stdout",
     "output_type": "stream",
     "text": [
      "1\n"
     ]
    }
   ],
   "source": [
    "def fl(a,b):\n",
    "    print(a%b)\n",
    "fl(7,2)"
   ]
  },
  {
   "cell_type": "code",
   "execution_count": 17,
   "id": "dc160ed5-5ae1-4373-bc1b-44b95842fe3b",
   "metadata": {},
   "outputs": [
    {
     "name": "stdout",
     "output_type": "stream",
     "text": [
      "81\n"
     ]
    }
   ],
   "source": [
    "def mul(a,b):\n",
    "    print(a*b)\n",
    "mul(9,9)"
   ]
  },
  {
   "cell_type": "code",
   "execution_count": 20,
   "id": "0cbbb47e-1c3b-45d1-bbf6-f9d366214b34",
   "metadata": {},
   "outputs": [
    {
     "name": "stdout",
     "output_type": "stream",
     "text": [
      "35\n"
     ]
    }
   ],
   "source": [
    "def num(a,b,c,d):\n",
    "    print(a*b-c//d)\n",
    "num(5,7,4,8)"
   ]
  },
  {
   "cell_type": "code",
   "execution_count": 22,
   "id": "db83f092-65f4-4755-bc37-e7f99d159906",
   "metadata": {},
   "outputs": [
    {
     "name": "stdout",
     "output_type": "stream",
     "text": [
      "a is greater\n"
     ]
    }
   ],
   "source": [
    "def num(a,b):\n",
    "    if a>b:\n",
    "        print('a is greater')\n",
    "    else:\n",
    "        print('b is greater')\n",
    "num(8,6)"
   ]
  },
  {
   "cell_type": "code",
   "execution_count": 24,
   "id": "45bc1124-a086-4e01-9168-18c426c85deb",
   "metadata": {},
   "outputs": [
    {
     "name": "stdout",
     "output_type": "stream",
     "text": [
      "odd\n"
     ]
    }
   ],
   "source": [
    "def even(a):\n",
    "    if a%2==0:\n",
    "        print('even')\n",
    "    else:\n",
    "        print('odd')\n",
    "even(5)"
   ]
  },
  {
   "cell_type": "code",
   "execution_count": 29,
   "id": "c0738d02-0a86-4550-8f29-8680ff9a8572",
   "metadata": {},
   "outputs": [
    {
     "name": "stdin",
     "output_type": "stream",
     "text": [
      " 10\n"
     ]
    },
    {
     "name": "stdout",
     "output_type": "stream",
     "text": [
      "divide\n"
     ]
    }
   ],
   "source": [
    "n= int(input())\n",
    "def num(n):\n",
    "   if n%5==0:\n",
    "       print('divide')\n",
    "   else:\n",
    "       print('not')\n",
    "num(n)\n",
    "    \n",
    "    "
   ]
  },
  {
   "cell_type": "code",
   "execution_count": 30,
   "id": "f283a973-be5c-4fce-93e0-ed75a0255c38",
   "metadata": {},
   "outputs": [],
   "source": [
    "#types of arugment:\n",
    "#positional argument\n",
    "#keyword arguments\n",
    "#default arguments\n",
    "#positnal vriable length arg\n",
    "#keyword variable length arg\n",
    "#positional only argument\n",
    "#keyword only arg\n",
    "\n"
   ]
  },
  {
   "cell_type": "code",
   "execution_count": 32,
   "id": "0aa77907-c2a9-4264-a4bd-e76f05156958",
   "metadata": {},
   "outputs": [
    {
     "name": "stdout",
     "output_type": "stream",
     "text": [
      "19\n"
     ]
    }
   ],
   "source": [
    "#positioonal arg\n",
    "def sumu(a,b,c):\n",
    "    print(a+b+c)\n",
    "sumu(5,6,8)"
   ]
  },
  {
   "cell_type": "code",
   "execution_count": 34,
   "id": "ff56b59d-577f-4e7e-a7e0-2848adc9cf4d",
   "metadata": {},
   "outputs": [
    {
     "name": "stdout",
     "output_type": "stream",
     "text": [
      "23\n"
     ]
    }
   ],
   "source": [
    "#keyword arg\n",
    "def sumu(a,b,c):\n",
    "    print(a+b+c)\n",
    "sumu(b=9,c=6,a=8)"
   ]
  },
  {
   "cell_type": "code",
   "execution_count": 37,
   "id": "1496736a-47d5-4021-8095-daff1c8b7cf7",
   "metadata": {},
   "outputs": [
    {
     "name": "stdout",
     "output_type": "stream",
     "text": [
      "abc is 19 years old\n"
     ]
    }
   ],
   "source": [
    "#default arg\n",
    "def greet(age,name='abc'):\n",
    "    print(f'{name} is {age} years old')\n",
    "greet(19)"
   ]
  },
  {
   "cell_type": "code",
   "execution_count": 39,
   "id": "ffc50b43-23e6-4da2-b953-4ff9a6b6b3d4",
   "metadata": {},
   "outputs": [
    {
     "name": "stdout",
     "output_type": "stream",
     "text": [
      "nikita is 21 years old\n"
     ]
    }
   ],
   "source": [
    "greet(21,'nikita')"
   ]
  },
  {
   "cell_type": "code",
   "execution_count": 2,
   "id": "e9da2719-4a97-4ff5-afe8-2c62005cc10d",
   "metadata": {},
   "outputs": [
    {
     "name": "stdout",
     "output_type": "stream",
     "text": [
      "136\n"
     ]
    }
   ],
   "source": [
    "#postinal variable length arg\n",
    "def sum1(*args):\n",
    "    print(sum(args))\n",
    "\n",
    "sum1(4,6,4,7,3,67,4,3,2,6,4,7,5,4,7,3)"
   ]
  },
  {
   "cell_type": "code",
   "execution_count": 9,
   "id": "d0d21029-2780-4548-b019-30398c5983e9",
   "metadata": {},
   "outputs": [
    {
     "name": "stdout",
     "output_type": "stream",
     "text": [
      "136\n"
     ]
    }
   ],
   "source": [
    "def sum1(*args):\n",
    "    print(sum(args))\n",
    "\n",
    "sum1(4,6,4,7,3,67,4,3,2,6,4,7,5,4,7,3)\n"
   ]
  },
  {
   "cell_type": "code",
   "execution_count": 63,
   "id": "0a764679-afac-43b4-b8a0-08278b1e946d",
   "metadata": {},
   "outputs": [
    {
     "name": "stdout",
     "output_type": "stream",
     "text": [
      "38\n",
      "not valid\n",
      "-5\n",
      "2960\n",
      "0.005405405405405406\n"
     ]
    }
   ],
   "source": [
    "def op(op,*args):\n",
    "    if op=='add':\n",
    "        a=args[0]\n",
    "        for num in args[1:]:\n",
    "            a=a+num\n",
    "        print(a)\n",
    "    if op == 'sub':\n",
    "        a=args[0]\n",
    "        for num in args[1:]:\n",
    "            a-=num\n",
    "        print(a)\n",
    "    elif op =='mult':\n",
    "        a=args[0]\n",
    "        for num in args[1:]:\n",
    "            a=a*num\n",
    "        print(a)\n",
    "    elif op =='div':\n",
    "        a=args[0]\n",
    "        for num in args[1:]:\n",
    "            a=a/num\n",
    "        print(a)\n",
    "    else:\n",
    "        print('not valid')\n",
    "op('add',6,5,3,6,3,6,3,6)\n",
    "op('sub',3,1,3,4) \n",
    "op('mult',4,5,37,4)\n",
    "op('div',4,5,37,4)"
   ]
  },
  {
   "cell_type": "code",
   "execution_count": 3,
   "id": "d9b7a552-46a5-4224-ba9f-8beb8fca7788",
   "metadata": {},
   "outputs": [
    {
     "name": "stdout",
     "output_type": "stream",
     "text": [
      "name:abc\n",
      "pin:311001\n",
      "age:21\n"
     ]
    }
   ],
   "source": [
    "##keyword variable length arg\n",
    "def info(**kwargs):\n",
    "    for key,values in kwargs.items():\n",
    "        print(f'{key}:{values}')\n",
    "info(name='abc',pin=311001,age=21)"
   ]
  },
  {
   "cell_type": "code",
   "execution_count": null,
   "id": "4b2251b4-0b9e-446c-8f58-5327b57c3f43",
   "metadata": {},
   "outputs": [],
   "source": []
  },
  {
   "cell_type": "code",
   "execution_count": null,
   "id": "ad06f17d-b9cb-4e19-8cf1-90fda4049369",
   "metadata": {},
   "outputs": [],
   "source": []
  }
 ],
 "metadata": {
  "kernelspec": {
   "display_name": "Python 3 (ipykernel)",
   "language": "python",
   "name": "python3"
  },
  "language_info": {
   "codemirror_mode": {
    "name": "ipython",
    "version": 3
   },
   "file_extension": ".py",
   "mimetype": "text/x-python",
   "name": "python",
   "nbconvert_exporter": "python",
   "pygments_lexer": "ipython3",
   "version": "3.12.4"
  }
 },
 "nbformat": 4,
 "nbformat_minor": 5
}
