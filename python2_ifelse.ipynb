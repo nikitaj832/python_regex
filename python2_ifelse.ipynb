{
 "cells": [
  {
   "cell_type": "code",
   "execution_count": 13,
   "id": "31349e3e-7eed-44ee-a5dc-24ee0656305d",
   "metadata": {},
   "outputs": [
    {
     "name": "stdout",
     "output_type": "stream",
     "text": [
      "greater than 5\n",
      "less than 20\n"
     ]
    }
   ],
   "source": [
    "#neseted if else:\n",
    "x=8\n",
    "if x>5:\n",
    "    print(\"greater than 5\")\n",
    "    if x>20:\n",
    "        print(\"less than 20\")\n",
    "    else:\n",
    "        print(\"less than 20\")\n",
    "else:\n",
    "    print(\"less than 5\")"
   ]
  },
  {
   "cell_type": "code",
   "execution_count": 15,
   "id": "b1004562-eded-497c-869e-54b5153fa0aa",
   "metadata": {},
   "outputs": [
    {
     "name": "stdin",
     "output_type": "stream",
     "text": [
      " 56\n",
      "city jaipur\n"
     ]
    },
    {
     "name": "stdout",
     "output_type": "stream",
     "text": [
      "adult\n",
      "belonggs to jaipur\n"
     ]
    }
   ],
   "source": [
    "age =int(input()) \n",
    "city= input(\"city\")\n",
    "if age>18:\n",
    "    print(\"adult\")\n",
    "    if city=='jaipur':\n",
    "        print(\"belonggs to jaipur\")\n",
    "    else:\n",
    "        print(\"not\")\n",
    "else:\n",
    "    print(\"not valid\")\n"
   ]
  },
  {
   "cell_type": "code",
   "execution_count": 17,
   "id": "52f7cce4-e7f7-4a04-a2e3-fc360de39211",
   "metadata": {},
   "outputs": [
    {
     "name": "stdin",
     "output_type": "stream",
     "text": [
      " 55\n"
     ]
    },
    {
     "name": "stdout",
     "output_type": "stream",
     "text": [
      "divisible by 5 and 11\n"
     ]
    }
   ],
   "source": [
    "n = int(input())\n",
    "if n%5==0:\n",
    "    if n%11==0:\n",
    "        print(\"divisible by 5 and 11\")\n",
    "    else:\n",
    "        print(\"not\")"
   ]
  },
  {
   "cell_type": "code",
   "execution_count": 21,
   "id": "460b5d3f-4bd9-41f2-86d2-b0b71c190b06",
   "metadata": {},
   "outputs": [
    {
     "name": "stdout",
     "output_type": "stream",
     "text": [
      "hello 1\n",
      "hello 2\n",
      "hello 3\n"
     ]
    }
   ],
   "source": [
    "#basic loop\n",
    "#for ,while\n",
    "\n",
    "# for = number of iteration/repeatation are decided\n",
    "# for = variable in range(start,stop,[step=1])\n",
    "\n",
    "#4 (stoping that is excluded)\n",
    "for x in range(1,4):\n",
    "    print(\"hello\",x)"
   ]
  },
  {
   "cell_type": "code",
   "execution_count": 23,
   "id": "6d120e32-80b5-44cc-b595-d8543faede64",
   "metadata": {},
   "outputs": [
    {
     "name": "stdout",
     "output_type": "stream",
     "text": [
      "hello 10\n",
      "hello 11\n",
      "hello 12\n",
      "hello 13\n",
      "hello 14\n",
      "hello 15\n"
     ]
    }
   ],
   "source": [
    "for x in range(10,16):\n",
    "    print(\"hello\",x)"
   ]
  },
  {
   "cell_type": "code",
   "execution_count": 29,
   "id": "8f48a991-db00-4793-b5c8-bde6083f22bf",
   "metadata": {},
   "outputs": [
    {
     "name": "stdout",
     "output_type": "stream",
     "text": [
      "hello 16\n",
      "hello 15\n",
      "hello 14\n",
      "hello 13\n",
      "hello 12\n",
      "hello 11\n"
     ]
    }
   ],
   "source": [
    "for x in range(16,10,-1):\n",
    "    print(\"hello\",x)"
   ]
  },
  {
   "cell_type": "code",
   "execution_count": 31,
   "id": "13a80869-a084-4af1-9c5b-3b95c0353fea",
   "metadata": {},
   "outputs": [
    {
     "name": "stdout",
     "output_type": "stream",
     "text": [
      "hello 16\n",
      "hello 14\n",
      "hello 12\n"
     ]
    }
   ],
   "source": [
    "for x in range(16,10,-2):\n",
    "    print(\"hello\",x)"
   ]
  },
  {
   "cell_type": "code",
   "execution_count": 38,
   "id": "e2bad6fc-9aef-4c58-96f3-883c6ff06c95",
   "metadata": {},
   "outputs": [
    {
     "name": "stdout",
     "output_type": "stream",
     "text": [
      "2 2\n",
      "3 3\n",
      "4 4\n",
      "5 5\n",
      "6 6\n",
      "7 7\n",
      "8 8\n",
      "9 9\n"
     ]
    }
   ],
   "source": [
    "#variable = 2,+3,+4\n",
    "for x in range(2,10):\n",
    "    total=0\n",
    "    total=total+x\n",
    "    print(total,x)"
   ]
  },
  {
   "cell_type": "code",
   "execution_count": 46,
   "id": "371ba02f-0c35-4ab4-9a6b-e714a0888921",
   "metadata": {},
   "outputs": [
    {
     "name": "stdout",
     "output_type": "stream",
     "text": [
      "2 2\n",
      "3 5\n",
      "4 9\n",
      "5 14\n",
      "6 20\n",
      "7 27\n",
      "8 35\n",
      "9 44\n"
     ]
    }
   ],
   "source": [
    "total = 0\n",
    "for x in range(2,10):\n",
    "    total=total+x\n",
    "    print(x,total)"
   ]
  },
  {
   "cell_type": "code",
   "execution_count": 50,
   "id": "144b55e4-4326-40dc-95ab-a49524548657",
   "metadata": {},
   "outputs": [
    {
     "name": "stdout",
     "output_type": "stream",
     "text": [
      "18\n",
      "342\n",
      "6840\n",
      "143640\n",
      "3160080\n",
      "72681840\n",
      "1744364160\n",
      "43609104000\n",
      "1133836704000\n",
      "30613591008000\n",
      "857180548224000\n",
      "24858235898496000\n",
      "745747076954880000\n",
      "23118159385601280000\n",
      "739781100339240960000\n",
      "24412776311194951680000\n",
      "830034394580628357120000\n",
      "29051203810321992499200000\n",
      "1045843337171591729971200000\n",
      "38696203475348894008934400000\n",
      "1470455732063257972339507200000\n",
      "57347773550467060921240780800000\n",
      "2293910942018682436849631232000000\n",
      "94050348622765979910834880512000000\n",
      "3950114642156171156255064981504000000\n",
      "169854929612715359718967794204672000000\n",
      "7473616902959475827634582945005568000000\n",
      "336312760633176412243556232525250560000000\n",
      "15470386989126114963203586696161525760000000\n",
      "727108188488927403270568574719591710720000000\n",
      "34901193047468515356987291586540402114560000000\n",
      "1710158459325957252492377287740479703613440000000\n"
     ]
    }
   ],
   "source": [
    "product=1\n",
    "for i in range(18,50):\n",
    "    product=product*i\n",
    "    print(product)"
   ]
  },
  {
   "cell_type": "code",
   "execution_count": 116,
   "id": "0640099c-94fb-4660-8ce1-b81a1a5fbbc7",
   "metadata": {},
   "outputs": [
    {
     "name": "stdout",
     "output_type": "stream",
     "text": [
      "even sum 2 2\n",
      "even sum 6 4\n",
      "even sum 12 6\n",
      "even sum 20 8\n",
      "even sum 30 10\n",
      "even sum 42 12\n",
      "even sum 56 14\n",
      "even sum 72 16\n",
      "even sum 90 18\n",
      "even sum 110 20\n",
      "odd sum 3 3\n",
      "odd sum 8 5\n",
      "odd sum 15 7\n",
      "odd sum 24 9\n",
      "odd sum 35 11\n",
      "odd sum 48 13\n",
      "odd sum 63 15\n",
      "odd sum 80 17\n",
      "odd sum 99 19\n"
     ]
    }
   ],
   "source": [
    "sum=0\n",
    "for i in range(2,21):\n",
    "    if i%2==0:\n",
    "        sum=sum+i\n",
    "        print(\"even sum\",sum,i)\n",
    "sum=0\n",
    "for j in range(2,21):\n",
    "    if j%2!=0:\n",
    "        sum=sum+j\n",
    "        print(\"odd sum\",sum,j)"
   ]
  },
  {
   "cell_type": "code",
   "execution_count": 4,
   "id": "a1907e95-aaac-4b17-9996-6ec3dd02df2a",
   "metadata": {},
   "outputs": [
    {
     "name": "stdout",
     "output_type": "stream",
     "text": [
      "2\n",
      "3\n",
      "4\n",
      "5\n",
      "6\n",
      "7\n",
      "8\n",
      "9\n"
     ]
    }
   ],
   "source": [
    "#while loop\n",
    "#not fix ,if variable is affected => loop to be affected\n",
    "#for -> fix\n",
    "#while(condition):\n",
    "\n",
    "x=2\n",
    "while x<10:\n",
    "    print(x)\n",
    "    x=x+1"
   ]
  },
  {
   "cell_type": "code",
   "execution_count": 10,
   "id": "a1627225-344f-48ff-a378-8f7b07f72371",
   "metadata": {},
   "outputs": [
    {
     "name": "stdout",
     "output_type": "stream",
     "text": [
      "10\n",
      "9\n",
      "8\n",
      "7\n",
      "6\n",
      "5\n",
      "4\n",
      "3\n",
      "2\n",
      "1\n"
     ]
    }
   ],
   "source": [
    "x=10\n",
    "while x>0:\n",
    "    print(x)\n",
    "    x=x-1"
   ]
  },
  {
   "cell_type": "code",
   "execution_count": 14,
   "id": "d66bb01a-9e3e-4ad3-8f8b-5230ceaeddbd",
   "metadata": {},
   "outputs": [
    {
     "name": "stdout",
     "output_type": "stream",
     "text": [
      "10\n",
      "21\n",
      "33\n",
      "46\n",
      "60\n",
      "75\n",
      "91\n",
      "108\n",
      "126\n"
     ]
    }
   ],
   "source": [
    "x = 10\n",
    "sum=0\n",
    "while x<19:\n",
    "    sum=sum+x\n",
    "    print(sum)\n",
    "    x=x+1"
   ]
  },
  {
   "cell_type": "code",
   "execution_count": null,
   "id": "4f71f180-9363-4a5a-862a-690cdaafa47b",
   "metadata": {},
   "outputs": [],
   "source": []
  },
  {
   "cell_type": "code",
   "execution_count": null,
   "id": "0985fcf6-418e-4c10-bd0e-0b665c55729d",
   "metadata": {},
   "outputs": [],
   "source": []
  },
  {
   "cell_type": "code",
   "execution_count": null,
   "id": "1796175d-ad00-4556-9f4e-6fb81e4368db",
   "metadata": {},
   "outputs": [],
   "source": []
  }
 ],
 "metadata": {
  "kernelspec": {
   "display_name": "Python 3 (ipykernel)",
   "language": "python",
   "name": "python3"
  },
  "language_info": {
   "codemirror_mode": {
    "name": "ipython",
    "version": 3
   },
   "file_extension": ".py",
   "mimetype": "text/x-python",
   "name": "python",
   "nbconvert_exporter": "python",
   "pygments_lexer": "ipython3",
   "version": "3.11.7"
  }
 },
 "nbformat": 4,
 "nbformat_minor": 5
}
