{
 "cells": [
  {
   "cell_type": "code",
   "execution_count": 2,
   "id": "19a524ae-26c9-48be-b9a9-b1892d2dd949",
   "metadata": {},
   "outputs": [
    {
     "name": "stdout",
     "output_type": "stream",
     "text": [
      "1\n",
      "2\n",
      "3\n",
      "4\n",
      "5\n"
     ]
    }
   ],
   "source": [
    "#1. How do you create a `for` loop to iterate through a list?\n",
    "my_list = [1, 2, 3, 4, 5]\n",
    "\n",
    "for item in my_list:\n",
    "    print(item)\n",
    "#In this example, my_list is the list you want to iterate over, and item represents each element in the list during each iteration. The print(item) statement inside the loop will output each element of the list one by one."
   ]
  },
  {
   "cell_type": "code",
   "execution_count": 7,
   "id": "2ba9f68a-ff4b-418b-9918-d8c7db8fd388",
   "metadata": {},
   "outputs": [
    {
     "name": "stdout",
     "output_type": "stream",
     "text": [
      "5050\n"
     ]
    }
   ],
   "source": [
    "#2. How do you sum numbers from 1 to 100 using a loop?\n",
    "sum=0\n",
    "for i in range(1,101):\n",
    "    sum=sum+i\n",
    "print(sum)\n",
    "    "
   ]
  },
  {
   "cell_type": "code",
   "execution_count": 3,
   "id": "db2aba95-cf17-41ad-8074-ce55a1de800a",
   "metadata": {},
   "outputs": [
    {
     "name": "stdout",
     "output_type": "stream",
     "text": [
      "found\n",
      "found\n"
     ]
    }
   ],
   "source": [
    "#3. How can you search for an element in a list using a loop?\n",
    "lst = [5,4,7,3,74,3]\n",
    "search =3\n",
    "for item in lst:\n",
    "    if item ==search:\n",
    "        print('found')\n",
    "    \n",
    "#using loop  we can find all element in list"
   ]
  },
  {
   "cell_type": "code",
   "execution_count": null,
   "id": "6c08438c-0103-4d4c-9c2a-0990518c18c2",
   "metadata": {},
   "outputs": [],
   "source": []
  },
  {
   "cell_type": "code",
   "execution_count": 14,
   "id": "b8e9f4ef-dd87-4b8c-8b5d-5c22fc9fdce7",
   "metadata": {},
   "outputs": [
    {
     "name": "stdout",
     "output_type": "stream",
     "text": [
      "(0,0)\n",
      "(0,1)\n",
      "(0,2)\n",
      "(0,3)\n",
      "(1,0)\n",
      "(1,1)\n",
      "(1,2)\n",
      "(1,3)\n"
     ]
    }
   ],
   "source": [
    "#4 How do you create a nested loop to generate a grid of coordinates?\n",
    "for i in range(2):\n",
    "    for j in range(4):\n",
    "        print(f'({i},{j})')"
   ]
  },
  {
   "cell_type": "code",
   "execution_count": 17,
   "id": "0dccf02b-23b0-4363-b086-f1a1f339d711",
   "metadata": {},
   "outputs": [
    {
     "name": "stdout",
     "output_type": "stream",
     "text": [
      "10\n",
      "9\n",
      "8\n",
      "7\n",
      "6\n",
      "5\n",
      "4\n",
      "3\n",
      "2\n",
      "1\n",
      "countdown finished\n"
     ]
    }
   ],
   "source": [
    "#5. How can you implement a simple countdown using a loop?\n",
    "import time\n",
    "countdown_start=10\n",
    "for i in range(countdown_start,0,-1):\n",
    "    print(i)\n",
    "    time.sleep(1)\n",
    "print('countdown finished')"
   ]
  },
  {
   "cell_type": "code",
   "execution_count": 19,
   "id": "bc553a5c-61e0-42b1-bb67-1c60d67204c6",
   "metadata": {},
   "outputs": [
    {
     "name": "stdout",
     "output_type": "stream",
     "text": [
      "[4][8][2][8][30][6][2][2][2]"
     ]
    }
   ],
   "source": [
    "#6. How can you print the even numbers in a list?\n",
    "lst=[4,8,3,2,9,8,3,30,6,2,2,2,1,9,5,11]\n",
    "for i in lst:               \n",
    "    if i%2==0:\n",
    "        print([i,],end='')"
   ]
  },
  {
   "cell_type": "code",
   "execution_count": 27,
   "id": "96a57b9c-eb7e-4db6-8140-6e9ece012496",
   "metadata": {},
   "outputs": [
    {
     "name": "stdin",
     "output_type": "stream",
     "text": [
      " 8\n"
     ]
    },
    {
     "name": "stdout",
     "output_type": "stream",
     "text": [
      "8\n",
      "16\n",
      "24\n",
      "32\n",
      "40\n",
      "48\n",
      "56\n",
      "64\n",
      "72\n",
      "80\n"
     ]
    }
   ],
   "source": [
    "#7. How can you create a multiplication table using a loop?\n",
    "n = int(input())\n",
    "for i in range(1,11):\n",
    "    print(i*n)"
   ]
  },
  {
   "cell_type": "code",
   "execution_count": 25,
   "id": "bc00baf3-0d83-4efa-abf5-1cc6eea9fdcf",
   "metadata": {},
   "outputs": [
    {
     "name": "stdout",
     "output_type": "stream",
     "text": [
      "[16, 25, 36, 49, 64, 81]\n"
     ]
    }
   ],
   "source": [
    "#8. How can you create a list of squares using a loop?\n",
    "sq= []\n",
    "list1=[4,5,6,7,8,9]\n",
    "for i in list1:\n",
    "    sq.append(i**2)\n",
    "print(sq)"
   ]
  },
  {
   "cell_type": "code",
   "execution_count": 27,
   "id": "6c82d094-f0e1-4876-a16f-f6dc6b142e0e",
   "metadata": {},
   "outputs": [
    {
     "name": "stdin",
     "output_type": "stream",
     "text": [
      "enter (type'exit'): 5\n",
      "enter (type'exit'): exit\n"
     ]
    }
   ],
   "source": [
    "#9. How do you use a `while` loop to read user input until a specific value is entered?\n",
    "user = ''\n",
    "while user!='exit':\n",
    "    user = input(\"enter (type'exit'):\")"
   ]
  },
  {
   "cell_type": "code",
   "execution_count": 33,
   "id": "80dd22a3-bc6a-4cf2-b6dd-1f6e3d426f62",
   "metadata": {},
   "outputs": [
    {
     "name": "stdout",
     "output_type": "stream",
     "text": [
      "89\n"
     ]
    }
   ],
   "source": [
    "#10. How can you find the maximum value in a list using a loop?\n",
    "list2= [7,89,45,32,52,13,0]\n",
    "max= list2[0]\n",
    "for i in list2:\n",
    "    if i>max:\n",
    "        max =i\n",
    "print(max)"
   ]
  },
  {
   "cell_type": "code",
   "execution_count": 57,
   "id": "d0d7a2d8-b196-4d6c-ab32-4b86acf35e25",
   "metadata": {},
   "outputs": [
    {
     "name": "stdout",
     "output_type": "stream",
     "text": [
      "ATIKIN\n"
     ]
    }
   ],
   "source": [
    "#11. How do you use a loop to reverse a string?\n",
    "string=\"NIKITA\"\n",
    "rev=\"\"\n",
    "for char in string:\n",
    "    rev =char+rev\n",
    "print(rev)"
   ]
  },
  {
   "cell_type": "code",
   "execution_count": 73,
   "id": "159288eb-737b-4aad-86fe-114109c5b828",
   "metadata": {},
   "outputs": [
    {
     "name": "stdout",
     "output_type": "stream",
     "text": [
      "3628800\n"
     ]
    }
   ],
   "source": [
    "#12. How can you calculate the factorial of a number using a loop?\n",
    "fact=1\n",
    "for i in range(1,11):\n",
    "    fact=fact*i\n",
    "print(fact)"
   ]
  },
  {
   "cell_type": "code",
   "execution_count": 88,
   "id": "a55d330e-e05a-496e-a419-005125a0767a",
   "metadata": {},
   "outputs": [
    {
     "name": "stdout",
     "output_type": "stream",
     "text": [
      "Key: a, Value: 1\n",
      "Key: b, Value: 2\n",
      "Key: c, Value: 3\n"
     ]
    }
   ],
   "source": [
    "#13How do you iterate through a dictionary using a loop?\n",
    "a={'a':1,'b':2,'c':3}\n",
    "for key,value in a.items():\n",
    "      print(f\"Key: {key}, Value: {value}\")\n",
    "    "
   ]
  },
  {
   "cell_type": "code",
   "execution_count": 39,
   "id": "4798a1bd-61ca-42a5-8977-f24bc9374a6d",
   "metadata": {},
   "outputs": [
    {
     "name": "stdout",
     "output_type": "stream",
     "text": [
      "5\n"
     ]
    }
   ],
   "source": [
    "#14. How can you count the occurrences of a specific item in a list using a loop?\n",
    "list1=[1,3,43,3,2,3,22,3,2,32,3,9]\n",
    "num=3\n",
    "count=0\n",
    "for i in list1:\n",
    "    if i==num:\n",
    "        count=count+1\n",
    "print(count)"
   ]
  },
  {
   "cell_type": "code",
   "execution_count": 40,
   "id": "6a62bcda-6942-43d8-9ee6-8e0b5005abf1",
   "metadata": {},
   "outputs": [
    {
     "name": "stdout",
     "output_type": "stream",
     "text": [
      "[0, 1, 2, 3, 4, 8, 9, 42]\n"
     ]
    }
   ],
   "source": [
    "#15. How do you implement a loop to remove duplicates from a list?\n",
    "ls = [1,4,3,1,8,3,2,1,4,1,9,0,1,2,3,2,3,42]\n",
    "for i in ls:\n",
    "    rm=set(ls)\n",
    "print(list(rm))"
   ]
  },
  {
   "cell_type": "code",
   "execution_count": 42,
   "id": "10d4dc0e-bf3f-4a1a-9361-555d4c5e4a6a",
   "metadata": {},
   "outputs": [
    {
     "name": "stdout",
     "output_type": "stream",
     "text": [
      "[1, 2, 3, 4, 6, 5, 7]\n"
     ]
    }
   ],
   "source": [
    "items=[1,2,3,4,3,3,6,5,2,3,4,7]\n",
    "un=[]\n",
    "for item in items:\n",
    "    if item not in un:\n",
    "        un.append(item)\n",
    "print(un)"
   ]
  },
  {
   "cell_type": "code",
   "execution_count": 17,
   "id": "cecbaced-a7b7-49ad-a737-1bc897c6d585",
   "metadata": {},
   "outputs": [
    {
     "name": "stdout",
     "output_type": "stream",
     "text": [
      "[0, 1, 2, 3, 4, 5, 6, 7]\n"
     ]
    }
   ],
   "source": [
    "#16. How can you create a loop to merge two sorted lists into one?\n",
    "ls1=[1,2,3,4]\n",
    "ls2=[0,5,6,7]\n",
    "merged =[]\n",
    "i,j=0,0\n",
    "while i<len(ls1) and  j<len(ls2):\n",
    "    if ls1[i]<ls2[j]:\n",
    "        merged.append(ls1[i])\n",
    "        i=i+1\n",
    "    else:\n",
    "        merged.append(ls2[j])\n",
    "        j=j+1\n",
    "merged.extend(ls1[i:])\n",
    "merged.extend(ls2[j:])\n",
    "print(merged)\n",
    "    "
   ]
  },
  {
   "cell_type": "code",
   "execution_count": 47,
   "id": "c9fbfc1c-7fb9-47aa-9d87-0bc628b76ef4",
   "metadata": {},
   "outputs": [
    {
     "name": "stdout",
     "output_type": "stream",
     "text": [
      "[1, 2, 3, 4, 5, 6, 7, 8]\n"
     ]
    }
   ],
   "source": [
    "ls1=[1,2,3,4,5,8]\n",
    "ls2=[6,7]\n",
    "for i in ls1,ls2:\n",
    "    list4=ls1+ls2\n",
    "    list4.sort()\n",
    "print(list4)"
   ]
  },
  {
   "cell_type": "code",
   "execution_count": 108,
   "id": "a4ce44cf-1826-48e8-94fd-fb18d0844bfb",
   "metadata": {},
   "outputs": [
    {
     "name": "stdout",
     "output_type": "stream",
     "text": [
      "0 1 1 2 3 5 8 13 21 34 55 89 "
     ]
    }
   ],
   "source": [
    "#17. How do you use a loop to generate the Fibonacci sequence?\n",
    "a,b=0,1\n",
    "for i in range(12):\n",
    "    print(a,end=' ')\n",
    "    a,b=b,a+b"
   ]
  },
  {
   "cell_type": "code",
   "execution_count": 120,
   "id": "db54f3ab-3e29-41b2-a0c1-c20071b9e468",
   "metadata": {},
   "outputs": [
    {
     "name": "stdout",
     "output_type": "stream",
     "text": [
      "* \n",
      "* * \n",
      "* * * \n",
      "* * * * \n",
      "* * * * * \n"
     ]
    }
   ],
   "source": [
    "#18.How can you implement a loop to print a triangle of stars ?\n",
    "for i in range(1,6):\n",
    "    for j in range(i):\n",
    "        print(\"*\",end=' ')\n",
    "    print()"
   ]
  },
  {
   "cell_type": "code",
   "execution_count": 26,
   "id": "7a3c6165-98a7-409b-8cba-d28ba075381e",
   "metadata": {},
   "outputs": [
    {
     "name": "stdout",
     "output_type": "stream",
     "text": [
      "1:*\n",
      "2:**\n",
      "3:***\n",
      "4:****\n"
     ]
    }
   ],
   "source": [
    "#19. How do you use a loop to create a histogram from a list of numbers?\n",
    "number=[1,2,2,3,3,3,4,4,4,4]\n",
    "histogram={}\n",
    "for num in number:\n",
    "    histogram[num]=histogram.get(num,0)+1\n",
    "for key , value in histogram.items():\n",
    "    print(f\"{key}:{'*'*value}\")"
   ]
  },
  {
   "cell_type": "code",
   "execution_count": 58,
   "id": "9e6ad132-2c7c-4775-bb29-2c6be9af726b",
   "metadata": {},
   "outputs": [
    {
     "name": "stdout",
     "output_type": "stream",
     "text": [
      "rolles:2\n",
      "rolles:4\n",
      "rolles:1\n",
      "rolles:5\n",
      "rolles:1\n",
      "rolles:4\n",
      "rolles:1\n",
      "rolles:3\n",
      "rolles:6\n",
      "rolled a six\n"
     ]
    }
   ],
   "source": [
    "#20. How can you create a loop that simulates rolling a die until a six is rolled?\n",
    "import random\n",
    "roll =0\n",
    "while roll!=6:\n",
    "    roll=random.randint(1,6)\n",
    "    print(f'rolles:{roll}')\n",
    "print(\"rolled a six\")"
   ]
  }
 ],
 "metadata": {
  "kernelspec": {
   "display_name": "Python 3 (ipykernel)",
   "language": "python",
   "name": "python3"
  },
  "language_info": {
   "codemirror_mode": {
    "name": "ipython",
    "version": 3
   },
   "file_extension": ".py",
   "mimetype": "text/x-python",
   "name": "python",
   "nbconvert_exporter": "python",
   "pygments_lexer": "ipython3",
   "version": "3.12.4"
  }
 },
 "nbformat": 4,
 "nbformat_minor": 5
}
