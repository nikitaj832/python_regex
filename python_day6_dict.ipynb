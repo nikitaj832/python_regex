{
 "cells": [
  {
   "cell_type": "code",
   "execution_count": 9,
   "id": "97866340-5998-404e-bc72-aaea17a6511d",
   "metadata": {},
   "outputs": [
    {
     "data": {
      "text/plain": [
       "dict_items([(10, 'niki'), (20, 'a')])"
      ]
     },
     "execution_count": 9,
     "metadata": {},
     "output_type": "execute_result"
    }
   ],
   "source": [
    "dict = {10:\"niki\" , 20 : \"a\"}\n",
    "len(dict)\n",
    "dict.keys()\n",
    "dict.values()\n",
    "dict.items()"
   ]
  },
  {
   "cell_type": "code",
   "execution_count": 11,
   "id": "6c527d4d-dc64-4afc-804a-8c9191d2f76b",
   "metadata": {},
   "outputs": [
    {
     "data": {
      "text/plain": [
       "'niki'"
      ]
     },
     "execution_count": 11,
     "metadata": {},
     "output_type": "execute_result"
    }
   ],
   "source": [
    "dict[10]"
   ]
  },
  {
   "cell_type": "code",
   "execution_count": 13,
   "id": "8772dff1-4e3f-4c19-a1df-a7b70e886b10",
   "metadata": {},
   "outputs": [
    {
     "ename": "KeyError",
     "evalue": "0",
     "output_type": "error",
     "traceback": [
      "\u001b[1;31m---------------------------------------------------------------------------\u001b[0m",
      "\u001b[1;31mKeyError\u001b[0m                                  Traceback (most recent call last)",
      "Cell \u001b[1;32mIn[13], line 1\u001b[0m\n\u001b[1;32m----> 1\u001b[0m \u001b[38;5;28mdict\u001b[39m[\u001b[38;5;241m0\u001b[39m]\n",
      "\u001b[1;31mKeyError\u001b[0m: 0"
     ]
    }
   ],
   "source": [
    "dict[0]       #key error"
   ]
  },
  {
   "cell_type": "code",
   "execution_count": 15,
   "id": "30da2c48-7afa-4382-85a9-79f91ac23f04",
   "metadata": {},
   "outputs": [],
   "source": [
    "dict[10] = \"nikita\"            #update"
   ]
  },
  {
   "cell_type": "code",
   "execution_count": 17,
   "id": "ff783875-c883-4cbe-b009-4e0aeb3974b8",
   "metadata": {},
   "outputs": [
    {
     "data": {
      "text/plain": [
       "{10: 'nikita', 20: 'a'}"
      ]
     },
     "execution_count": 17,
     "metadata": {},
     "output_type": "execute_result"
    }
   ],
   "source": [
    "dict"
   ]
  },
  {
   "cell_type": "code",
   "execution_count": 19,
   "id": "9572609f-2e8e-4ef8-a43b-ff169f021ddc",
   "metadata": {},
   "outputs": [
    {
     "data": {
      "text/plain": [
       "{10: 'nikita', 20: 'a', 40: 'hey'}"
      ]
     },
     "execution_count": 19,
     "metadata": {},
     "output_type": "execute_result"
    }
   ],
   "source": [
    "dict[40] = \"hey\"\n",
    "dict"
   ]
  },
  {
   "cell_type": "code",
   "execution_count": 27,
   "id": "d2afe4a3-ee2c-4e76-acda-87728f889c35",
   "metadata": {},
   "outputs": [
    {
     "name": "stdout",
     "output_type": "stream",
     "text": [
      "{40: 'hey'} X :  a\n"
     ]
    }
   ],
   "source": [
    "x = dict.pop(20)\n",
    "print(dict,\"X : \",x)"
   ]
  },
  {
   "cell_type": "code",
   "execution_count": 43,
   "id": "363bcd4b-d742-4d10-aba5-ef5d577ae0ee",
   "metadata": {},
   "outputs": [
    {
     "data": {
      "text/plain": [
       "{40: 'hey', 30: 20}"
      ]
     },
     "execution_count": 43,
     "metadata": {},
     "output_type": "execute_result"
    }
   ],
   "source": [
    "dict[30]=20\n",
    "dict"
   ]
  },
  {
   "cell_type": "code",
   "execution_count": 45,
   "id": "73acede3-0a18-446e-ad39-8719e26fff65",
   "metadata": {},
   "outputs": [
    {
     "data": {
      "text/plain": [
       "{40: 'hey'}"
      ]
     },
     "execution_count": 45,
     "metadata": {},
     "output_type": "execute_result"
    }
   ],
   "source": [
    "del dict[30]\n",
    "dict"
   ]
  },
  {
   "cell_type": "code",
   "execution_count": 57,
   "id": "f8135385-598a-4246-9f1b-503f7491e796",
   "metadata": {},
   "outputs": [
    {
     "data": {
      "text/plain": [
       "{40: 'niki', 10: 'abc'}"
      ]
     },
     "execution_count": 57,
     "metadata": {},
     "output_type": "execute_result"
    }
   ],
   "source": [
    "dict.update({40:\"niki\"})\n",
    "dict"
   ]
  },
  {
   "cell_type": "code",
   "execution_count": 61,
   "id": "e8dc2202-787c-4ea7-87b2-7608eff7aae1",
   "metadata": {},
   "outputs": [
    {
     "name": "stdout",
     "output_type": "stream",
     "text": [
      "10\n",
      "20\n",
      "40\n"
     ]
    }
   ],
   "source": [
    "#loop in dict\n",
    "\n",
    "dict = {10: 'nikita', 20: 'a', 40: 'hey'}\n",
    "for key in dict:\n",
    "    print(key)"
   ]
  },
  {
   "cell_type": "code",
   "execution_count": 68,
   "id": "a6aa9dda-1a6a-4087-8e91-d76d64713e5e",
   "metadata": {},
   "outputs": [
    {
     "name": "stdout",
     "output_type": "stream",
     "text": [
      "10 nikita\n",
      "20 a\n",
      "40 hey\n"
     ]
    }
   ],
   "source": [
    "for key in dict:\n",
    "    print(key , dict[key])"
   ]
  },
  {
   "cell_type": "code",
   "execution_count": 72,
   "id": "7339c268-212d-45a5-9201-ac075199a1ed",
   "metadata": {},
   "outputs": [
    {
     "data": {
      "text/plain": [
       "{10: 'nikita', 20: 'a', 40: 'hey', 'x': 3}"
      ]
     },
     "execution_count": 72,
     "metadata": {},
     "output_type": "execute_result"
    }
   ],
   "source": [
    "dict = {10: 'nikita', 20: 'a', 40: 'hey' , \"x\":1}\n",
    "dict[\"x\"] = dict[\"x\"]+2\n",
    "dict"
   ]
  },
  {
   "cell_type": "code",
   "execution_count": 87,
   "id": "f893b913-dffc-44e2-9478-bce7335883aa",
   "metadata": {},
   "outputs": [
    {
     "name": "stdout",
     "output_type": "stream",
     "text": [
      "{'total': 9}\n"
     ]
    }
   ],
   "source": [
    "dict1 = {\"total\":0}\n",
    "for i in range(10,19):\n",
    "    dict1[\"total\"] = dict1[\"total\"]+1\n",
    "print(dict1)"
   ]
  },
  {
   "cell_type": "code",
   "execution_count": 93,
   "id": "bfcd4990-b5c7-49f3-84bd-0e741999196c",
   "metadata": {},
   "outputs": [
    {
     "name": "stdout",
     "output_type": "stream",
     "text": [
      "{'total': 7}\n"
     ]
    }
   ],
   "source": [
    "string = \"heyuser\"\n",
    "dict1 = {\"total\":0}\n",
    "count=0\n",
    "for i in string:\n",
    "    dict1[\"total\"] = dict1[\"total\"]+1\n",
    "print(dict1)"
   ]
  },
  {
   "cell_type": "code",
   "execution_count": 114,
   "id": "b2262f10-7d07-4a8c-823f-3d5ca446428b",
   "metadata": {},
   "outputs": [
    {
     "name": "stdout",
     "output_type": "stream",
     "text": [
      "{'h': 1, 'e': 1, 'y': 1, 'u': 1, 's': 1, 'r': 1}\n"
     ]
    }
   ],
   "source": [
    "string = \"heyuser\"\n",
    "dict1 = {}\n",
    "for i in string:\n",
    "    dict1[i] = 1\n",
    "print(dict1)"
   ]
  },
  {
   "cell_type": "code",
   "execution_count": 130,
   "id": "5fb0e97a-1f34-402c-b0a6-13bec42cf644",
   "metadata": {},
   "outputs": [
    {
     "name": "stdout",
     "output_type": "stream",
     "text": [
      "{'h': 1, 'e': 2, 'y': 1, 'u': 1, 's': 1, 'r': 1}\n"
     ]
    }
   ],
   "source": [
    "string = \"heyuser\"\n",
    "dict1 = {}\n",
    "for i in string:\n",
    "    if i not in dict1:\n",
    "        dict1[i] = 1\n",
    "    else:\n",
    "        dict1[i] = dict1[i]+1\n",
    "print(dict1)"
   ]
  },
  {
   "cell_type": "code",
   "execution_count": 169,
   "id": "320569bb-5078-45f5-9c0f-9aa911faefb9",
   "metadata": {},
   "outputs": [
    {
     "name": "stdout",
     "output_type": "stream",
     "text": [
      "{'div': 3, 'not_div': 47}\n"
     ]
    }
   ],
   "source": [
    "dict1 = {\"div\":0,\"not_div\":0}\n",
    "for i in range(1,51):\n",
    "    if i%2==0 and i%7==0:\n",
    "        dict1[\"div\"]=dict1[\"div\"]+1\n",
    "    else:\n",
    "        dict1[\"not_div\"] = dict1[\"not_div\"]+1\n",
    "print(dict1)\n"
   ]
  },
  {
   "cell_type": "code",
   "execution_count": 175,
   "id": "63506770-d8bd-4238-a664-ff9495f2da3b",
   "metadata": {},
   "outputs": [
    {
     "name": "stdout",
     "output_type": "stream",
     "text": [
      "{'vowels': 8, 'cons': 12}\n"
     ]
    }
   ],
   "source": [
    "dict1 = {\"vowels\":0 ,\"cons\":0}\n",
    "for i in \"hey hello tushar aei\":\n",
    "    if i in \"aeiouAEIOU\":\n",
    "        dict1[\"vowels\"]=dict1[\"vowels\"]+1\n",
    "    else:\n",
    "        dict1[\"cons\"] = dict1[\"cons\"]+1\n",
    "print(dict1)        "
   ]
  },
  {
   "cell_type": "code",
   "execution_count": 185,
   "id": "db54b592-d5f8-4b64-bcc5-b44e4381e510",
   "metadata": {},
   "outputs": [
    {
     "name": "stdout",
     "output_type": "stream",
     "text": [
      "{'a': 2, 'e': 3, 'i': 1, 'o': 1, 'u': 1}\n"
     ]
    }
   ],
   "source": [
    "dict2 = {\"a\":0,\"e\":0,\"i\":0,\"o\":0,\"u\":0}\n",
    "for i in \"hey hello tushar aei\":\n",
    "    if i in \"aeiouAEIOU\":\n",
    "        dict2[i]=dict2[i]+1\n",
    "print(dict2) "
   ]
  },
  {
   "cell_type": "code",
   "execution_count": 187,
   "id": "1daa922a-4e78-4955-aa91-bd141283e2d7",
   "metadata": {},
   "outputs": [],
   "source": [
    "#in string"
   ]
  },
  {
   "cell_type": "code",
   "execution_count": 219,
   "id": "8dae5c43-12a1-4c6b-860d-2f35cf2087bc",
   "metadata": {},
   "outputs": [
    {
     "name": "stdout",
     "output_type": "stream",
     "text": [
      "{'hey': 1, 'hello': 2}\n"
     ]
    }
   ],
   "source": [
    "x= \"hey hello hello\".split(\" \")\n",
    "dict1= {\"hey\":0,\"hello\":0}\n",
    "for i in x:\n",
    "    dict1[i]=dict1[i]+1\n",
    "print(dict1) \n"
   ]
  },
  {
   "cell_type": "raw",
   "id": "8dc11766-2b25-46cd-a167-12bda0da1830",
   "metadata": {},
   "source": [
    "set"
   ]
  },
  {
   "cell_type": "code",
   "execution_count": 232,
   "id": "a15559fb-31b2-4a1f-b230-e43f389e6f40",
   "metadata": {},
   "outputs": [],
   "source": [
    "#collection of element\n",
    "#unique"
   ]
  },
  {
   "cell_type": "code",
   "execution_count": 234,
   "id": "ec572171-edd3-4ca6-b099-6f75bc15936f",
   "metadata": {},
   "outputs": [
    {
     "data": {
      "text/plain": [
       "{10, 20, 30}"
      ]
     },
     "execution_count": 234,
     "metadata": {},
     "output_type": "execute_result"
    }
   ],
   "source": [
    "myset = {10,20,30,10}\n",
    "myset"
   ]
  },
  {
   "cell_type": "code",
   "execution_count": 236,
   "id": "3cd5fe74-52a7-4323-8a66-34a8bbf6baa6",
   "metadata": {},
   "outputs": [
    {
     "data": {
      "text/plain": [
       "{10, 20, 30, 56}"
      ]
     },
     "execution_count": 236,
     "metadata": {},
     "output_type": "execute_result"
    }
   ],
   "source": [
    "myset.add(56)\n",
    "myset"
   ]
  },
  {
   "cell_type": "code",
   "execution_count": 238,
   "id": "bdcfe884-b40e-4235-9d5d-2a1fe609e9ca",
   "metadata": {},
   "outputs": [
    {
     "data": {
      "text/plain": [
       "{20, 30, 56}"
      ]
     },
     "execution_count": 238,
     "metadata": {},
     "output_type": "execute_result"
    }
   ],
   "source": [
    "myset.remove(10)\n",
    "myset"
   ]
  },
  {
   "cell_type": "code",
   "execution_count": 240,
   "id": "285a2070-1e1d-4353-afba-e5931356810f",
   "metadata": {},
   "outputs": [
    {
     "data": {
      "text/plain": [
       "{30, 56}"
      ]
     },
     "execution_count": 240,
     "metadata": {},
     "output_type": "execute_result"
    }
   ],
   "source": [
    "myset.discard(20)\n",
    "myset"
   ]
  },
  {
   "cell_type": "code",
   "execution_count": null,
   "id": "3dc670bd-5205-4a12-ad95-bd8eddd79187",
   "metadata": {},
   "outputs": [],
   "source": [
    "                                                                                                  "
   ]
  },
  {
   "cell_type": "code",
   "execution_count": null,
   "id": "327064f6-ea8a-4350-a941-82e4892b9873",
   "metadata": {},
   "outputs": [],
   "source": []
  }
 ],
 "metadata": {
  "kernelspec": {
   "display_name": "Python 3 (ipykernel)",
   "language": "python",
   "name": "python3"
  },
  "language_info": {
   "codemirror_mode": {
    "name": "ipython",
    "version": 3
   },
   "file_extension": ".py",
   "mimetype": "text/x-python",
   "name": "python",
   "nbconvert_exporter": "python",
   "pygments_lexer": "ipython3",
   "version": "3.11.7"
  }
 },
 "nbformat": 4,
 "nbformat_minor": 5
}
