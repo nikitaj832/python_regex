{
 "cells": [
  {
   "cell_type": "code",
   "execution_count": 1,
   "id": "1350da38-95cb-4089-899c-98c413f2bcf9",
   "metadata": {},
   "outputs": [],
   "source": [
    "#set and frozen set "
   ]
  },
  {
   "cell_type": "code",
   "execution_count": 2,
   "id": "679882fe-7bc0-45bc-a487-8acdc80f839b",
   "metadata": {},
   "outputs": [],
   "source": [
    "#set\n",
    "#it can be formed using {} or set constructor\n",
    "#it is unordered(we cannot access its element using the index)\n",
    "#set does not allow duplicate values"
   ]
  },
  {
   "cell_type": "code",
   "execution_count": 16,
   "id": "00a5732c-babc-4f95-9653-cbc34e3c466c",
   "metadata": {},
   "outputs": [
    {
     "name": "stdout",
     "output_type": "stream",
     "text": [
      "{1, 2, 3, 4, 5}\n"
     ]
    }
   ],
   "source": [
    "my_set = {1,2,3,4,5}\n",
    " \n",
    "print(my_set)\n"
   ]
  },
  {
   "cell_type": "code",
   "execution_count": 1,
   "id": "e094c6ee-6f46-47e4-a8f2-c551f2434d2e",
   "metadata": {},
   "outputs": [
    {
     "data": {
      "text/plain": [
       "{1, 2, 3, 4}"
      ]
     },
     "execution_count": 1,
     "metadata": {},
     "output_type": "execute_result"
    }
   ],
   "source": [
    "set1=set([1,2,3,2,3,2,4])    #we will pass the elemnts in a list\n",
    "set1"
   ]
  },
  {
   "cell_type": "code",
   "execution_count": 4,
   "id": "8617a81e-8008-45aa-bd5f-0138389d41b4",
   "metadata": {},
   "outputs": [
    {
     "data": {
      "text/plain": [
       "{1, 2, 3, 4, 5}"
      ]
     },
     "execution_count": 4,
     "metadata": {},
     "output_type": "execute_result"
    }
   ],
   "source": [
    "set1.add(5)\n",
    "set1"
   ]
  },
  {
   "cell_type": "code",
   "execution_count": 7,
   "id": "a92fdd35-e1d0-4f79-86e1-b58fe038aea0",
   "metadata": {},
   "outputs": [
    {
     "data": {
      "text/plain": [
       "{1, 2, 3, 4, 5, 6, 7, 8, 9}"
      ]
     },
     "execution_count": 7,
     "metadata": {},
     "output_type": "execute_result"
    }
   ],
   "source": [
    "set1.update([6,7,8,9])\n",
    "set1"
   ]
  },
  {
   "cell_type": "code",
   "execution_count": 12,
   "id": "ccba55e5-234d-4041-8d68-5232e08b0a8a",
   "metadata": {},
   "outputs": [
    {
     "data": {
      "text/plain": [
       "{1, 2, 3, 6, 7, 8, 9}"
      ]
     },
     "execution_count": 12,
     "metadata": {},
     "output_type": "execute_result"
    }
   ],
   "source": [
    "set1.remove(5)\n",
    "set1"
   ]
  },
  {
   "cell_type": "code",
   "execution_count": 13,
   "id": "fbf08aa1-dddb-47b2-aac6-197d5f6a2fbd",
   "metadata": {},
   "outputs": [],
   "source": [
    "set1.discard(11)"
   ]
  },
  {
   "cell_type": "code",
   "execution_count": 14,
   "id": "8b8243bd-5f0f-4141-9002-6c4aebe81efd",
   "metadata": {},
   "outputs": [
    {
     "data": {
      "text/plain": [
       "1"
      ]
     },
     "execution_count": 14,
     "metadata": {},
     "output_type": "execute_result"
    }
   ],
   "source": [
    "set1.pop()"
   ]
  },
  {
   "cell_type": "code",
   "execution_count": 15,
   "id": "b9ad0568-e030-44ad-8114-bf3d840b5e17",
   "metadata": {},
   "outputs": [
    {
     "data": {
      "text/plain": [
       "2"
      ]
     },
     "execution_count": 15,
     "metadata": {},
     "output_type": "execute_result"
    }
   ],
   "source": [
    "set1.pop()"
   ]
  },
  {
   "cell_type": "code",
   "execution_count": 18,
   "id": "d942ca74-be54-4345-a99f-9357cb7284d7",
   "metadata": {},
   "outputs": [
    {
     "data": {
      "text/plain": [
       "{'apple', 'banana', 'mango', 'orange'}"
      ]
     },
     "execution_count": 18,
     "metadata": {},
     "output_type": "execute_result"
    }
   ],
   "source": [
    "f_set={'mango','banana','apple'}\n",
    "f_set.add('orange')\n",
    "f_set"
   ]
  },
  {
   "cell_type": "code",
   "execution_count": 20,
   "id": "95d16e0f-133f-4967-8440-d28e382fa55b",
   "metadata": {},
   "outputs": [
    {
     "data": {
      "text/plain": [
       "{3, 6, 7, 8, 9, 'apple', 'banana', 'mango', 'orange'}"
      ]
     },
     "execution_count": 20,
     "metadata": {},
     "output_type": "execute_result"
    }
   ],
   "source": [
    "f_set.update(set1)\n",
    "f_set"
   ]
  },
  {
   "cell_type": "code",
   "execution_count": 25,
   "id": "9ad1bb45-09c6-4000-a1d3-20b5ea38c351",
   "metadata": {},
   "outputs": [],
   "source": [
    "f_set.remove(6)"
   ]
  },
  {
   "cell_type": "code",
   "execution_count": 27,
   "id": "0f223eb6-0500-4d2d-b63e-d742f771911c",
   "metadata": {},
   "outputs": [
    {
     "data": {
      "text/plain": [
       "{7, 8, 9, 'apple', 'banana', 'mango', 'orange'}"
      ]
     },
     "execution_count": 27,
     "metadata": {},
     "output_type": "execute_result"
    }
   ],
   "source": [
    "f_set"
   ]
  },
  {
   "cell_type": "code",
   "execution_count": 29,
   "id": "ea3192cb-456b-45ec-bed1-c25d5a7c28bc",
   "metadata": {},
   "outputs": [],
   "source": [
    "f_set.remove(8)"
   ]
  },
  {
   "cell_type": "code",
   "execution_count": 31,
   "id": "3a84ba83-b7fe-4e66-802d-c1c5f3ba5e8a",
   "metadata": {},
   "outputs": [
    {
     "data": {
      "text/plain": [
       "'banana'"
      ]
     },
     "execution_count": 31,
     "metadata": {},
     "output_type": "execute_result"
    }
   ],
   "source": [
    "f_set.pop()"
   ]
  },
  {
   "cell_type": "code",
   "execution_count": 33,
   "id": "951192bf-7276-4820-9b8c-49ecc96081bc",
   "metadata": {},
   "outputs": [],
   "source": [
    "f_set.remove(9)"
   ]
  },
  {
   "cell_type": "code",
   "execution_count": 35,
   "id": "fe74e26f-bb3d-4f96-a478-7b243fc7cb1e",
   "metadata": {},
   "outputs": [
    {
     "data": {
      "text/plain": [
       "{'apple', 'mango', 'orange'}"
      ]
     },
     "execution_count": 35,
     "metadata": {},
     "output_type": "execute_result"
    }
   ],
   "source": [
    "f_set"
   ]
  },
  {
   "cell_type": "code",
   "execution_count": 40,
   "id": "8ec6c0b7-947c-4209-8d86-a122107deea9",
   "metadata": {},
   "outputs": [
    {
     "data": {
      "text/plain": [
       "{'apple', 'banana', 'cherry', 'grapes', 'mango', 'orange'}"
      ]
     },
     "execution_count": 40,
     "metadata": {},
     "output_type": "execute_result"
    }
   ],
   "source": [
    "f_set2 = set(['banana','cherry','grapes'])\n",
    "f_set2.update(f_set)\n",
    "f_set2             "
   ]
  },
  {
   "cell_type": "code",
   "execution_count": 43,
   "id": "34b5e904-37e9-4c10-bc62-4cf8ea66dd18",
   "metadata": {},
   "outputs": [
    {
     "data": {
      "text/plain": [
       "{'apple', 'mango', 'orange'}"
      ]
     },
     "execution_count": 43,
     "metadata": {},
     "output_type": "execute_result"
    }
   ],
   "source": [
    "f_set.discard('banana')\n",
    "f_set"
   ]
  },
  {
   "cell_type": "code",
   "execution_count": 48,
   "id": "f7506587-0443-4d24-9bf3-b25f81e677a4",
   "metadata": {},
   "outputs": [
    {
     "data": {
      "text/plain": [
       "{1, 2, 3, 4, 5, 6}"
      ]
     },
     "execution_count": 48,
     "metadata": {},
     "output_type": "execute_result"
    }
   ],
   "source": [
    "#set operation\n",
    "\n",
    "set1 = {1,2,3,4}\n",
    "set2= {3,4,5,6}\n",
    "\n",
    "#union\n",
    "set1.union(set2)\n",
    "set1 | set2"
   ]
  },
  {
   "cell_type": "code",
   "execution_count": 51,
   "id": "58fb3016-8a37-4071-8b41-26d26d818f16",
   "metadata": {},
   "outputs": [
    {
     "data": {
      "text/plain": [
       "{3, 4}"
      ]
     },
     "execution_count": 51,
     "metadata": {},
     "output_type": "execute_result"
    }
   ],
   "source": [
    "#intersection\n",
    "set1 & set2 \n",
    "set1.intersection(set2)"
   ]
  },
  {
   "cell_type": "code",
   "execution_count": 54,
   "id": "48631afa-8a5b-4064-9019-ddd111af9367",
   "metadata": {},
   "outputs": [
    {
     "data": {
      "text/plain": [
       "{1, 2}"
      ]
     },
     "execution_count": 54,
     "metadata": {},
     "output_type": "execute_result"
    }
   ],
   "source": [
    "#difference\n",
    "set1 - set2\n",
    "set1.difference(set2)"
   ]
  },
  {
   "cell_type": "code",
   "execution_count": 58,
   "id": "9be84006-e7aa-46b9-92e9-366b479593d8",
   "metadata": {},
   "outputs": [
    {
     "data": {
      "text/plain": [
       "{1, 2, 5, 6}"
      ]
     },
     "execution_count": 58,
     "metadata": {},
     "output_type": "execute_result"
    }
   ],
   "source": [
    "#symmetric diffenrence\n",
    "set1 ^ set2\n",
    "set1.symmetric_difference(set2)"
   ]
  },
  {
   "cell_type": "code",
   "execution_count": 72,
   "id": "e9ffd38a-c116-4024-9545-2e599f3dfdd2",
   "metadata": {},
   "outputs": [
    {
     "data": {
      "text/plain": [
       "{0, 1, 2, 3, 4, 5, 6, 7, 8, 9, 10}"
      ]
     },
     "execution_count": 72,
     "metadata": {},
     "output_type": "execute_result"
    }
   ],
   "source": [
    "a = {1,3,4,7,9,6,8,6,10}\n",
    "b = {5,6,8,4,4,3,3,3}\n",
    "c={5,7,1,2,3,9,0,5}\n",
    "a | b | c"
   ]
  },
  {
   "cell_type": "code",
   "execution_count": 73,
   "id": "a3e0de9b-99cd-4322-8e65-eaa1f1844534",
   "metadata": {},
   "outputs": [
    {
     "data": {
      "text/plain": [
       "{3}"
      ]
     },
     "execution_count": 73,
     "metadata": {},
     "output_type": "execute_result"
    }
   ],
   "source": [
    "a & b & c"
   ]
  },
  {
   "cell_type": "code",
   "execution_count": 74,
   "id": "6a3cab33-56a8-4754-8ccf-30365315e3f6",
   "metadata": {},
   "outputs": [
    {
     "data": {
      "text/plain": [
       "{0, 2, 3, 10}"
      ]
     },
     "execution_count": 74,
     "metadata": {},
     "output_type": "execute_result"
    }
   ],
   "source": [
    "a ^ b ^ c"
   ]
  },
  {
   "cell_type": "code",
   "execution_count": 76,
   "id": "8e92c9b8-6785-4afb-b2aa-dacfbc5d706d",
   "metadata": {},
   "outputs": [
    {
     "data": {
      "text/plain": [
       "{10}"
      ]
     },
     "execution_count": 76,
     "metadata": {},
     "output_type": "execute_result"
    }
   ],
   "source": [
    "a - b - c"
   ]
  },
  {
   "cell_type": "code",
   "execution_count": 77,
   "id": "e691f5a1-929f-450a-af00-88587ac5dfd6",
   "metadata": {},
   "outputs": [],
   "source": [
    "#frozen set\n",
    "#frozenset()\n"
   ]
  },
  {
   "cell_type": "code",
   "execution_count": 88,
   "id": "8c0dbc07-3672-4b41-a22d-53c2e2e27017",
   "metadata": {},
   "outputs": [
    {
     "data": {
      "text/plain": [
       "{frozenset({1, 2, 3, 4, 5}): 'abc'}"
      ]
     },
     "execution_count": 88,
     "metadata": {},
     "output_type": "execute_result"
    }
   ],
   "source": [
    "a = {frozenset([1,2,3,4,5]):'abc',}         #dictionary\n",
    "a"
   ]
  },
  {
   "cell_type": "code",
   "execution_count": 89,
   "id": "88085252-0eaa-4a11-b96a-701b5f62c450",
   "metadata": {},
   "outputs": [
    {
     "ename": "TypeError",
     "evalue": "unhashable type: 'set'",
     "output_type": "error",
     "traceback": [
      "\u001b[1;31m---------------------------------------------------------------------------\u001b[0m",
      "\u001b[1;31mTypeError\u001b[0m                                 Traceback (most recent call last)",
      "Cell \u001b[1;32mIn[89], line 1\u001b[0m\n\u001b[1;32m----> 1\u001b[0m b\u001b[38;5;241m=\u001b[39m {\u001b[38;5;28mset\u001b[39m([\u001b[38;5;241m1\u001b[39m,\u001b[38;5;241m2\u001b[39m,\u001b[38;5;241m3\u001b[39m,\u001b[38;5;241m4\u001b[39m,\u001b[38;5;241m5\u001b[39m]):\u001b[38;5;124m'\u001b[39m\u001b[38;5;124mabc\u001b[39m\u001b[38;5;124m'\u001b[39m,}\n\u001b[0;32m      2\u001b[0m b                                 \u001b[38;5;66;03m#it shows error because set not define in dictionary\u001b[39;00m\n",
      "\u001b[1;31mTypeError\u001b[0m: unhashable type: 'set'"
     ]
    }
   ],
   "source": [
    "b= {set([1,2,3,4,5]):'abc',}\n",
    "b                                 #it shows error because set not define in dictionary"
   ]
  }
 ],
 "metadata": {
  "kernelspec": {
   "display_name": "Python 3 (ipykernel)",
   "language": "python",
   "name": "python3"
  },
  "language_info": {
   "codemirror_mode": {
    "name": "ipython",
    "version": 3
   },
   "file_extension": ".py",
   "mimetype": "text/x-python",
   "name": "python",
   "nbconvert_exporter": "python",
   "pygments_lexer": "ipython3",
   "version": "3.12.4"
  }
 },
 "nbformat": 4,
 "nbformat_minor": 5
}
