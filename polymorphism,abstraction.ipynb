{
 "cells": [
  {
   "cell_type": "code",
   "execution_count": 1,
   "id": "bdddbd57-f697-4ce7-9619-1a2c4577e21d",
   "metadata": {},
   "outputs": [
    {
     "data": {
      "text/plain": [
       "3"
      ]
     },
     "execution_count": 1,
     "metadata": {},
     "output_type": "execute_result"
    }
   ],
   "source": [
    "# polymooorphim\n",
    "#poly means many ,form\n",
    "1+2"
   ]
  },
  {
   "cell_type": "code",
   "execution_count": 3,
   "id": "6efdb6a5-3518-47e1-bf3c-291b472d745c",
   "metadata": {},
   "outputs": [
    {
     "data": {
      "text/plain": [
       "'12'"
      ]
     },
     "execution_count": 3,
     "metadata": {},
     "output_type": "execute_result"
    }
   ],
   "source": [
    "\"1\"+\"2\""
   ]
  },
  {
   "cell_type": "code",
   "execution_count": 5,
   "id": "230eb380-cb30-4c9f-8101-0ca5b1a3733a",
   "metadata": {},
   "outputs": [],
   "source": [
    "# method overloading and method overriddng"
   ]
  },
  {
   "cell_type": "code",
   "execution_count": null,
   "id": "5609a62f-dd03-4744-ad37-e48bc7e25f5a",
   "metadata": {},
   "outputs": [],
   "source": [
    "class student:\n",
    "    def info(self,x):\n",
    "\n",
    "    def info(self,x,y)\n"
   ]
  },
  {
   "cell_type": "code",
   "execution_count": 27,
   "id": "d2c713a0-ca91-40e9-92be-7a84858dfc11",
   "metadata": {},
   "outputs": [
    {
     "name": "stdout",
     "output_type": "stream",
     "text": [
      "this is student class2\n"
     ]
    }
   ],
   "source": [
    "#method overloading it is not suupot in pyton\n",
    "class student:\n",
    "    college =\"regex\"\n",
    "    def info(self,x):\n",
    "        print(\"this is student class\")\n",
    "    def info(self,x,y):\n",
    "        print(\"this is student class2\")\n",
    "sr1 =student()\n",
    "sr1.info(20,56)"
   ]
  },
  {
   "cell_type": "code",
   "execution_count": 17,
   "id": "219f3cd9-bfba-4224-8626-e0de1bdb949d",
   "metadata": {},
   "outputs": [
    {
     "name": "stdout",
     "output_type": "stream",
     "text": [
      "this is student reg class regex\n"
     ]
    }
   ],
   "source": [
    "#method overiding\n",
    "class student:\n",
    "    college =\"regex\"\n",
    "    def info(self,x):\n",
    "        print(\"this is student class\")\n",
    "class st(student):\n",
    "    def info(self,x):\n",
    "        print(\"this is student reg class\",student.college)\n",
    "\n",
    "sr1 =st()\n",
    "sr1.info(19)"
   ]
  },
  {
   "cell_type": "code",
   "execution_count": 31,
   "id": "56a96c09-b2df-48df-959c-814eee4b0e36",
   "metadata": {},
   "outputs": [
    {
     "name": "stdout",
     "output_type": "stream",
     "text": [
      "add no has a total of 65\n"
     ]
    }
   ],
   "source": [
    "#operator overloading\n",
    "class add:\n",
    "    def __init__(self,num,num1):\n",
    "        self.total=num+num1\n",
    "    def __repr__(self):\n",
    "        return f\"add no has a total of {self.total}\"\n",
    "\n",
    "a1 = add(35,30)\n",
    "print(a1)"
   ]
  },
  {
   "cell_type": "code",
   "execution_count": 66,
   "id": "9a65d159-bf82-4f2a-ab3a-d684b6039535",
   "metadata": {},
   "outputs": [
    {
     "name": "stdout",
     "output_type": "stream",
     "text": [
      "<class '__main__.add'>\n",
      "add no has a total of 80\n"
     ]
    }
   ],
   "source": [
    "a2 = add(50,30)\n",
    "print(type(a2))\n",
    "print(a2)"
   ]
  },
  {
   "cell_type": "code",
   "execution_count": 68,
   "id": "e9916ca4-77f0-4a4b-98ce-f27084818056",
   "metadata": {},
   "outputs": [
    {
     "ename": "TypeError",
     "evalue": "unsupported operand type(s) for +: 'add' and 'add'",
     "output_type": "error",
     "traceback": [
      "\u001b[1;31m---------------------------------------------------------------------------\u001b[0m",
      "\u001b[1;31mTypeError\u001b[0m                                 Traceback (most recent call last)",
      "Cell \u001b[1;32mIn[68], line 1\u001b[0m\n\u001b[1;32m----> 1\u001b[0m a1\u001b[38;5;241m+\u001b[39ma2\n",
      "\u001b[1;31mTypeError\u001b[0m: unsupported operand type(s) for +: 'add' and 'add'"
     ]
    }
   ],
   "source": [
    "a1+a2     # it shows error\n",
    "# + =>__add__ , __sub__ ,>  __gt__   # dunder functon"
   ]
  },
  {
   "cell_type": "code",
   "execution_count": 62,
   "id": "f99eb345-d70b-4e06-98d4-1c00925b02be",
   "metadata": {},
   "outputs": [],
   "source": []
  },
  {
   "cell_type": "code",
   "execution_count": 33,
   "id": "d4fe0f60-092b-483b-9303-4868be6099da",
   "metadata": {},
   "outputs": [
    {
     "name": "stdout",
     "output_type": "stream",
     "text": [
      "add no has a total of 65\n"
     ]
    }
   ],
   "source": [
    "class add:\n",
    "    def __init__(self,num,num1):\n",
    "        self.total=num+num1\n",
    "    def __repr__(self):\n",
    "        return f\"add no has a total of {self.total}\"\n",
    "        \n",
    "    def __add__(self,x):           # use dundor funx\n",
    "            print(\"hello\",x)\n",
    "a1 = add(35,30)\n",
    "print(a1)"
   ]
  },
  {
   "cell_type": "code",
   "execution_count": 35,
   "id": "ce815ae0-cbb0-4025-82a1-e541e2b6bbe9",
   "metadata": {},
   "outputs": [
    {
     "name": "stdout",
     "output_type": "stream",
     "text": [
      "<class '__main__.add'>\n",
      "add no has a total of 80\n"
     ]
    }
   ],
   "source": [
    "a2 = add(50,30)\n",
    "print(type(a2))\n",
    "print(a2)"
   ]
  },
  {
   "cell_type": "code",
   "execution_count": 37,
   "id": "ff411f13-ac55-4b69-b518-656c41b510ee",
   "metadata": {},
   "outputs": [
    {
     "name": "stdout",
     "output_type": "stream",
     "text": [
      "hello add no has a total of 80\n"
     ]
    }
   ],
   "source": [
    "a1+a2"
   ]
  },
  {
   "cell_type": "code",
   "execution_count": 41,
   "id": "bc20b65b-8d0e-4972-9e8f-56cc7d8e95ba",
   "metadata": {},
   "outputs": [
    {
     "data": {
      "text/plain": [
       "False"
      ]
     },
     "execution_count": 41,
     "metadata": {},
     "output_type": "execute_result"
    }
   ],
   "source": [
    "a1.total>a2.total"
   ]
  },
  {
   "cell_type": "code",
   "execution_count": 43,
   "id": "c5e7b33d-1bcb-4130-966e-aa3006e3fdcc",
   "metadata": {},
   "outputs": [
    {
     "name": "stdout",
     "output_type": "stream",
     "text": [
      "add no has a total of 65\n"
     ]
    }
   ],
   "source": [
    "class add:\n",
    "    def __init__(self,num,num1):\n",
    "        self.total=num+num1\n",
    "    def __repr__(self):\n",
    "        return f\"add no has a total of {self.total}\"\n",
    "        \n",
    "    def __add__(self,x):           # use dundor funx\n",
    "            print(\"hello\",x)\n",
    "    def __gt__(self,y):\n",
    "        print(\"greater\")\n",
    "a1 = add(35,30)\n",
    "print(a1)"
   ]
  },
  {
   "cell_type": "code",
   "execution_count": 59,
   "id": "12a4a241-c6c2-4371-b9d4-6fa9fd3a086f",
   "metadata": {},
   "outputs": [
    {
     "name": "stdout",
     "output_type": "stream",
     "text": [
      "greater\n"
     ]
    }
   ],
   "source": [
    "a1>a2"
   ]
  },
  {
   "cell_type": "code",
   "execution_count": 61,
   "id": "8b69f786-2711-45da-9a1f-8c945d48e73c",
   "metadata": {},
   "outputs": [],
   "source": [
    "#Encapsulation"
   ]
  },
  {
   "cell_type": "code",
   "execution_count": 45,
   "id": "122b80fc-0b72-4965-92a2-2df43d47383e",
   "metadata": {},
   "outputs": [],
   "source": [
    "#access modifier\n",
    "# public ,protected ,private,default\n",
    "class register:\n",
    "    __amount =100              \n",
    "    company = \"regex\"\n",
    "\n",
    "    def abc(self):\n",
    "        print(\"amount is\",self.__amount)"
   ]
  },
  {
   "cell_type": "code",
   "execution_count": 47,
   "id": "1d68cf43-cdab-41cd-a447-292ce9234325",
   "metadata": {},
   "outputs": [
    {
     "name": "stdout",
     "output_type": "stream",
     "text": [
      "amount is 100\n"
     ]
    },
    {
     "data": {
      "text/plain": [
       "100"
      ]
     },
     "execution_count": 47,
     "metadata": {},
     "output_type": "execute_result"
    }
   ],
   "source": [
    "r1 =register()\n",
    "r1.abc()\n",
    "r1._register__amount                        #_class__variable    achieve private "
   ]
  },
  {
   "cell_type": "code",
   "execution_count": 67,
   "id": "ee124042-ef8f-4d0a-ac87-4dd7b14964a6",
   "metadata": {},
   "outputs": [
    {
     "name": "stdout",
     "output_type": "stream",
     "text": [
      "test mark is 10\n"
     ]
    }
   ],
   "source": [
    "class testTemp:\n",
    "    year=2025\n",
    "    def marks(self):\n",
    "        print(\"test mark is 10\")\n",
    "\n",
    "class pythonTest(testTemp):\n",
    "    def asd(self):\n",
    "        print(\"python test mark is 20\")\n",
    "\n",
    "\n",
    "p1 =pythonTest()\n",
    "p1.marks()"
   ]
  },
  {
   "cell_type": "code",
   "execution_count": 73,
   "id": "f2239f50-d651-4d2e-b1a3-e18ba9b9b160",
   "metadata": {},
   "outputs": [],
   "source": [
    "class testTemp:\n",
    "    year=2025\n",
    "    def marks(self):\n",
    "        pass\n",
    "\n",
    "class pythonTest(testTemp):\n",
    "    def asd(self):\n",
    "        print(\"python test mark is 20\")\n",
    "\n",
    "\n",
    "p1 =pythonTest()\n",
    "p1.marks()"
   ]
  },
  {
   "cell_type": "code",
   "execution_count": 75,
   "id": "a6ffd9ff-d0a6-4cda-84b4-78f9bc86a13f",
   "metadata": {},
   "outputs": [],
   "source": [
    "# abstraction --> unwanted data hide "
   ]
  },
  {
   "cell_type": "code",
   "execution_count": 77,
   "id": "41194c55-e92c-4831-b002-c4675b8e6eeb",
   "metadata": {},
   "outputs": [],
   "source": [
    "# abstract class --> it behave blue print for all child class  \n",
    "#ac shoult have at least one abstract method"
   ]
  },
  {
   "cell_type": "code",
   "execution_count": 202,
   "id": "37843e23-cb98-43ac-98b9-4d7a4205f581",
   "metadata": {},
   "outputs": [
    {
     "name": "stdout",
     "output_type": "stream",
     "text": [
      "python test mark is 20\n"
     ]
    }
   ],
   "source": [
    "from abc import ABC, abstractmethod\n",
    "# abstract base class\n",
    "class testTemp(ABC):\n",
    "    year=2025\n",
    "    @abstractmethod\n",
    "    def marks(self):\n",
    "        pass\n",
    "\n",
    "class pythonTest(testTemp):\n",
    "    def marks(self):\n",
    "        print(\"python test mark is 20\")\n",
    "\n",
    "\n",
    "p1 =pythonTest()\n",
    "p1.marks()"
   ]
  },
  {
   "cell_type": "code",
   "execution_count": 194,
   "id": "dd9eb48e-ec19-480d-9020-81abded46cdd",
   "metadata": {},
   "outputs": [
    {
     "ename": "TypeError",
     "evalue": "Can't instantiate abstract class testTemp with abstract method marks",
     "output_type": "error",
     "traceback": [
      "\u001b[1;31m---------------------------------------------------------------------------\u001b[0m",
      "\u001b[1;31mTypeError\u001b[0m                                 Traceback (most recent call last)",
      "Cell \u001b[1;32mIn[194], line 1\u001b[0m\n\u001b[1;32m----> 1\u001b[0m p2 \u001b[38;5;241m=\u001b[39mtestTemp()\n",
      "\u001b[1;31mTypeError\u001b[0m: Can't instantiate abstract class testTemp with abstract method marks"
     ]
    }
   ],
   "source": [
    "p2 =testTemp()     # kbhi abstrac class ka object nhi banta"
   ]
  },
  {
   "cell_type": "code",
   "execution_count": 200,
   "id": "faf3fb69-deb3-4d78-9fd0-567c61fc7f1d",
   "metadata": {},
   "outputs": [],
   "source": [
    "# class method ,instance method ,static\n",
    "\n",
    "# class -->associated with class ,only class variable can be acces\n",
    "# cls \n",
    "# instance                           ,instance or class variable can be acces\n",
    "# static -> koi bhi accrss             ,both not ,\n",
    "# @staticmethod"
   ]
  },
  {
   "cell_type": "code",
   "execution_count": 208,
   "id": "480f17c8-f190-4429-ae17-f25b30461669",
   "metadata": {},
   "outputs": [
    {
     "name": "stdout",
     "output_type": "stream",
     "text": [
      "python test mark is 20\n"
     ]
    }
   ],
   "source": [
    "class testTemp(ABC):\n",
    "    year=2025\n",
    "    @abstractmethod\n",
    "    def marks(self):\n",
    "        pass\n",
    "\n",
    "class pythonTest(testTemp):\n",
    "    @staticmethod\n",
    "    def marks():\n",
    "        print(\"python test mark is 20\")\n",
    "\n",
    "\n",
    "p1 =pythonTest()\n",
    "p1.marks()"
   ]
  },
  {
   "cell_type": "code",
   "execution_count": null,
   "id": "02822112-5462-480d-bc63-b80cd8a4b52a",
   "metadata": {},
   "outputs": [],
   "source": []
  },
  {
   "cell_type": "code",
   "execution_count": null,
   "id": "05cfb472-2c03-4db7-965d-2f9313353216",
   "metadata": {},
   "outputs": [],
   "source": []
  },
  {
   "cell_type": "code",
   "execution_count": null,
   "id": "c0d7b2c9-b82c-4af3-94ca-782da0976a5a",
   "metadata": {},
   "outputs": [],
   "source": []
  },
  {
   "cell_type": "code",
   "execution_count": null,
   "id": "af3a4072-29c7-4f30-897a-ccfbde8e462b",
   "metadata": {},
   "outputs": [],
   "source": []
  },
  {
   "cell_type": "code",
   "execution_count": null,
   "id": "6bd37cf4-4f15-441e-ab9e-0880fde83190",
   "metadata": {},
   "outputs": [],
   "source": []
  }
 ],
 "metadata": {
  "kernelspec": {
   "display_name": "Python 3 (ipykernel)",
   "language": "python",
   "name": "python3"
  },
  "language_info": {
   "codemirror_mode": {
    "name": "ipython",
    "version": 3
   },
   "file_extension": ".py",
   "mimetype": "text/x-python",
   "name": "python",
   "nbconvert_exporter": "python",
   "pygments_lexer": "ipython3",
   "version": "3.11.7"
  }
 },
 "nbformat": 4,
 "nbformat_minor": 5
}
