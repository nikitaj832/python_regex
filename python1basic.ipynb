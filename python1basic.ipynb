{
 "cells": [
  {
   "cell_type": "code",
   "execution_count": 9,
   "id": "20df562c-4bc4-4ddf-87ed-2b39eeba0d5b",
   "metadata": {},
   "outputs": [
    {
     "name": "stdout",
     "output_type": "stream",
     "text": [
      "ni\n",
      "ki\n",
      "ja\n",
      "in\n"
     ]
    }
   ],
   "source": [
    "print('ni\\nki')\n",
    "print('ja\\nin')"
   ]
  },
  {
   "cell_type": "code",
   "execution_count": 17,
   "id": "52ed7192-4006-4093-848f-fb28a603bafb",
   "metadata": {},
   "outputs": [
    {
     "name": "stdout",
     "output_type": "stream",
     "text": [
      "hey\n",
      "h\n"
     ]
    }
   ],
   "source": [
    "print(\"hey\",end='\\n')\n",
    "print(\"h\")"
   ]
  },
  {
   "cell_type": "code",
   "execution_count": 21,
   "id": "84eac308-19b1-4fe2-8097-d7885eb55efd",
   "metadata": {},
   "outputs": [
    {
     "name": "stdout",
     "output_type": "stream",
     "text": [
      "hey h\n"
     ]
    }
   ],
   "source": [
    "print(\"hey\",end=' ')\n",
    "print(\"h\")"
   ]
  },
  {
   "cell_type": "code",
   "execution_count": 25,
   "id": "4b9bd903-3aee-4594-9fa0-20cd913aca50",
   "metadata": {},
   "outputs": [
    {
     "name": "stdout",
     "output_type": "stream",
     "text": [
      "hey#h\n"
     ]
    }
   ],
   "source": [
    "print(\"hey\",end='#')\n",
    "print(\"h\")"
   ]
  },
  {
   "cell_type": "code",
   "execution_count": 29,
   "id": "0579b112-31c3-43b7-a6fc-e7379d5922c2",
   "metadata": {},
   "outputs": [
    {
     "name": "stdout",
     "output_type": "stream",
     "text": [
      "niki\n",
      "$jain\n"
     ]
    }
   ],
   "source": [
    "print('niki\\n',end='$')\n",
    "print('jain')"
   ]
  },
  {
   "cell_type": "code",
   "execution_count": 31,
   "id": "abef6ac4-fdb1-44ec-96d3-96beeafa9c06",
   "metadata": {},
   "outputs": [
    {
     "name": "stdout",
     "output_type": "stream",
     "text": [
      "<class 'int'>\n"
     ]
    }
   ],
   "source": [
    "salary = 100\n",
    "print(type(salary))"
   ]
  },
  {
   "cell_type": "code",
   "execution_count": 37,
   "id": "10deab0c-0ad7-46c0-8515-ad1497d56754",
   "metadata": {},
   "outputs": [
    {
     "name": "stdout",
     "output_type": "stream",
     "text": [
      "my company name is : regex\n"
     ]
    }
   ],
   "source": [
    "company='regex'\n",
    "print(f'my company name is : {company}')"
   ]
  },
  {
   "cell_type": "code",
   "execution_count": 39,
   "id": "745a6d7e-e690-49e5-b759-5829231194d5",
   "metadata": {},
   "outputs": [
    {
     "name": "stdout",
     "output_type": "stream",
     "text": [
      "my age is:60 and my category is senior\n"
     ]
    }
   ],
   "source": [
    "age=60\n",
    "category = \"senior\"\n",
    "print(f\"my age is:{age} and my category is {category}\")\n"
   ]
  },
  {
   "cell_type": "code",
   "execution_count": 44,
   "id": "5812faa9-0b91-4e60-a5f8-6ab099d809e2",
   "metadata": {},
   "outputs": [
    {
     "name": "stdout",
     "output_type": "stream",
     "text": [
      "hey my age name is 60\n"
     ]
    }
   ],
   "source": [
    "print(\"hey my age name is {}\".format(age))"
   ]
  },
  {
   "cell_type": "code",
   "execution_count": 48,
   "id": "b52a21ac-9afd-4bf7-a3ca-bd6faaff3abc",
   "metadata": {},
   "outputs": [
    {
     "name": "stdout",
     "output_type": "stream",
     "text": [
      "hey aman my name is vaishali\n"
     ]
    }
   ],
   "source": [
    "print(\"hey {} my name is {}\".format('aman','vaishali'))"
   ]
  },
  {
   "cell_type": "code",
   "execution_count": 50,
   "id": "58f0d133-57db-46e6-a6df-60036369d335",
   "metadata": {},
   "outputs": [
    {
     "name": "stdout",
     "output_type": "stream",
     "text": [
      "hey vaishali my name is aman\n"
     ]
    }
   ],
   "source": [
    "print(\"hey {1} my name is {0}\".format('aman','vaishali'))"
   ]
  },
  {
   "cell_type": "code",
   "execution_count": 52,
   "id": "16d78258-1191-4878-bf13-bb048d8a3102",
   "metadata": {},
   "outputs": [
    {
     "name": "stdout",
     "output_type": "stream",
     "text": [
      "basant bahar\n",
      "gopalpura\n"
     ]
    }
   ],
   "source": [
    "address = \"\"\"basant bahar\n",
    "gopalpura\"\"\"\n",
    "print(address)"
   ]
  },
  {
   "cell_type": "code",
   "execution_count": 54,
   "id": "dc57cc75-e8f5-4d76-a6b8-3f07bc126476",
   "metadata": {},
   "outputs": [],
   "source": [
    "#operator"
   ]
  },
  {
   "cell_type": "code",
   "execution_count": 56,
   "id": "9cd9526b-26b5-4fa8-ba2e-3b52f9f19dde",
   "metadata": {},
   "outputs": [
    {
     "data": {
      "text/plain": [
       "3.0"
      ]
     },
     "execution_count": 56,
     "metadata": {},
     "output_type": "execute_result"
    }
   ],
   "source": [
    "1.0+2"
   ]
  },
  {
   "cell_type": "code",
   "execution_count": 58,
   "id": "3a6eb003-fe29-4e46-8e37-23caf6fdfd9e",
   "metadata": {},
   "outputs": [],
   "source": [
    "#solve\n",
    "#**\n",
    "# * / // % (left to right)\n",
    "#+ -"
   ]
  },
  {
   "cell_type": "code",
   "execution_count": 60,
   "id": "8d7c1fb5-d928-481f-b6aa-9babc86efecf",
   "metadata": {},
   "outputs": [
    {
     "data": {
      "text/plain": [
       "3.3333333333333335"
      ]
     },
     "execution_count": 60,
     "metadata": {},
     "output_type": "execute_result"
    }
   ],
   "source": [
    "y=10\n",
    "y/=3\n",
    "y"
   ]
  },
  {
   "cell_type": "code",
   "execution_count": 64,
   "id": "54962ed7-25e5-4d21-9837-a05216d7e4ec",
   "metadata": {},
   "outputs": [
    {
     "data": {
      "text/plain": [
       "True"
      ]
     },
     "execution_count": 64,
     "metadata": {},
     "output_type": "execute_result"
    }
   ],
   "source": [
    "x=10\n",
    "y=-5\n",
    "salary = 10000\n",
    "x>0 or y>0 and salary>1000"
   ]
  },
  {
   "cell_type": "code",
   "execution_count": 66,
   "id": "72fe566c-7e2c-412d-8405-6e679d93041e",
   "metadata": {},
   "outputs": [
    {
     "data": {
      "text/plain": [
       "9"
      ]
     },
     "execution_count": 66,
     "metadata": {},
     "output_type": "execute_result"
    }
   ],
   "source": [
    "#bitwise op\n",
    "9&11"
   ]
  },
  {
   "cell_type": "code",
   "execution_count": 68,
   "id": "175c4025-5768-4ba4-a172-abbc8536e356",
   "metadata": {},
   "outputs": [
    {
     "data": {
      "text/plain": [
       "8"
      ]
     },
     "execution_count": 68,
     "metadata": {},
     "output_type": "execute_result"
    }
   ],
   "source": [
    "9&14"
   ]
  },
  {
   "cell_type": "code",
   "execution_count": 70,
   "id": "daf52c7a-52ed-472a-b7f3-4bac35d3ef4b",
   "metadata": {},
   "outputs": [
    {
     "data": {
      "text/plain": [
       "4"
      ]
     },
     "execution_count": 70,
     "metadata": {},
     "output_type": "execute_result"
    }
   ],
   "source": [
    "6&12"
   ]
  },
  {
   "cell_type": "code",
   "execution_count": 74,
   "id": "47586cdb-1460-49e8-98c9-76d38c9d4f61",
   "metadata": {},
   "outputs": [
    {
     "data": {
      "text/plain": [
       "14"
      ]
     },
     "execution_count": 74,
     "metadata": {},
     "output_type": "execute_result"
    }
   ],
   "source": [
    "6|12"
   ]
  },
  {
   "cell_type": "code",
   "execution_count": 78,
   "id": "643284b3-44e4-48c6-afbb-8b66defa9036",
   "metadata": {},
   "outputs": [
    {
     "data": {
      "text/plain": [
       "4"
      ]
     },
     "execution_count": 78,
     "metadata": {},
     "output_type": "execute_result"
    }
   ],
   "source": [
    "#right shift\n",
    "9>>1\n",
    "#number // 2**bit"
   ]
  },
  {
   "cell_type": "code",
   "execution_count": 84,
   "id": "f1742668-ec0f-47be-8833-dc668b1a5e6b",
   "metadata": {},
   "outputs": [
    {
     "data": {
      "text/plain": [
       "18"
      ]
     },
     "execution_count": 84,
     "metadata": {},
     "output_type": "execute_result"
    }
   ],
   "source": [
    "#left shift\n",
    "9<<1\n",
    "#number * 2**bit(left shift)"
   ]
  },
  {
   "cell_type": "code",
   "execution_count": 82,
   "id": "7b4e879e-bfab-402c-a4bd-bd3de5e5df31",
   "metadata": {},
   "outputs": [
    {
     "data": {
      "text/plain": [
       "4"
      ]
     },
     "execution_count": 82,
     "metadata": {},
     "output_type": "execute_result"
    }
   ],
   "source": [
    "9//2**1   #right shift"
   ]
  },
  {
   "cell_type": "code",
   "execution_count": 86,
   "id": "b9a35d48-cd9e-4312-9bc3-3add55c4770c",
   "metadata": {},
   "outputs": [
    {
     "data": {
      "text/plain": [
       "18"
      ]
     },
     "execution_count": 86,
     "metadata": {},
     "output_type": "execute_result"
    }
   ],
   "source": [
    "9 * 2**1      #left shift"
   ]
  },
  {
   "cell_type": "code",
   "execution_count": 90,
   "id": "54fc9b03-3c4e-4e1e-859c-542e60ac3c48",
   "metadata": {},
   "outputs": [
    {
     "data": {
      "text/plain": [
       "176"
      ]
     },
     "execution_count": 90,
     "metadata": {},
     "output_type": "execute_result"
    }
   ],
   "source": [
    "22<<3"
   ]
  },
  {
   "cell_type": "code",
   "execution_count": 94,
   "id": "d503c1e1-4137-4c86-9ed1-acd9b945251b",
   "metadata": {},
   "outputs": [
    {
     "data": {
      "text/plain": [
       "176"
      ]
     },
     "execution_count": 94,
     "metadata": {},
     "output_type": "execute_result"
    }
   ],
   "source": [
    "22*2**3"
   ]
  },
  {
   "cell_type": "code",
   "execution_count": 96,
   "id": "9b82ab60-0808-470d-b675-f712cb34e782",
   "metadata": {},
   "outputs": [],
   "source": [
    "#data types\n"
   ]
  },
  {
   "cell_type": "code",
   "execution_count": 98,
   "id": "81356bf0-8f50-449f-94b7-51fa96ecb64e",
   "metadata": {},
   "outputs": [
    {
     "name": "stdout",
     "output_type": "stream",
     "text": [
      "140735064491080\n"
     ]
    }
   ],
   "source": [
    "x=10\n",
    "print(id(x))"
   ]
  },
  {
   "cell_type": "code",
   "execution_count": 100,
   "id": "78cc389f-011e-410d-8cae-00bef8025d9f",
   "metadata": {},
   "outputs": [
    {
     "data": {
      "text/plain": [
       "False"
      ]
     },
     "execution_count": 100,
     "metadata": {},
     "output_type": "execute_result"
    }
   ],
   "source": [
    "x==y"
   ]
  },
  {
   "cell_type": "code",
   "execution_count": 102,
   "id": "48649192-ba6f-42a4-ba89-6ce940a406b2",
   "metadata": {},
   "outputs": [
    {
     "data": {
      "text/plain": [
       "False"
      ]
     },
     "execution_count": 102,
     "metadata": {},
     "output_type": "execute_result"
    }
   ],
   "source": [
    "x is y"
   ]
  },
  {
   "cell_type": "code",
   "execution_count": 104,
   "id": "5e4727ed-91ca-4efe-9f44-d6855f1ba2be",
   "metadata": {},
   "outputs": [],
   "source": [
    "#if else "
   ]
  },
  {
   "cell_type": "code",
   "execution_count": 106,
   "id": "2fbec07f-c4e0-4b39-941c-b1b9d86b06cf",
   "metadata": {},
   "outputs": [
    {
     "name": "stdout",
     "output_type": "stream",
     "text": [
      "child\n"
     ]
    }
   ],
   "source": [
    "age=17\n",
    "if(age>18):\n",
    "    print('adult')\n",
    "else:\n",
    "    print('child')"
   ]
  },
  {
   "cell_type": "code",
   "execution_count": 108,
   "id": "95799b42-64c9-4190-af05-38f87c972817",
   "metadata": {},
   "outputs": [
    {
     "name": "stdout",
     "output_type": "stream",
     "text": [
      "child\n",
      "young\n"
     ]
    }
   ],
   "source": [
    "age=17\n",
    "if(age==18):\n",
    "    print('adult')\n",
    "else:\n",
    "    print('child')\n",
    "if(age==17):\n",
    "    print('young')\n",
    "else:\n",
    "    print('child')"
   ]
  },
  {
   "cell_type": "code",
   "execution_count": 110,
   "id": "efa5d3ba-e1aa-498e-b0ad-a18a54ac93fc",
   "metadata": {},
   "outputs": [
    {
     "name": "stdout",
     "output_type": "stream",
     "text": [
      "young\n"
     ]
    }
   ],
   "source": [
    "age = 25 \n",
    "if(age==18):\n",
    "    print('adult')\n",
    "elif(age==25):\n",
    "    print('young')\n",
    "else:\n",
    "    print('child')"
   ]
  },
  {
   "cell_type": "code",
   "execution_count": null,
   "id": "2d8357c6-9eda-44a2-a864-fb4f5d1ae570",
   "metadata": {},
   "outputs": [],
   "source": []
  },
  {
   "cell_type": "code",
   "execution_count": 121,
   "id": "fbfe4d75-8251-437a-81ad-16212fad44c3",
   "metadata": {},
   "outputs": [
    {
     "name": "stdout",
     "output_type": "stream",
     "text": [
      "neutral\n"
     ]
    }
   ],
   "source": [
    "num =0\n",
    "if(num>0 or num<0):\n",
    "    print('integer')\n",
    "else:\n",
    "    print('neutral')"
   ]
  },
  {
   "cell_type": "code",
   "execution_count": 123,
   "id": "244c4d4a-02a9-410f-b6eb-3debb1a9a5d5",
   "metadata": {},
   "outputs": [
    {
     "name": "stdout",
     "output_type": "stream",
     "text": [
      "positive\n"
     ]
    }
   ],
   "source": [
    "num = 10\n",
    "if num>0:\n",
    "    print('positive')\n",
    "elif num<0:\n",
    "    print('negtaive')\n",
    "else:\n",
    "    print(\"zero\")"
   ]
  },
  {
   "cell_type": "code",
   "execution_count": 125,
   "id": "6e023eab-f6c4-4a24-9298-ed2b700c2e4b",
   "metadata": {},
   "outputs": [
    {
     "name": "stdout",
     "output_type": "stream",
     "text": [
      "a is smaller\n"
     ]
    }
   ],
   "source": [
    "a=10\n",
    "b=20\n",
    "if a>b:\n",
    "    print(\"b is smaller\")\n",
    "else:\n",
    "    print('a is smaller')"
   ]
  },
  {
   "cell_type": "code",
   "execution_count": 131,
   "id": "de107727-6519-4f06-998d-971d5e1353d2",
   "metadata": {},
   "outputs": [
    {
     "name": "stdout",
     "output_type": "stream",
     "text": [
      "z is small\n"
     ]
    }
   ],
   "source": [
    "x=10\n",
    "y=20\n",
    "z=3\n",
    "if y>x and z>x:\n",
    "    print('x is small')\n",
    "elif x>y and z>y:\n",
    "    print('y is small')\n",
    "else:\n",
    "    print(\"z is small\")"
   ]
  },
  {
   "cell_type": "code",
   "execution_count": 135,
   "id": "63c30903-7202-4fba-b2a7-7639ab91f25c",
   "metadata": {},
   "outputs": [
    {
     "name": "stdout",
     "output_type": "stream",
     "text": [
      "even\n"
     ]
    }
   ],
   "source": [
    "a=4\n",
    "if a%2==0:\n",
    "    print('even')\n",
    "else:\n",
    "    print('odd')"
   ]
  },
  {
   "cell_type": "code",
   "execution_count": 151,
   "id": "4324f9d4-08ce-4a17-ada6-ec06e93cf916",
   "metadata": {},
   "outputs": [
    {
     "name": "stdout",
     "output_type": "stream",
     "text": [
      "senior\n"
     ]
    }
   ],
   "source": [
    "age= 28\n",
    "if age>10 and age<18:\n",
    "    print('young')\n",
    "elif age >=18 and age<26:\n",
    "    print('adult')\n",
    "elif age >=26 and age<60:\n",
    "    print('senior')\n",
    "elif age>60:\n",
    "    print('old senior')\n",
    "else:\n",
    "    print('child')"
   ]
  },
  {
   "cell_type": "code",
   "execution_count": null,
   "id": "c436a4d0-3850-464f-adc4-697f08e4bf26",
   "metadata": {},
   "outputs": [],
   "source": []
  }
 ],
 "metadata": {
  "kernelspec": {
   "display_name": "Python 3 (ipykernel)",
   "language": "python",
   "name": "python3"
  },
  "language_info": {
   "codemirror_mode": {
    "name": "ipython",
    "version": 3
   },
   "file_extension": ".py",
   "mimetype": "text/x-python",
   "name": "python",
   "nbconvert_exporter": "python",
   "pygments_lexer": "ipython3",
   "version": "3.11.7"
  }
 },
 "nbformat": 4,
 "nbformat_minor": 5
}
