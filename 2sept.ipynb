{
 "cells": [
  {
   "cell_type": "code",
   "execution_count": 12,
   "id": "5949e59a-d068-442a-b52a-c28d4115c05a",
   "metadata": {},
   "outputs": [
    {
     "name": "stdout",
     "output_type": "stream",
     "text": [
      "my age is 40\n",
      "my age is ,50\n"
     ]
    }
   ],
   "source": [
    "print('my age is',40)\n",
    "age=50\n",
    "print(f'my age is ,{age}')"
   ]
  },
  {
   "cell_type": "code",
   "execution_count": 10,
   "id": "4dbf8402-ff17-4620-aa28-31da6e526e3b",
   "metadata": {},
   "outputs": [
    {
     "name": "stdout",
     "output_type": "stream",
     "text": [
      "hey niki how are you\n",
      "i ma fine\n"
     ]
    }
   ],
   "source": [
    "print('hey niki',end = ' ' )\n",
    "print('how are you')\n",
    "print('i ma fine')"
   ]
  },
  {
   "cell_type": "code",
   "execution_count": 9,
   "id": "df871c3d-eacf-4670-b224-b2fec0b5fcec",
   "metadata": {},
   "outputs": [
    {
     "name": "stdout",
     "output_type": "stream",
     "text": [
      "hey niki#$$how are you\n",
      "i ma fine\n"
     ]
    }
   ],
   "source": [
    "print('hey niki',end = '#$$' )\n",
    "print('how are you')\n",
    "print('i ma fine')"
   ]
  },
  {
   "cell_type": "code",
   "execution_count": 8,
   "id": "9f2caa53-430a-4790-a05f-37c11b0976c4",
   "metadata": {},
   "outputs": [],
   "source": [
    "#coonvert of data types\n",
    "#str(variable to be converted)\n"
   ]
  },
  {
   "cell_type": "code",
   "execution_count": 19,
   "id": "c24b3f2c-ce7c-41fa-bb1f-a45cf2a067c9",
   "metadata": {},
   "outputs": [
    {
     "data": {
      "text/plain": [
       "False"
      ]
     },
     "execution_count": 19,
     "metadata": {},
     "output_type": "execute_result"
    }
   ],
   "source": [
    "a=''\n",
    "bool(a)"
   ]
  },
  {
   "cell_type": "code",
   "execution_count": 21,
   "id": "844e8a85-9f6f-4b4a-8272-00521937d7dc",
   "metadata": {},
   "outputs": [
    {
     "data": {
      "text/plain": [
       "True"
      ]
     },
     "execution_count": 21,
     "metadata": {},
     "output_type": "execute_result"
    }
   ],
   "source": [
    "b=' '\n",
    "bool(b)"
   ]
  },
  {
   "cell_type": "code",
   "execution_count": 31,
   "id": "1f876072-361c-4616-9abb-994d317d788c",
   "metadata": {},
   "outputs": [
    {
     "name": "stdout",
     "output_type": "stream",
     "text": [
      "30\n",
      "-10\n",
      "0.5\n",
      "0\n",
      "10\n",
      "200\n",
      "100000000000000000000\n"
     ]
    }
   ],
   "source": [
    "#arithmetic operator \n",
    "a=10\n",
    "b=20\n",
    "print(a+b)\n",
    "print(a-b)\n",
    "print(a/b)\n",
    "print(a//b)\n",
    "print(a%b)\n",
    "print(a*b)\n",
    "print(a**b)"
   ]
  },
  {
   "cell_type": "code",
   "execution_count": 1,
   "id": "787b6b5d-09a0-4fc1-bc75-5cdd27129760",
   "metadata": {},
   "outputs": [],
   "source": [
    "#c='a'\n",
    "#int(c)\n",
    "#it shows error\n"
   ]
  },
  {
   "cell_type": "code",
   "execution_count": 6,
   "id": "a94f7232-bfe7-4b3a-961b-a2cad771d10f",
   "metadata": {},
   "outputs": [
    {
     "data": {
      "text/plain": [
       "'1233'"
      ]
     },
     "execution_count": 6,
     "metadata": {},
     "output_type": "execute_result"
    }
   ],
   "source": [
    "a=1233\n",
    "str(a)\n"
   ]
  },
  {
   "cell_type": "code",
   "execution_count": 7,
   "id": "01a0fe4a-91d3-4310-a3ff-97013d21fefa",
   "metadata": {},
   "outputs": [
    {
     "data": {
      "text/plain": [
       "True"
      ]
     },
     "execution_count": 7,
     "metadata": {},
     "output_type": "execute_result"
    }
   ],
   "source": [
    "b=3445\n",
    "bool(b)"
   ]
  },
  {
   "cell_type": "code",
   "execution_count": 14,
   "id": "57210e45-956c-46da-b185-d14eaf8eb3bd",
   "metadata": {},
   "outputs": [
    {
     "data": {
      "text/plain": [
       "1"
      ]
     },
     "execution_count": 14,
     "metadata": {},
     "output_type": "execute_result"
    }
   ],
   "source": [
    "c=True\n",
    "int(c)"
   ]
  },
  {
   "cell_type": "code",
   "execution_count": 15,
   "id": "dab8a03d-f2a0-4466-903f-9aaf5803cf74",
   "metadata": {},
   "outputs": [
    {
     "data": {
      "text/plain": [
       "'True'"
      ]
     },
     "execution_count": 15,
     "metadata": {},
     "output_type": "execute_result"
    }
   ],
   "source": [
    "str(c)"
   ]
  },
  {
   "cell_type": "code",
   "execution_count": 16,
   "id": "865210c4-0524-4521-9179-8898f7166a1f",
   "metadata": {},
   "outputs": [
    {
     "data": {
      "text/plain": [
       "1.0"
      ]
     },
     "execution_count": 16,
     "metadata": {},
     "output_type": "execute_result"
    }
   ],
   "source": [
    "float(c)"
   ]
  },
  {
   "cell_type": "code",
   "execution_count": 34,
   "id": "1794cf15-9a96-4214-8d37-0bad74dc12a8",
   "metadata": {},
   "outputs": [
    {
     "name": "stdout",
     "output_type": "stream",
     "text": [
      "False\n",
      "True\n",
      "True\n",
      "False\n",
      "True\n",
      "False\n"
     ]
    }
   ],
   "source": [
    "#comparison operator\n",
    "print(a==b)\n",
    "print(a!=b)\n",
    "print(a<b)\n",
    "print(a>b)\n",
    "print(a<=b)\n",
    "print(a>=b)"
   ]
  },
  {
   "cell_type": "code",
   "execution_count": 42,
   "id": "b89cdee9-4e1d-4fa7-a4d9-17e11d448c23",
   "metadata": {},
   "outputs": [
    {
     "name": "stdout",
     "output_type": "stream",
     "text": [
      "7\n",
      "5\n",
      "2.5\n",
      "5.0\n",
      "2.0\n",
      "4.0\n"
     ]
    }
   ],
   "source": [
    "#assignment operator\n",
    "x=5\n",
    "x+=2\n",
    "print(x)\n",
    "\n",
    "\n",
    "x-=2\n",
    "print(x)\n",
    "\n",
    "x/=2\n",
    "print(x)\n",
    "\n",
    "x*=2\n",
    "print(x)\n",
    "\n",
    "x//=2\n",
    "print(x)\n",
    "\n",
    "x**=2\n",
    "print(x)"
   ]
  },
  {
   "cell_type": "code",
   "execution_count": 45,
   "id": "65e64e3d-2579-4799-a009-09bed45cf63f",
   "metadata": {},
   "outputs": [
    {
     "name": "stdout",
     "output_type": "stream",
     "text": [
      "7.714285714285708\n"
     ]
    }
   ],
   "source": [
    "print(5+4-3**6//5 *6/7%3)"
   ]
  },
  {
   "cell_type": "code",
   "execution_count": 18,
   "id": "5c04394e-7f33-4eee-bfe5-dfd117a06780",
   "metadata": {},
   "outputs": [
    {
     "name": "stdout",
     "output_type": "stream",
     "text": [
      "0.4285714285714284\n"
     ]
    }
   ],
   "source": [
    "print(24/7%3)"
   ]
  },
  {
   "cell_type": "code",
   "execution_count": 21,
   "id": "19bef07e-44c2-4528-92a5-09180885c2bd",
   "metadata": {},
   "outputs": [
    {
     "name": "stdout",
     "output_type": "stream",
     "text": [
      "7.714285714285708\n"
     ]
    }
   ],
   "source": [
    "x=5+4-3**6//5*6/7%3\n",
    "print(x)"
   ]
  }
 ],
 "metadata": {
  "kernelspec": {
   "display_name": "Python 3 (ipykernel)",
   "language": "python",
   "name": "python3"
  },
  "language_info": {
   "codemirror_mode": {
    "name": "ipython",
    "version": 3
   },
   "file_extension": ".py",
   "mimetype": "text/x-python",
   "name": "python",
   "nbconvert_exporter": "python",
   "pygments_lexer": "ipython3",
   "version": "3.12.4"
  }
 },
 "nbformat": 4,
 "nbformat_minor": 5
}
