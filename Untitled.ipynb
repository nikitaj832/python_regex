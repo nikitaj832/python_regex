{
 "cells": [
  {
   "cell_type": "code",
   "execution_count": 1,
   "id": "322eb7ac-2ad8-4c35-9a4a-958d3930fc1d",
   "metadata": {},
   "outputs": [
    {
     "name": "stdout",
     "output_type": "stream",
     "text": [
      "<class 'int'>\n",
      "140704896828488\n"
     ]
    }
   ],
   "source": [
    "a = 10\n",
    "print(type(a))\n",
    "print(id(a))"
   ]
  },
  {
   "cell_type": "code",
   "execution_count": 13,
   "id": "a21b9aad-7dd4-4204-bb32-cef599c9f0d6",
   "metadata": {},
   "outputs": [
    {
     "name": "stdout",
     "output_type": "stream",
     "text": [
      "140704896828488\n",
      "140704896828808 a: 140704896828488\n"
     ]
    }
   ],
   "source": [
    "num = a\n",
    "print(id(num))\n",
    "num = 20\n",
    "print(id(num),\"a:\",id(a))"
   ]
  },
  {
   "cell_type": "code",
   "execution_count": 15,
   "id": "f76b34a4-a769-4810-8904-0048c8f80876",
   "metadata": {},
   "outputs": [
    {
     "data": {
      "text/plain": [
       "True"
      ]
     },
     "execution_count": 15,
     "metadata": {},
     "output_type": "execute_result"
    }
   ],
   "source": [
    "a= 500\n",
    "x=a\n",
    "\n",
    "a is x"
   ]
  },
  {
   "cell_type": "code",
   "execution_count": 17,
   "id": "4eb10693-53ff-4a39-80a0-92638c1893b3",
   "metadata": {},
   "outputs": [
    {
     "data": {
      "text/plain": [
       "True"
      ]
     },
     "execution_count": 17,
     "metadata": {},
     "output_type": "execute_result"
    }
   ],
   "source": [
    "a==x"
   ]
  },
  {
   "cell_type": "code",
   "execution_count": 19,
   "id": "723ff42f-96f5-4b07-b308-0318468f3958",
   "metadata": {},
   "outputs": [
    {
     "data": {
      "text/plain": [
       "False"
      ]
     },
     "execution_count": 19,
     "metadata": {},
     "output_type": "execute_result"
    }
   ],
   "source": [
    "a=500\n",
    "x=500\n",
    "a is x"
   ]
  },
  {
   "cell_type": "code",
   "execution_count": 21,
   "id": "4d02ca26-aaf2-4ba8-b836-09a7da9aecad",
   "metadata": {},
   "outputs": [
    {
     "data": {
      "text/plain": [
       "True"
      ]
     },
     "execution_count": 21,
     "metadata": {},
     "output_type": "execute_result"
    }
   ],
   "source": [
    "a==x"
   ]
  },
  {
   "cell_type": "code",
   "execution_count": 39,
   "id": "5fe925a5-903d-45b0-81c9-cb139dc04f84",
   "metadata": {},
   "outputs": [
    {
     "name": "stdout",
     "output_type": "stream",
     "text": [
      "* \n",
      "* * \n",
      "* * * \n",
      "* * * * \n"
     ]
    }
   ],
   "source": [
    "for row in range(1,5):\n",
    "    for col in range(1,row+1):\n",
    "        print(\"*\",end=\" \")\n",
    "    print()"
   ]
  },
  {
   "cell_type": "code",
   "execution_count": 51,
   "id": "b27c6e9b-e20c-40a4-a8d7-538a88ae3188",
   "metadata": {},
   "outputs": [
    {
     "name": "stdout",
     "output_type": "stream",
     "text": [
      "1 1 1 1 \n",
      "2 2 2 2 \n",
      "3 3 3 3 \n"
     ]
    }
   ],
   "source": [
    "for row in range(1,4):\n",
    "    for col in range(1,5):\n",
    "        print(row,end=\" \")\n",
    "    print()"
   ]
  },
  {
   "cell_type": "code",
   "execution_count": 53,
   "id": "a95748bb-54fc-4225-ac31-8847a01b9a67",
   "metadata": {},
   "outputs": [
    {
     "name": "stdout",
     "output_type": "stream",
     "text": [
      "4 4 4 4 \n",
      "3 3 3 3 \n",
      "2 2 2 2 \n"
     ]
    }
   ],
   "source": [
    "for row in range(4,1,-1):\n",
    "    for col in range(5,1,-1):\n",
    "        print(row,end=\" \")\n",
    "    print()"
   ]
  },
  {
   "cell_type": "code",
   "execution_count": 59,
   "id": "473f4af3-55ea-4162-94f0-87be5fae0fea",
   "metadata": {},
   "outputs": [
    {
     "name": "stdout",
     "output_type": "stream",
     "text": [
      "10 11 12 13 \n",
      "10 11 12 13 \n"
     ]
    }
   ],
   "source": [
    "for row in range(10,12):\n",
    "    for col in range(10,14):\n",
    "        print(col,end=\" \")\n",
    "    print()"
   ]
  },
  {
   "cell_type": "code",
   "execution_count": 251,
   "id": "d8c81928-b802-4ec4-955b-ef4a47f5ae8f",
   "metadata": {},
   "outputs": [
    {
     "name": "stdout",
     "output_type": "stream",
     "text": [
      "1 2 3 4 \n",
      "2 3 4 \n",
      "3 4 \n",
      "4 \n"
     ]
    }
   ],
   "source": [
    "\n",
    "for row in range(1,5):\n",
    "    for col in range(row,5):\n",
    "        print(col,end=\" \")\n",
    "    print()"
   ]
  },
  {
   "cell_type": "code",
   "execution_count": 91,
   "id": "3eba5fec-b44e-46a2-8ef1-5fc64e03dbc7",
   "metadata": {},
   "outputs": [
    {
     "name": "stdout",
     "output_type": "stream",
     "text": [
      "* * * * \n",
      "* * * \n",
      "* * \n",
      "* \n"
     ]
    }
   ],
   "source": [
    "for row in range(1,5):\n",
    "    for col in range(5,row,-1):\n",
    "        print(\"*\",end=\" \")\n",
    "    print()"
   ]
  },
  {
   "cell_type": "code",
   "execution_count": 95,
   "id": "f888796b-555e-4acc-a3a7-b472c82672df",
   "metadata": {},
   "outputs": [
    {
     "name": "stdout",
     "output_type": "stream",
     "text": [
      "* * * * \n",
      "* * * \n",
      "* * \n",
      "* \n"
     ]
    }
   ],
   "source": [
    "for row in range(1,5):\n",
    "    for col in range(row,5):\n",
    "        print(\"*\",end=\" \")\n",
    "    print()"
   ]
  },
  {
   "cell_type": "code",
   "execution_count": 123,
   "id": "53a04667-cb7e-4053-a1d8-27c352848b14",
   "metadata": {},
   "outputs": [
    {
     "name": "stdout",
     "output_type": "stream",
     "text": [
      "1 2 3 4 \n",
      "1 2 3 \n",
      "1 2 \n",
      "1 \n"
     ]
    }
   ],
   "source": [
    "for row in range(5,1,-1):\n",
    "    for col in range(1,row):\n",
    "        print(col,end=\" \")\n",
    "    print()"
   ]
  },
  {
   "cell_type": "code",
   "execution_count": 231,
   "id": "f9f06227-3fe3-4f3d-8d29-04f7e85b5d6f",
   "metadata": {},
   "outputs": [
    {
     "name": "stdout",
     "output_type": "stream",
     "text": [
      "4 4 4 4 \n",
      "3 3 3 \n",
      "2 2 \n",
      "1 \n"
     ]
    }
   ],
   "source": [
    "num =4\n",
    "for row in range(1,5):\n",
    "    for col in range(row,5):\n",
    "        print(num,end=\" \")\n",
    "    num = num-1\n",
    "    print()"
   ]
  },
  {
   "cell_type": "code",
   "execution_count": 233,
   "id": "04ce7c95-acf9-4125-a2ff-39e92d80e848",
   "metadata": {},
   "outputs": [
    {
     "name": "stdout",
     "output_type": "stream",
     "text": [
      "65 66 67 68 \n",
      "69 70 71 \n",
      "72 73 \n",
      "74 \n"
     ]
    }
   ],
   "source": [
    "num =65\n",
    "for row in range(1,5):\n",
    "    for col in range(row,5):\n",
    "        print(num,end=\" \")\n",
    "        num = num+1\n",
    "    print()"
   ]
  },
  {
   "cell_type": "code",
   "execution_count": 235,
   "id": "4968ba68-f4c7-4189-9210-69fec9ebeb14",
   "metadata": {},
   "outputs": [
    {
     "data": {
      "text/plain": [
       "65"
      ]
     },
     "execution_count": 235,
     "metadata": {},
     "output_type": "execute_result"
    }
   ],
   "source": [
    "ord(\"A\")"
   ]
  },
  {
   "cell_type": "code",
   "execution_count": 237,
   "id": "caeb0bb7-b42d-4575-a073-940648c4f4c6",
   "metadata": {},
   "outputs": [
    {
     "data": {
      "text/plain": [
       "'A'"
      ]
     },
     "execution_count": 237,
     "metadata": {},
     "output_type": "execute_result"
    }
   ],
   "source": [
    "chr(65)"
   ]
  },
  {
   "cell_type": "code",
   "execution_count": 239,
   "id": "0b24ff0d-a8d6-4199-92e2-f9b0a3b638a0",
   "metadata": {},
   "outputs": [
    {
     "name": "stdout",
     "output_type": "stream",
     "text": [
      "A B C D \n",
      "E F G \n",
      "H I \n",
      "J \n"
     ]
    }
   ],
   "source": [
    "num =65\n",
    "for row in range(1,5):\n",
    "    for col in range(row,5):\n",
    "        print(chr(num),end=\" \")\n",
    "        num = num+1\n",
    "    print()"
   ]
  },
  {
   "cell_type": "code",
   "execution_count": 247,
   "id": "a87d95ef-affb-4a0a-a1be-ae22245c7708",
   "metadata": {},
   "outputs": [
    {
     "name": "stdout",
     "output_type": "stream",
     "text": [
      "A B C D \n",
      "A B C \n",
      "A B \n",
      "A \n"
     ]
    }
   ],
   "source": [
    "n=4\n",
    "for row in range(1,n+1):\n",
    "    num =65\n",
    "    for col in range(row,n+1):\n",
    "        print(chr(num),end=\" \")\n",
    "        num = num+1\n",
    "    print()"
   ]
  },
  {
   "cell_type": "code",
   "execution_count": 255,
   "id": "0a7c441d-8cd0-455b-b2bb-a5cd2f6ca063",
   "metadata": {},
   "outputs": [
    {
     "name": "stdout",
     "output_type": "stream",
     "text": [
      "1 2 3 4 \n",
      "1 2 3 \n",
      "1 2 \n",
      "1 \n"
     ]
    }
   ],
   "source": [
    "for row in range(1,5):\n",
    "    num=1\n",
    "    for col in range(row,5):\n",
    "        print(num,end=\" \")\n",
    "        num=num+1\n",
    "    print()"
   ]
  },
  {
   "cell_type": "code",
   "execution_count": 269,
   "id": "a4e5134b-cbba-4a3e-a0c2-af9e69b8642d",
   "metadata": {},
   "outputs": [
    {
     "name": "stdout",
     "output_type": "stream",
     "text": [
      "20 21 22 23 \n",
      "24 25 26 \n",
      "27 28 \n"
     ]
    }
   ],
   "source": [
    "num=20\n",
    "for row in range(1,4):\n",
    "    for col in range(row,5):\n",
    "        print(num,end=\" \")\n",
    "        num=num+1\n",
    "    print()"
   ]
  },
  {
   "cell_type": "code",
   "execution_count": 331,
   "id": "3b4b2c57-2422-41fa-b132-6f17e8811bff",
   "metadata": {},
   "outputs": [
    {
     "name": "stdout",
     "output_type": "stream",
     "text": [
      "2 4 8 16 \n",
      "32 64 128 \n",
      "256 512 \n"
     ]
    }
   ],
   "source": [
    "num=2\n",
    "for row in range(1,4):\n",
    "    for col in range(row,5):\n",
    "        print(num,end=\" \")\n",
    "        num=num+num\n",
    "    print()"
   ]
  },
  {
   "cell_type": "code",
   "execution_count": 277,
   "id": "5eaf7607-ee64-416e-891d-3e9287f402f2",
   "metadata": {},
   "outputs": [
    {
     "name": "stdout",
     "output_type": "stream",
     "text": [
      "D \n",
      "E F \n",
      "G H I \n",
      "J K L M \n"
     ]
    }
   ],
   "source": [
    "num =68\n",
    "for row in range(1,5):\n",
    "    for col in range(row):\n",
    "        print(chr(num),end= \" \")\n",
    "        num=num+1\n",
    "    print()"
   ]
  },
  {
   "cell_type": "code",
   "execution_count": 281,
   "id": "57d79a4d-2414-4c68-af5a-8e95fb78315f",
   "metadata": {},
   "outputs": [
    {
     "name": "stdout",
     "output_type": "stream",
     "text": [
      "4 \n",
      "6 8 \n",
      "10 12 14 \n"
     ]
    }
   ],
   "source": [
    "num =2\n",
    "for row in range(1,4):\n",
    "    for col in range(row):\n",
    "        print(num*2,end= \" \")\n",
    "        num=num+1\n",
    "    print()"
   ]
  },
  {
   "cell_type": "code",
   "execution_count": 305,
   "id": "1086b885-7e0a-4b6c-a294-37ebdeb9d0ee",
   "metadata": {},
   "outputs": [
    {
     "name": "stdout",
     "output_type": "stream",
     "text": [
      "Z Z Z \n",
      "Y Y \n",
      "X \n"
     ]
    }
   ],
   "source": [
    "num =90\n",
    "for row in range(1,4):\n",
    "    for col in range(row,4):\n",
    "        \n",
    "        print(chr(num),end=\" \")\n",
    "    num = num-1\n",
    "    print()"
   ]
  },
  {
   "cell_type": "code",
   "execution_count": 361,
   "id": "5602404b-6078-44cc-a62c-d02acd0206fd",
   "metadata": {},
   "outputs": [
    {
     "name": "stdout",
     "output_type": "stream",
     "text": [
      "* \n",
      "* * \n",
      "* * * \n",
      "* * * * \n",
      "* * * \n",
      "* * \n",
      "* \n",
      "\n"
     ]
    }
   ],
   "source": [
    "n=4\n",
    "for i in range(1,n+1):\n",
    "    for j in range(i):\n",
    "        print(\"*\",end=\" \")\n",
    "    print()\n",
    "for i in range(1,n+1):\n",
    "    for j in range(i,n):\n",
    "        print(\"*\",end=\" \")\n",
    "    print()"
   ]
  },
  {
   "cell_type": "code",
   "execution_count": 371,
   "id": "6c9eaed8-5ebc-408f-a04b-acd870579f35",
   "metadata": {},
   "outputs": [
    {
     "name": "stdout",
     "output_type": "stream",
     "text": [
      "* * * * \n",
      "* * * \n",
      "* * \n",
      "* \n",
      "* * \n",
      "* * * \n",
      "* * * * \n"
     ]
    }
   ],
   "source": [
    "n=4\n",
    "for i in range(1,n+1):\n",
    "    for j in range(i,n+1):\n",
    "        print(\"*\",end=\" \")\n",
    "    print()\n",
    "for i in range(2,n+1):\n",
    "    for j in range(i):\n",
    "        print(\"*\",end=\" \")\n",
    "    print()"
   ]
  },
  {
   "cell_type": "code",
   "execution_count": null,
   "id": "3090cdaa-06ff-4488-bd4d-a9faf6cb4c65",
   "metadata": {},
   "outputs": [],
   "source": []
  }
 ],
 "metadata": {
  "kernelspec": {
   "display_name": "Python 3 (ipykernel)",
   "language": "python",
   "name": "python3"
  },
  "language_info": {
   "codemirror_mode": {
    "name": "ipython",
    "version": 3
   },
   "file_extension": ".py",
   "mimetype": "text/x-python",
   "name": "python",
   "nbconvert_exporter": "python",
   "pygments_lexer": "ipython3",
   "version": "3.11.7"
  }
 },
 "nbformat": 4,
 "nbformat_minor": 5
}
