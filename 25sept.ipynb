{
 "cells": [
  {
   "cell_type": "code",
   "execution_count": 2,
   "id": "92ddd946-e56a-48e6-879e-320353fa07fd",
   "metadata": {},
   "outputs": [],
   "source": [
    "nested_dict ={'a':10,'b':20}"
   ]
  },
  {
   "cell_type": "code",
   "execution_count": 5,
   "id": "e4b72a2e-3091-460c-aafa-ceca0eb6b7ee",
   "metadata": {},
   "outputs": [
    {
     "data": {
      "text/plain": [
       "True"
      ]
     },
     "execution_count": 5,
     "metadata": {},
     "output_type": "execute_result"
    }
   ],
   "source": [
    "dict = {'a':1,'b':2,'c':3}\n",
    "are_unique = len(dict.values()) == len(set(dict.values()))\n",
    "are_unique"
   ]
  },
  {
   "cell_type": "code",
   "execution_count": 7,
   "id": "b83a1a4a-8141-4ca4-8cc8-8f686ebbd6a6",
   "metadata": {},
   "outputs": [
    {
     "data": {
      "text/plain": [
       "{'Alice': 18}"
      ]
     },
     "execution_count": 7,
     "metadata": {},
     "output_type": "execute_result"
    }
   ],
   "source": [
    "votes = {'Alice':18}\n",
    "votes"
   ]
  },
  {
   "cell_type": "markdown",
   "id": "7821dd0f-7378-4a06-aaf3-e18762464831",
   "metadata": {},
   "source": [
    "set"
   ]
  },
  {
   "cell_type": "code",
   "execution_count": 12,
   "id": "82f51a60-cf0b-474e-bedd-c8fe9c4aba75",
   "metadata": {},
   "outputs": [
    {
     "data": {
      "text/plain": [
       "True"
      ]
     },
     "execution_count": 12,
     "metadata": {},
     "output_type": "execute_result"
    }
   ],
   "source": [
    "#to check if one set is a subset of another\n",
    "set_a ={1,2,3}\n",
    "set_b= {1,2,3,4,5}\n",
    "is_subset = set_a.issubset(set_b)\n",
    "is_subset"
   ]
  },
  {
   "cell_type": "code",
   "execution_count": 16,
   "id": "7558a039-5124-4537-a3a0-f7607e5d4db7",
   "metadata": {},
   "outputs": [
    {
     "data": {
      "text/plain": [
       "{1, 2, 3, 4}"
      ]
     },
     "execution_count": 16,
     "metadata": {},
     "output_type": "execute_result"
    }
   ],
   "source": [
    "#create a set containing the unique elemnts from the list[1,2,2,3,4,4]\n",
    "unique_element  = set([1,2,2,3,4,4])\n",
    "unique_element"
   ]
  },
  {
   "cell_type": "code",
   "execution_count": 24,
   "id": "f5e5f9f3-67df-46b9-bbec-29492a1d2619",
   "metadata": {},
   "outputs": [
    {
     "data": {
      "text/plain": [
       "{'e', 'o'}"
      ]
     },
     "execution_count": 24,
     "metadata": {},
     "output_type": "execute_result"
    }
   ],
   "source": [
    "#\n",
    "vowels = {'a','e','i','o','u'}\n",
    "string = 'hello'\n",
    "present = set(vowels).intersection(set(string))\n",
    "present"
   ]
  },
  {
   "cell_type": "code",
   "execution_count": 31,
   "id": "3e164a67-95d6-45af-af56-1b363cba54d6",
   "metadata": {},
   "outputs": [
    {
     "data": {
      "text/plain": [
       "{1, 2, 4, 5}"
      ]
     },
     "execution_count": 31,
     "metadata": {},
     "output_type": "execute_result"
    }
   ],
   "source": [
    "x= {1,2,3}\n",
    "y={3,4,5}\n",
    "sym = x ^ y\n",
    "sym"
   ]
  },
  {
   "cell_type": "code",
   "execution_count": 26,
   "id": "dea575ec-ff69-4644-81ca-714cf49206a6",
   "metadata": {},
   "outputs": [],
   "source": [
    "#remove elment without error if element is not found\n",
    "my_set = {1,2,3}\n",
    "my_set.discard(4)"
   ]
  },
  {
   "cell_type": "code",
   "execution_count": 30,
   "id": "7112525e-c6c0-4636-a16a-fc9378110307",
   "metadata": {},
   "outputs": [
    {
     "data": {
      "text/plain": [
       "True"
      ]
     },
     "execution_count": 30,
     "metadata": {},
     "output_type": "execute_result"
    }
   ],
   "source": [
    "#check if two sets are disjoint\n",
    "set_1= {1,2,3,4,5}\n",
    "set_2 = {6,7,8}\n",
    "dis = set_1.isdisjoint(set_2)\n",
    "dis"
   ]
  },
  {
   "cell_type": "code",
   "execution_count": 37,
   "id": "eb269b50-5688-42a0-bb3f-d9f1b5d5e300",
   "metadata": {},
   "outputs": [
    {
     "name": "stdout",
     "output_type": "stream",
     "text": [
      "my_set\n"
     ]
    },
    {
     "data": {
      "text/plain": [
       "True"
      ]
     },
     "execution_count": 37,
     "metadata": {},
     "output_type": "execute_result"
    }
   ],
   "source": [
    "#create a set from a string and check a is present\n",
    "my_string = 'abracadabra'\n",
    "my_set = set(my_string)\n",
    "print('my_set')\n",
    "'a' in my_set\n"
   ]
  },
  {
   "cell_type": "code",
   "execution_count": 41,
   "id": "191298a0-713b-4e4f-954d-c4564dbcd896",
   "metadata": {},
   "outputs": [
    {
     "data": {
      "text/plain": [
       "{3, 4}"
      ]
     },
     "execution_count": 41,
     "metadata": {},
     "output_type": "execute_result"
    }
   ],
   "source": [
    "#two sets, find intersection and create new set\n",
    "a= {1,2,3,4}\n",
    "b={3,4,5,6}\n",
    "a & b"
   ]
  },
  {
   "cell_type": "code",
   "execution_count": 44,
   "id": "ca152023-520b-47d8-b29a-e111ff35b71a",
   "metadata": {},
   "outputs": [
    {
     "data": {
      "text/plain": [
       "frozenset({1, 2, 3})"
      ]
     },
     "execution_count": 44,
     "metadata": {},
     "output_type": "execute_result"
    }
   ],
   "source": [
    "#create frozenset from a set and diff bw set and frozenset\n",
    "my_set_1 = {1,2,3}\n",
    "frozen = frozenset(my_set_1)\n",
    "frozen\n",
    "#a frozenset is immutable"
   ]
  },
  {
   "cell_type": "code",
   "execution_count": 46,
   "id": "8cccf15b-d5af-46f9-89dd-9983d5e6e621",
   "metadata": {},
   "outputs": [
    {
     "data": {
      "text/plain": [
       "{1, 2, 3, 4}"
      ]
     },
     "execution_count": 46,
     "metadata": {},
     "output_type": "execute_result"
    }
   ],
   "source": [
    "#convert a list to a set and remove duplicates\n",
    "my_list = [1,2,2,3,4,4]\n",
    "set(my_list)"
   ]
  },
  {
   "cell_type": "code",
   "execution_count": 51,
   "id": "dfe963a3-b935-49b7-92d5-db4624ef7616",
   "metadata": {},
   "outputs": [
    {
     "data": {
      "text/plain": [
       "{1, 2, 3, 4}"
      ]
     },
     "execution_count": 51,
     "metadata": {},
     "output_type": "execute_result"
    }
   ],
   "source": [
    "#to find the union of multiple sets\n",
    "seta= {1,2}\n",
    "setb={2,3}\n",
    "setc={3,4}\n",
    "seta | setb | setc"
   ]
  },
  {
   "cell_type": "code",
   "execution_count": 1,
   "id": "632dc7a0-b28c-4268-bd74-9e6b1f8eecae",
   "metadata": {},
   "outputs": [
    {
     "data": {
      "text/plain": [
       "{' ', 'd', 'e', 'h', 'l', 'o', 'r', 'w'}"
      ]
     },
     "execution_count": 1,
     "metadata": {},
     "output_type": "execute_result"
    }
   ],
   "source": [
    "string = \"hello world\"\n",
    "char_set= set(string.replace(\"\",\"\"))\n",
    "char_set"
   ]
  },
  {
   "cell_type": "code",
   "execution_count": null,
   "id": "d3407eb3-af24-4102-a6b5-2a5455b99bf1",
   "metadata": {},
   "outputs": [],
   "source": []
  }
 ],
 "metadata": {
  "kernelspec": {
   "display_name": "Python 3 (ipykernel)",
   "language": "python",
   "name": "python3"
  },
  "language_info": {
   "codemirror_mode": {
    "name": "ipython",
    "version": 3
   },
   "file_extension": ".py",
   "mimetype": "text/x-python",
   "name": "python",
   "nbconvert_exporter": "python",
   "pygments_lexer": "ipython3",
   "version": "3.12.4"
  }
 },
 "nbformat": 4,
 "nbformat_minor": 5
}
