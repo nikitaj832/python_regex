{
 "cells": [
  {
   "cell_type": "code",
   "execution_count": 5,
   "id": "648ab897-d1a3-4866-96a1-9f2275c70c08",
   "metadata": {},
   "outputs": [
    {
     "data": {
      "text/plain": [
       "1"
      ]
     },
     "execution_count": 5,
     "metadata": {},
     "output_type": "execute_result"
    }
   ],
   "source": [
    "LIST= [1,2,3,4,5]\n",
    "LIST.index(2)\n"
   ]
  },
  {
   "cell_type": "code",
   "execution_count": 16,
   "id": "6defd8b2-32c7-44d1-ae8d-3fd34c230733",
   "metadata": {},
   "outputs": [
    {
     "name": "stdin",
     "output_type": "stream",
     "text": [
      "enter age 67\n",
      "do you have True\n"
     ]
    },
    {
     "name": "stdout",
     "output_type": "stream",
     "text": [
      "eligible\n"
     ]
    }
   ],
   "source": [
    "age= int(input('enter age'))\n",
    "has_id =(input('do you have'))\n",
    "if((age>=18) and (has_id == 'True')):\n",
    "    print('eligible')\n",
    "elif((age>=18) and (has_id=='False')):\n",
    "    print('not eligible')\n",
    "else:\n",
    "    print('you are not in age 18 and above')\n",
    "    "
   ]
  },
  {
   "cell_type": "code",
   "execution_count": 16,
   "id": "f7d6f664-583e-4786-81e3-b907d8d5cb92",
   "metadata": {},
   "outputs": [
    {
     "name": "stdin",
     "output_type": "stream",
     "text": [
      "enter any char e\n"
     ]
    },
    {
     "name": "stdout",
     "output_type": "stream",
     "text": [
      "uperline keyboard\n"
     ]
    }
   ],
   "source": [
    "a= input('enter any char')\n",
    "if((a=='q') or (a=='w') or (a=='e') or (a=='r')):\n",
    "    print(\"uperline keyboard\")\n",
    "\n",
    "else:\n",
    "    print('not valid')\n",
    "\n",
    "# a in ('q','p','u','i')"
   ]
  },
  {
   "cell_type": "code",
   "execution_count": 15,
   "id": "da259faa-0919-4e7e-9d70-fc8fd3b65b7e",
   "metadata": {},
   "outputs": [
    {
     "name": "stdin",
     "output_type": "stream",
     "text": [
      "enter any char d\n"
     ]
    },
    {
     "name": "stdout",
     "output_type": "stream",
     "text": [
      "middle line keyboard\n"
     ]
    }
   ],
   "source": [
    "b= input('enter any char')\n",
    "if(b in ('q','p','u','i','o','w','e','r','t','y')):\n",
    "    print(\"uperline keyboard\")\n",
    "elif(b in ('a','s','d','f','g','h','j','k','l')):\n",
    "    print(\"middle line keyboard\")\n",
    "elif(b in ('z','x','c','v','b','n','m')):\n",
    "    print(\"lower line\")\n",
    "else:\n",
    "    print('not valid')"
   ]
  },
  {
   "cell_type": "code",
   "execution_count": null,
   "id": "dbe5c38d-8f02-4570-b555-3ae90e9b68a2",
   "metadata": {},
   "outputs": [],
   "source": [
    "\n"
   ]
  }
 ],
 "metadata": {
  "kernelspec": {
   "display_name": "Python 3 (ipykernel)",
   "language": "python",
   "name": "python3"
  },
  "language_info": {
   "codemirror_mode": {
    "name": "ipython",
    "version": 3
   },
   "file_extension": ".py",
   "mimetype": "text/x-python",
   "name": "python",
   "nbconvert_exporter": "python",
   "pygments_lexer": "ipython3",
   "version": "3.12.4"
  }
 },
 "nbformat": 4,
 "nbformat_minor": 5
}
