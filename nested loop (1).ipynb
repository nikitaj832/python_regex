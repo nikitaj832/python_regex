{
 "cells": [
  {
   "cell_type": "code",
   "execution_count": 7,
   "id": "2d14e383-5c89-42a3-a9b1-6d605c96926e",
   "metadata": {},
   "outputs": [
    {
     "name": "stdout",
     "output_type": "stream",
     "text": [
      "1 a\n",
      "1 b\n",
      "1 c\n",
      "2 a\n",
      "2 b\n",
      "2 c\n",
      "3 a\n",
      "3 b\n",
      "3 c\n"
     ]
    }
   ],
   "source": [
    "# Basic Nested Loop\n",
    "#  Write a nested loop that iterates over two lists, list1 = [1, 2, 3] and list2 = [&#39;a&#39;, &#39;b&#39;, &#39;c&#39;], and\n",
    "# prints each combination of elements.\n",
    "list1=[1,2,3]\n",
    "list2=['a','b','c']\n",
    "for i in list1:\n",
    "    for j in list2:\n",
    "       print(i,j)"
   ]
  },
  {
   "cell_type": "code",
   "execution_count": 12,
   "id": "85215008-f992-41b4-86fe-920003d63cbf",
   "metadata": {},
   "outputs": [
    {
     "name": "stdout",
     "output_type": "stream",
     "text": [
      "21\n"
     ]
    }
   ],
   "source": [
    "#Sum of Nested Lists\n",
    "#  Given a nested list [[1, 2, 3], [4, 5], [6]], write a nested loop to calculate the total sum of all\n",
    "# the elements.\n",
    "list =[[1, 2, 3], [4, 5], [6]]\n",
    "sum=0\n",
    "for sublist in list:\n",
    "    for i in sublist:\n",
    "        sum=sum+i\n",
    "print(sum)"
   ]
  },
  {
   "cell_type": "code",
   "execution_count": 10,
   "id": "806d55da-b919-44a5-92cd-a043af61bbd5",
   "metadata": {},
   "outputs": [
    {
     "name": "stdout",
     "output_type": "stream",
     "text": [
      "[1, 4, 5]\n",
      "[2, 5, 6]\n",
      "[3, 2, 7]\n"
     ]
    }
   ],
   "source": [
    "#Transpose a Matrix\n",
    "#  Write a nested loop to transpose a 2D list (matrix) of dimensions 3x3.\n",
    "matrix= [[1,2,3],\n",
    "        [4,5,2],\n",
    "        [5,6,7]]\n",
    "trans = [[0,0,0],[0,0,0],[0,0,0]]\n",
    "for i in range(3):\n",
    "    for j in range(3):\n",
    "        trans[j][i]=matrix[i][j]\n",
    "for row in trans:\n",
    "    print(row)"
   ]
  },
  {
   "cell_type": "code",
   "execution_count": 32,
   "id": "2a7ad29c-4283-477e-8df1-a80362d092f7",
   "metadata": {},
   "outputs": [
    {
     "name": "stdout",
     "output_type": "stream",
     "text": [
      "10\n"
     ]
    }
   ],
   "source": [
    "# Counting Vowels in Strings\n",
    "#  Given a list of strings, use nested loops to count the total number of vowels in all the strings.\n",
    "string = ['cherry','apple','banana','aam','mango']\n",
    "vowel='aeiouAEIOU'\n",
    "count=0\n",
    "for string in string:\n",
    "    for i in string:\n",
    "        if i in vowel:\n",
    "           count=count+1\n",
    "print(count)"
   ]
  },
  {
   "cell_type": "code",
   "execution_count": 55,
   "id": "03f7d4f0-7493-49e2-b516-269e1d7bd797",
   "metadata": {},
   "outputs": [
    {
     "name": "stdout",
     "output_type": "stream",
     "text": [
      "2 3 5 7 11 13 17 19 23 29 31 37 41 43 47 53 59 61 67 71 73 79 83 89 97 "
     ]
    }
   ],
   "source": [
    "#Finding Prime Numbers\n",
    "# Create a program that uses nested loops to find all prime numbers between 1 and 100.\n",
    "for i in range(2,101):\n",
    "    is_prime =True\n",
    "    for j in range(2,i):\n",
    "        if i%j==0:\n",
    "            is_prime=False\n",
    "            break\n",
    "    if is_prime==True:\n",
    "        print(i,end=' ')        "
   ]
  },
  {
   "cell_type": "code",
   "execution_count": 87,
   "id": "089d0ad6-f10a-41ae-a6a2-9d5c9db5e544",
   "metadata": {},
   "outputs": [
    {
     "name": "stdout",
     "output_type": "stream",
     "text": [
      "[10, 10, 10]\n",
      "[10, 10, 10]\n",
      "[10, 10, 10]\n"
     ]
    }
   ],
   "source": [
    "#Matrix Addition\n",
    "# Given two 2D lists (matrices), write a nested loop to add them together.\n",
    "matrix1 = [\n",
    "    [1, 2, 3],\n",
    "    [4, 5, 6],\n",
    "    [7, 8, 9]\n",
    "]\n",
    "\n",
    "matrix2 = [\n",
    "    [9, 8, 7],\n",
    "    [6, 5, 4],\n",
    "    [3, 2, 1]\n",
    "]\n",
    "\n",
    "result_matrix = [[0, 0, 0], [0, 0, 0], [0, 0, 0]]\n",
    "for i in range(len(matrix1)):  \n",
    "    for j in range(len(matrix1[0])):  \n",
    "        result_matrix[i][j] = matrix1[i][j] + matrix2[i][j]\n",
    "\n",
    "for row in result_matrix:\n",
    "    print(row)\n",
    "\n"
   ]
  },
  {
   "cell_type": "code",
   "execution_count": 91,
   "id": "77e9492c-5aa5-4be3-81fa-6c97b45fa507",
   "metadata": {},
   "outputs": [
    {
     "name": "stdout",
     "output_type": "stream",
     "text": [
      "Maximum value: 9\n"
     ]
    }
   ],
   "source": [
    "#Finding Maximum in a 2D List\n",
    "# Use nested loops to find the maximum value in a 2D list.\n",
    "matrix= [[1,2,3],\n",
    "        [4,9,2],\n",
    "        [5,6,7]]\n",
    "max_value = matrix[0][0]\n",
    "for row in matrix:\n",
    "    for element in row:\n",
    "        if element > max_value:\n",
    "            max_value = element\n",
    "\n",
    "print(\"Maximum value:\", max_value)"
   ]
  },
  {
   "cell_type": "code",
   "execution_count": 93,
   "id": "3b5d6a5a-1a18-4098-91c3-de7a4e98d7ac",
   "metadata": {},
   "outputs": [
    {
     "name": "stdout",
     "output_type": "stream",
     "text": [
      "[(1, 3), (1, 4), (2, 3), (2, 4)]\n"
     ]
    }
   ],
   "source": [
    "#Generating Cartesian Product\n",
    "# Use nested loops to generate the Cartesian product of two lists: [1, 2] and [3, 4].\n",
    "list1 = [1, 2]\n",
    "list2 = [3, 4]\n",
    "\n",
    "cartesian_product = []\n",
    "\n",
    "for item1 in list1:\n",
    "    for item2 in list2:\n",
    "        cartesian_product.append((item1, item2))\n",
    "print(cartesian_product)\n"
   ]
  },
  {
   "cell_type": "code",
   "execution_count": 99,
   "id": "9bbb1334-484e-44f6-bbb5-a243ae0cc864",
   "metadata": {},
   "outputs": [
    {
     "name": "stdout",
     "output_type": "stream",
     "text": [
      "1 2 3 4 5 6 7 8 9 10 \n",
      "2 4 6 8 10 12 14 16 18 20 \n",
      "3 6 9 12 15 18 21 24 27 30 \n",
      "4 8 12 16 20 24 28 32 36 40 \n",
      "5 10 15 20 25 30 35 40 45 50 \n",
      "6 12 18 24 30 36 42 48 54 60 \n",
      "7 14 21 28 35 42 49 56 63 70 \n",
      "8 16 24 32 40 48 56 64 72 80 \n",
      "9 18 27 36 45 54 63 72 81 90 \n",
      "10 20 30 40 50 60 70 80 90 100 \n"
     ]
    }
   ],
   "source": [
    "#Multiplication Table\n",
    "# Create a program using nested loops to print a multiplication table from 1 to 10.\n",
    "for  i in range(1,11):\n",
    "    for j in range(1,11):\n",
    "        print(i*j,end=' ')\n",
    "    print()"
   ]
  },
  {
   "cell_type": "code",
   "execution_count": 129,
   "id": "d5d68761-f930-4a50-a0bd-dd73e4b05f2d",
   "metadata": {},
   "outputs": [
    {
     "name": "stdout",
     "output_type": "stream",
     "text": [
      "[1, 3, 5, 4, 7, 8]\n"
     ]
    }
   ],
   "source": [
    "#Finding Common Elements\n",
    "# Write a nested loop to find common elements between two lists.\n",
    "list1 = [1,2,3,5,4,6,7,8]\n",
    "list2 = [3,4,5,1,7,8,9]\n",
    "common =[]\n",
    "for i in list1:\n",
    "    for j in list2:\n",
    "        if i==j:\n",
    "            common.append(i)\n",
    "print(common)\n"
   ]
  },
  {
   "cell_type": "code",
   "execution_count": 132,
   "id": "6f38a625-c3c0-49a0-a9e8-4ecf671305ca",
   "metadata": {},
   "outputs": [
    {
     "name": "stdout",
     "output_type": "stream",
     "text": [
      "[1, 2, 3, 4, 5, 6, 1, 5, 6]\n"
     ]
    }
   ],
   "source": [
    "# Flattening a Nested List\n",
    "#  Given a nested list, write a nested loop to flatten it into a single list.\n",
    "ls =[[1,2,3],[4,5,6],[1,5,6]]\n",
    "flt = []\n",
    "for sublist in ls:\n",
    "    for i in sublist:\n",
    "        flt.append(i)\n",
    "print(flt)"
   ]
  },
  {
   "cell_type": "code",
   "execution_count": 141,
   "id": "160da960-b8ee-4793-a8dd-63d360716f76",
   "metadata": {},
   "outputs": [
    {
     "name": "stdout",
     "output_type": "stream",
     "text": [
      "8\n"
     ]
    }
   ],
   "source": [
    "#Counting Elements in a Nested List\n",
    "# Write a nested loop that counts how many times a specific element appears in a nested list.\n",
    "ls =[[1,2,3],[4,5,6],[1,5,6],[1,1,1,34,5,3,2,1],[1,54,1]]\n",
    "specific = 1\n",
    "count=0\n",
    "for sublist in ls:\n",
    "    for i in sublist:\n",
    "        if i==specific:\n",
    "            count=count+1\n",
    "print(count)\n",
    "    "
   ]
  },
  {
   "cell_type": "code",
   "execution_count": 176,
   "id": "955bd327-0685-4f50-ae87-18d24ee5376c",
   "metadata": {},
   "outputs": [
    {
     "name": "stdout",
     "output_type": "stream",
     "text": [
      "[1, 2, 3, 4, 5, 6, 34, 54]\n"
     ]
    }
   ],
   "source": [
    "#Removing Duplicates from Nested List\n",
    "# Use nested loops to remove duplicate values from a nested list.\n",
    "ls =[[1,2,3],[4,5,6],[1,5,6],[1,1,1,34,5,3,2,1],[1,54,1]]\n",
    "a=[]\n",
    "for sublist in ls:\n",
    "    for i in sublist:\n",
    "        if i not in a: \n",
    "            a.append(i)\n",
    "print(a)\n",
    "\n"
   ]
  },
  {
   "cell_type": "code",
   "execution_count": 178,
   "id": "01d5602f-dde6-4c89-8d01-8c3b694a0b09",
   "metadata": {},
   "outputs": [
    {
     "name": "stdout",
     "output_type": "stream",
     "text": [
      "Row sum: 52\n",
      "Row sum: 45\n"
     ]
    }
   ],
   "source": [
    "#Calculating Row Sums\n",
    "# Write a nested loop to calculate the sum of each row in a 2D list (matrix) and print the results.\n",
    "matrix = [[6, 7, 39], [34, 5, 6]]\n",
    "for row in matrix:\n",
    "    total = 0\n",
    "    for item in row:\n",
    "        total += item\n",
    "    print(\"Row sum:\", total)"
   ]
  },
  {
   "cell_type": "code",
   "execution_count": 179,
   "id": "ec77689c-20f0-49b3-a3c7-a4cace7553b8",
   "metadata": {},
   "outputs": [
    {
     "name": "stdout",
     "output_type": "stream",
     "text": [
      "Length: 2\n",
      "Length: 3\n",
      "Length: 1\n"
     ]
    }
   ],
   "source": [
    "#Finding the Length of Each Sublist\n",
    "# Use a nested loop to find and print the length of each sublist in a nested list.\n",
    "nested = [[1, 2], [3, 4, 5], [6]]\n",
    "for sublist in nested:\n",
    "    print(\"Length:\", len(sublist))"
   ]
  },
  {
   "cell_type": "code",
   "execution_count": 182,
   "id": "de299b40-1367-4e5b-80ed-bdb42e02f193",
   "metadata": {},
   "outputs": [
    {
     "name": "stdout",
     "output_type": "stream",
     "text": [
      "5\n"
     ]
    }
   ],
   "source": [
    "#Comparing Two 2D Lists\n",
    "# Write a nested loop to compare two 2D lists and count how many elements are the same in the same positions.\n",
    "# Sample 2D lists\n",
    "list1 = [\n",
    "    [1, 2, 3],\n",
    "    [4, 5, 6],\n",
    "    [7, 8, 9]\n",
    "]\n",
    "\n",
    "list2 = [\n",
    "    [1, 0, 3],\n",
    "    [4, 5, 0],\n",
    "    [0, 8, 0]\n",
    "]\n",
    "count = 0\n",
    "for i in range(len(list1)):\n",
    "    for j in range(len(list1[i])):\n",
    "        if list1[i][j] == list2[i][j]:\n",
    "            count += 1\n",
    "print(count)\n"
   ]
  },
  {
   "cell_type": "code",
   "execution_count": 196,
   "id": "96aeb75d-0983-43f8-b3db-69e559e4eca7",
   "metadata": {},
   "outputs": [
    {
     "name": "stdout",
     "output_type": "stream",
     "text": [
      "[1, 2, 3, 0, 9]\n"
     ]
    }
   ],
   "source": [
    "#Finding the Intersection of Two Lists\n",
    "# Write a nested loop to find the intersection of two lists and return the common elements.\n",
    "list1 = [1, 2, 3,0,5,9]\n",
    "list2=[2,4,7,9,0,1,3]\n",
    "inter=[]\n",
    "for i in list1:\n",
    "    for j in list2:\n",
    "        if i==j:\n",
    "            inter.append(i)\n",
    "print(inter)"
   ]
  },
  {
   "cell_type": "code",
   "execution_count": 216,
   "id": "06ea4496-e1b1-460d-a79a-5f6665f641de",
   "metadata": {},
   "outputs": [
    {
     "name": "stdout",
     "output_type": "stream",
     "text": [
      "[('nikita', 21), ('mahak', 20), ('ranu', 19)]\n"
     ]
    }
   ],
   "source": [
    "#Creating a List of Tuples\n",
    "# Use nested loops to create a list of tuples from two separate lists: one for names and one for ages.\n",
    "list1 = ['nikita','mahak','ranu']\n",
    "list2=[21,20,19]\n",
    "tuple = []\n",
    "for i in range(len(list1)):\n",
    "    # for i in (len(list2)):\n",
    "    tuple.append((list1[i], list2[i]))\n",
    "print(tuple)"
   ]
  },
  {
   "cell_type": "code",
   "execution_count": 218,
   "id": "e42d0f39-7dbe-4df1-9781-246485bb4cdb",
   "metadata": {},
   "outputs": [
    {
     "name": "stdout",
     "output_type": "stream",
     "text": [
      "Pairs: [(1, 2), (1, 3), (2, 1), (2, 3), (3, 1), (3, 2)]\n"
     ]
    }
   ],
   "source": [
    "#Generating All Possible Pairs\n",
    "# Write a nested loop to generate all possible pairs from a given list of numbers.\n",
    "numbers = [1, 2, 3]\n",
    "pairs = []\n",
    "for i in numbers:\n",
    "    for j in numbers:\n",
    "        if i != j:\n",
    "            pairs.append((i, j))\n",
    "\n",
    "print(\"Pairs:\", pairs)"
   ]
  },
  {
   "cell_type": "code",
   "execution_count": 222,
   "id": "e7e3a9e2-82a8-4610-914d-e3701886f61c",
   "metadata": {},
   "outputs": [
    {
     "name": "stdout",
     "output_type": "stream",
     "text": [
      "6\n"
     ]
    }
   ],
   "source": [
    "#Counting Specific Character Occurrences\n",
    "# Given a list of strings, write a nested loop to count how many times a specific character appears in total.\n",
    "string= ['niki','viny','maya','ayushi','nikita']\n",
    "sp = 'i'\n",
    "count =0\n",
    "for string in string:\n",
    "    for char in string:\n",
    "        if char == sp:\n",
    "            count=count+1\n",
    "print(count)\n",
    "    "
   ]
  }
 ],
 "metadata": {
  "kernelspec": {
   "display_name": "Python 3 (ipykernel)",
   "language": "python",
   "name": "python3"
  },
  "language_info": {
   "codemirror_mode": {
    "name": "ipython",
    "version": 3
   },
   "file_extension": ".py",
   "mimetype": "text/x-python",
   "name": "python",
   "nbconvert_exporter": "python",
   "pygments_lexer": "ipython3",
   "version": "3.12.4"
  }
 },
 "nbformat": 4,
 "nbformat_minor": 5
}
