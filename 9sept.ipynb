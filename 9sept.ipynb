{
 "cells": [
  {
   "cell_type": "code",
   "execution_count": null,
   "id": "57ad268b-8a47-4038-90e9-2c2c48ad2dc4",
   "metadata": {},
   "outputs": [],
   "source": [
    "#Datatypes\n",
    "\n",
    "#Numeric datatype --- datatype that includes numeric values\n",
    "    #Integer----Contains integer values(-infinity to infinity)(-1,3,5.....)\n",
    "    #Float----Containe decimal point numbers(2.4,3.5......)\n",
    "    #Complex-----Contains real and imaginary numbers(3+2j)(7-2j)........\n",
    "\n"
   ]
  },
  {
   "cell_type": "code",
   "execution_count": 1,
   "id": "b038cf12-91c1-4b0d-976c-c8cab88cd69e",
   "metadata": {},
   "outputs": [],
   "source": [
    "\n",
    "#Character datatype\n",
    " #string-----character or sequance of characters\n",
    " #list------ordered,mutable collection of multiple items that can be heterogeneous\n",
    " #Ordered\n",
    " #mutable----\n",
    " #multiple items\n",
    " #heterogeneous----different data types\n",
    " #started and ended with 'square brackets'()"
   ]
  },
  {
   "cell_type": "code",
   "execution_count": 3,
   "id": "763c5f99-f242-473d-a9cc-8c21fd5c742b",
   "metadata": {},
   "outputs": [
    {
     "name": "stdout",
     "output_type": "stream",
     "text": [
      "[1, 2, 3, 9.8, True, 'hello']\n"
     ]
    }
   ],
   "source": [
    "#list = ordered\n",
    "#mutable\n",
    "list=[1,2,3,9.8,True,'hello']\n",
    "print(list)"
   ]
  },
  {
   "cell_type": "code",
   "execution_count": 6,
   "id": "8b2a5423-3b22-42fc-8f3d-82b52b5afa05",
   "metadata": {},
   "outputs": [
    {
     "name": "stdout",
     "output_type": "stream",
     "text": [
      "(1, 2, 9.4, True, 'hello')\n"
     ]
    }
   ],
   "source": [
    " #tuple------ordered, immutable collection of items that can be heterogeneous\n",
    " #started and ended with parentheses ()\n",
    " #ordered\n",
    " #Immutable\n",
    " #Multiple items\n",
    " #heterogeneous\n",
    "tuple=(1,2,9.4,True,'hello')\n",
    "print(tuple)"
   ]
  },
  {
   "cell_type": "code",
   "execution_count": 11,
   "id": "0169e47e-edbb-4e08-9e8b-1bdfc43952e8",
   "metadata": {},
   "outputs": [
    {
     "name": "stdout",
     "output_type": "stream",
     "text": [
      "[687, '4546', 'rev', 45, 6.89]\n"
     ]
    }
   ],
   "source": [
    "a=[687,'4546','rev',45,6.89]\n",
    "print(a)"
   ]
  },
  {
   "cell_type": "code",
   "execution_count": 13,
   "id": "7444c121-03b1-4222-ac75-49a281e8c6ad",
   "metadata": {},
   "outputs": [
    {
     "name": "stdout",
     "output_type": "stream",
     "text": [
      "(687, '4546', 'rev', 45, 6.89)\n"
     ]
    }
   ],
   "source": [
    "b=(687,'4546','rev',45,6.89)\n",
    "print(b)"
   ]
  },
  {
   "cell_type": "code",
   "execution_count": null,
   "id": "6c4b7299-1a82-48a0-93ef-392cf4aeb3a7",
   "metadata": {},
   "outputs": [],
   "source": [
    "#list methods\n",
    "#append(), extend(), insert(), remove(), pop(), clear(), index(), count(), sort(), reverse(), copy()\n",
    "\n"
   ]
  },
  {
   "cell_type": "code",
   "execution_count": 26,
   "id": "06c69250-8acd-472f-a395-3fa043f572b8",
   "metadata": {},
   "outputs": [
    {
     "name": "stdout",
     "output_type": "stream",
     "text": [
      "[1, 7, 8, 9, 10]\n"
     ]
    }
   ],
   "source": [
    "#append-adds a single element to the end of the list\n",
    "li = [1,7,8,9]\n",
    "li.append(10)\n",
    "print(li)"
   ]
  },
  {
   "cell_type": "code",
   "execution_count": 27,
   "id": "9bb2a8ec-4793-4f41-9c71-92b2eb286e81",
   "metadata": {},
   "outputs": [
    {
     "name": "stdout",
     "output_type": "stream",
     "text": [
      "[1, 7, 8, 9, 10, 1, 3, 5]\n"
     ]
    }
   ],
   "source": [
    "#extend()-----adds multiple elements or a new list to the exisiting list\n",
    "li.extend([1,3,5])\n",
    "print(li)"
   ]
  },
  {
   "cell_type": "code",
   "execution_count": 32,
   "id": "8c4c9daf-4453-4db1-8b0b-6822c86c23f8",
   "metadata": {},
   "outputs": [
    {
     "name": "stdout",
     "output_type": "stream",
     "text": [
      "[1, 7, 100, 8, 9, 10, 1, 3, 5]\n"
     ]
    }
   ],
   "source": [
    "#insert---adds the element to a specific position\n",
    "li.insert(2,100)\n",
    "print(li)"
   ]
  },
  {
   "cell_type": "code",
   "execution_count": 33,
   "id": "8541a10c-a005-450b-8e35-9412b12e1cfb",
   "metadata": {},
   "outputs": [
    {
     "name": "stdout",
     "output_type": "stream",
     "text": [
      "[1, 7, 8, 9, 10, 1, 3, 5]\n"
     ]
    }
   ],
   "source": [
    "#remove----removes a specific element\n",
    "          # throws error if the element is not present\n",
    "#When the element is present---it removes the element\n",
    "li.remove(100)\n",
    "print(li)"
   ]
  },
  {
   "cell_type": "code",
   "execution_count": null,
   "id": "b003da25-e0a1-4eb7-8d7e-9da3a2c1bdc0",
   "metadata": {},
   "outputs": [],
   "source": [
    "#When the element is not present in the list---it throws error\n",
    "#li.remove(100)\n",
    "#print(li)"
   ]
  },
  {
   "cell_type": "code",
   "execution_count": null,
   "id": "3863eb27-d05c-45ec-98b0-eeb5d3a1d0b4",
   "metadata": {},
   "outputs": [],
   "source": [
    "#li.remove() when no argument \n",
    "#Will give error"
   ]
  },
  {
   "cell_type": "code",
   "execution_count": 62,
   "id": "e4f817da-a37a-4207-8093-8035be614788",
   "metadata": {},
   "outputs": [
    {
     "name": "stdout",
     "output_type": "stream",
     "text": [
      "[1, 7, 8, 9, 3, 5]\n"
     ]
    }
   ],
   "source": [
    "#pop----removes the element on the position given\n",
    "li.pop(4)\n",
    "print(li)"
   ]
  },
  {
   "cell_type": "code",
   "execution_count": 63,
   "id": "0b00f033-855b-4965-a5ca-68640e7681fa",
   "metadata": {},
   "outputs": [
    {
     "data": {
      "text/plain": [
       "5"
      ]
     },
     "execution_count": 63,
     "metadata": {},
     "output_type": "execute_result"
    }
   ],
   "source": [
    "li.pop()"
   ]
  },
  {
   "cell_type": "code",
   "execution_count": 64,
   "id": "d82d2dc2-1d6e-4fd2-8fe0-6c5e895144c2",
   "metadata": {},
   "outputs": [
    {
     "name": "stdout",
     "output_type": "stream",
     "text": [
      "[1, 7, 8, 9, 3]\n"
     ]
    }
   ],
   "source": [
    "print(li)"
   ]
  },
  {
   "cell_type": "code",
   "execution_count": 66,
   "id": "59b17ad7-3ab1-42ba-a66b-d3675815fbba",
   "metadata": {},
   "outputs": [
    {
     "data": {
      "text/plain": [
       "1"
      ]
     },
     "execution_count": 66,
     "metadata": {},
     "output_type": "execute_result"
    }
   ],
   "source": [
    "#will give the index of the first occurance of the element\n",
    "li.index(7)"
   ]
  },
  {
   "cell_type": "code",
   "execution_count": 67,
   "id": "ddacd045-f063-4e2e-9b27-193e254184b8",
   "metadata": {},
   "outputs": [
    {
     "data": {
      "text/plain": [
       "1"
      ]
     },
     "execution_count": 67,
     "metadata": {},
     "output_type": "execute_result"
    }
   ],
   "source": [
    "#Count--gives the count of the specific element\n",
    "li.count(3)"
   ]
  },
  {
   "cell_type": "code",
   "execution_count": 69,
   "id": "d330ba12-01cd-4678-ad2e-193c62951fcd",
   "metadata": {},
   "outputs": [
    {
     "name": "stdout",
     "output_type": "stream",
     "text": [
      "[]\n"
     ]
    }
   ],
   "source": [
    "#clear----will remove all the elements\n",
    "li.clear()\n",
    "print(li)\n",
    "#Will remove the elements the structure will be there as it it\n",
    "#[]"
   ]
  },
  {
   "cell_type": "code",
   "execution_count": 34,
   "id": "177c592a-9192-41da-88ae-961a1d3dbccd",
   "metadata": {},
   "outputs": [],
   "source": [
    "#when the element is not present in  the list --- it throws error\n",
    "#li.remove(100)\n",
    "#print(li)"
   ]
  },
  {
   "cell_type": "code",
   "execution_count": 95,
   "id": "5be92a04-42a0-40df-95a1-2a8e109eba76",
   "metadata": {},
   "outputs": [
    {
     "name": "stdout",
     "output_type": "stream",
     "text": [
      "[34, 'f', 46, 8.9, 'sser']\n"
     ]
    }
   ],
   "source": [
    "li1= [34,'f',46,8.9]\n",
    "li1.append('sser')\n",
    "print(li1)"
   ]
  },
  {
   "cell_type": "code",
   "execution_count": 96,
   "id": "5355bf61-24b8-45f5-bdd5-3ab5d77be8d9",
   "metadata": {},
   "outputs": [
    {
     "name": "stdout",
     "output_type": "stream",
     "text": [
      "[34, 'f', 46, 8.9, 'sser', 'a', 9.57, 43]\n"
     ]
    }
   ],
   "source": [
    "li1.extend(['a',9.57,43])\n",
    "print(li1)"
   ]
  },
  {
   "cell_type": "code",
   "execution_count": 97,
   "id": "538481e1-b981-4647-a9d3-14a436701e23",
   "metadata": {},
   "outputs": [
    {
     "name": "stdout",
     "output_type": "stream",
     "text": [
      "[34, 'f', 46, 8.9, 'sser', 'niki', 'a', 9.57, 43]\n"
     ]
    }
   ],
   "source": [
    "li1.insert(5,'niki')\n",
    "print(li1)"
   ]
  },
  {
   "cell_type": "code",
   "execution_count": 98,
   "id": "215205e7-0f9d-4895-bdff-0e0a599a3804",
   "metadata": {},
   "outputs": [
    {
     "name": "stdout",
     "output_type": "stream",
     "text": [
      "[34, 'f', 8.9, 'sser', 'niki', 'a', 9.57, 43]\n"
     ]
    }
   ],
   "source": [
    "li1.remove(46)\n",
    "print(li1)"
   ]
  },
  {
   "cell_type": "code",
   "execution_count": 99,
   "id": "48ec98ea-bea9-43d5-a1e2-1880f6809187",
   "metadata": {},
   "outputs": [
    {
     "name": "stdout",
     "output_type": "stream",
     "text": [
      "[34, 'f', 8.9, 'sser', 'niki', 'a', 9.57, 43, 34]\n"
     ]
    }
   ],
   "source": [
    "li1.append(34)\n",
    "print(li1)"
   ]
  },
  {
   "cell_type": "code",
   "execution_count": 100,
   "id": "40b123fe-4c4b-4ece-88d9-e89c78ef54ac",
   "metadata": {},
   "outputs": [
    {
     "name": "stdout",
     "output_type": "stream",
     "text": [
      "['f', 8.9, 'sser', 'niki', 'a', 9.57, 43, 34]\n"
     ]
    }
   ],
   "source": [
    "li1.remove(34)\n",
    "print(li1)"
   ]
  },
  {
   "cell_type": "code",
   "execution_count": 101,
   "id": "bc392717-6657-47cf-b509-4433437f0db9",
   "metadata": {},
   "outputs": [
    {
     "name": "stdout",
     "output_type": "stream",
     "text": [
      "['f', 8.9, 'sser', 'niki', 'a', 9.57, 43, 34, 34]\n"
     ]
    }
   ],
   "source": [
    "li1.append(34)\n",
    "print(li1)"
   ]
  },
  {
   "cell_type": "code",
   "execution_count": 102,
   "id": "b870a9ae-075f-40dc-894f-8cc4e952d0ad",
   "metadata": {},
   "outputs": [
    {
     "data": {
      "text/plain": [
       "43"
      ]
     },
     "execution_count": 102,
     "metadata": {},
     "output_type": "execute_result"
    }
   ],
   "source": [
    "li1.pop(6)\n"
   ]
  },
  {
   "cell_type": "code",
   "execution_count": 103,
   "id": "d2020edb-3123-4f7a-ba2f-c6ecdbfad306",
   "metadata": {},
   "outputs": [
    {
     "name": "stdout",
     "output_type": "stream",
     "text": [
      "['f', 8.9, 'sser', 'niki', 'a', 9.57, 34, 34]\n"
     ]
    }
   ],
   "source": [
    "print(li1)"
   ]
  },
  {
   "cell_type": "code",
   "execution_count": 104,
   "id": "7a79b5f2-44f7-4ad2-b81e-56edadeed042",
   "metadata": {},
   "outputs": [
    {
     "data": {
      "text/plain": [
       "6"
      ]
     },
     "execution_count": 104,
     "metadata": {},
     "output_type": "execute_result"
    }
   ],
   "source": [
    "li1.index(34)"
   ]
  },
  {
   "cell_type": "code",
   "execution_count": 105,
   "id": "f5f7c546-ebb9-4745-8933-bddf1ea014f5",
   "metadata": {},
   "outputs": [
    {
     "data": {
      "text/plain": [
       "2"
      ]
     },
     "execution_count": 105,
     "metadata": {},
     "output_type": "execute_result"
    }
   ],
   "source": [
    "\n",
    "li1.count(34)"
   ]
  },
  {
   "cell_type": "code",
   "execution_count": 106,
   "id": "0fb9da6a-72c7-42e0-bc92-3b2104d6a333",
   "metadata": {},
   "outputs": [
    {
     "name": "stdout",
     "output_type": "stream",
     "text": [
      "[]\n"
     ]
    }
   ],
   "source": [
    "print(li)"
   ]
  },
  {
   "cell_type": "code",
   "execution_count": 109,
   "id": "e9695545-abb2-4a4d-961f-55484b320e43",
   "metadata": {},
   "outputs": [
    {
     "name": "stdout",
     "output_type": "stream",
     "text": [
      "[]\n"
     ]
    }
   ],
   "source": [
    "li1.clear()\n",
    "print(li1)"
   ]
  },
  {
   "cell_type": "raw",
   "id": "dd4085c1-7d22-45bb-8522-7e2038c0e67b",
   "metadata": {},
   "source": []
  },
  {
   "cell_type": "code",
   "execution_count": null,
   "id": "c1a5b549-cb45-4038-8d79-1af67df3cfe9",
   "metadata": {},
   "outputs": [],
   "source": []
  }
 ],
 "metadata": {
  "kernelspec": {
   "display_name": "Python 3 (ipykernel)",
   "language": "python",
   "name": "python3"
  },
  "language_info": {
   "codemirror_mode": {
    "name": "ipython",
    "version": 3
   },
   "file_extension": ".py",
   "mimetype": "text/x-python",
   "name": "python",
   "nbconvert_exporter": "python",
   "pygments_lexer": "ipython3",
   "version": "3.12.4"
  }
 },
 "nbformat": 4,
 "nbformat_minor": 5
}
