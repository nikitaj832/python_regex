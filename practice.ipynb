{
 "cells": [
  {
   "cell_type": "code",
   "execution_count": 2,
   "id": "69438b79-ec06-4735-901e-a92e43f5d8eb",
   "metadata": {},
   "outputs": [
    {
     "name": "stdout",
     "output_type": "stream",
     "text": [
      "1\n",
      "2\n",
      "3\n",
      "4\n",
      "5\n",
      "6\n",
      "7\n",
      "8\n",
      "9\n",
      "10\n"
     ]
    }
   ],
   "source": [
    "#1: Print the first 10 natural numbers using for loop.\n",
    "for i in range(1,11):\n",
    "    print(i)"
   ]
  },
  {
   "cell_type": "code",
   "execution_count": 4,
   "id": "35fe973a-ba4b-4bc6-b1f8-4af6a82a40d8",
   "metadata": {
    "scrolled": true
   },
   "outputs": [
    {
     "name": "stdout",
     "output_type": "stream",
     "text": [
      "2\n",
      "4\n",
      "6\n",
      "8\n",
      "10\n",
      "12\n",
      "14\n",
      "16\n",
      "18\n",
      "20\n",
      "22\n",
      "24\n",
      "26\n",
      "28\n",
      "30\n"
     ]
    }
   ],
   "source": [
    "#2: Python program to print all the even numbers within the given range.\n",
    "for i in range(1,31):\n",
    "    if i%2==0:\n",
    "        print(i)"
   ]
  },
  {
   "cell_type": "code",
   "execution_count": 7,
   "id": "2cc2b043-d6df-40e8-9ff4-239202fa5e65",
   "metadata": {},
   "outputs": [
    {
     "name": "stdout",
     "output_type": "stream",
     "text": [
      "1225\n"
     ]
    }
   ],
   "source": [
    "#3: Python program to calculate the sum of all numbers from 1 to a given number.\n",
    "sum = 0\n",
    "for i in range(1,50):\n",
    "    sum=sum+i\n",
    "print(sum)"
   ]
  },
  {
   "cell_type": "code",
   "execution_count": 13,
   "id": "2182715f-e231-44ea-964e-966f2de89f20",
   "metadata": {},
   "outputs": [
    {
     "name": "stdout",
     "output_type": "stream",
     "text": [
      "225\n"
     ]
    }
   ],
   "source": [
    "#4: Python program to calculate the sum of all the odd numbers within the given range.\n",
    "sum =0\n",
    "for i in range(1,30):\n",
    "    if i%2!=0:\n",
    "        sum=sum+i\n",
    "print(sum)"
   ]
  },
  {
   "cell_type": "code",
   "execution_count": 15,
   "id": "a184f2ce-be37-4d99-934e-687b8b76d90a",
   "metadata": {},
   "outputs": [
    {
     "name": "stdin",
     "output_type": "stream",
     "text": [
      " 5\n"
     ]
    },
    {
     "name": "stdout",
     "output_type": "stream",
     "text": [
      "5\n",
      "10\n",
      "15\n",
      "20\n",
      "25\n",
      "30\n",
      "35\n",
      "40\n",
      "45\n",
      "50\n"
     ]
    }
   ],
   "source": [
    "# 5: Python program to print a multiplication table of a given number\n",
    "n=int(input())\n",
    "for i in range(1,11):\n",
    "    print(i*n)"
   ]
  },
  {
   "cell_type": "code",
   "execution_count": 17,
   "id": "de955cbb-0559-4e6a-b8d8-043b65fbd0c1",
   "metadata": {},
   "outputs": [
    {
     "name": "stdout",
     "output_type": "stream",
     "text": [
      "1\n",
      "2\n",
      "3\n",
      "4\n"
     ]
    }
   ],
   "source": [
    "# 6: Python program to display numbers from a list using a for loop.\n",
    "list1 = [1,2,3,4]\n",
    "for i in list1:\n",
    "    print(i)"
   ]
  },
  {
   "cell_type": "code",
   "execution_count": 3,
   "id": "fe560b5a-9dfe-4cb9-bc20-4305d0714657",
   "metadata": {},
   "outputs": [
    {
     "name": "stdout",
     "output_type": "stream",
     "text": [
      "6\n"
     ]
    }
   ],
   "source": [
    "#7: Python program to count the total number of digits in a number.\n",
    "num = 134623\n",
    "count = 0\n",
    "while num>0:\n",
    "    num = num//10\n",
    "    count = count+1\n",
    "print(count)"
   ]
  },
  {
   "cell_type": "code",
   "execution_count": 4,
   "id": "6c10f3b3-8173-4d2c-88f4-a08b1c7d971d",
   "metadata": {},
   "outputs": [
    {
     "name": "stdout",
     "output_type": "stream",
     "text": [
      "palindrome\n"
     ]
    }
   ],
   "source": [
    "#8: Python program to check if the given string is a palindrome.\n",
    "num =12321\n",
    "sum1 = 0\n",
    "temp = num\n",
    "while num>0:\n",
    "    rem =num%10\n",
    "    sum1=sum1*10+rem\n",
    "    num=num//10\n",
    "if(sum1==temp):\n",
    "    print('palindrome')\n",
    "else:\n",
    "    print('not palindrome')"
   ]
  },
  {
   "cell_type": "code",
   "execution_count": 7,
   "id": "b859c5de-3474-44f3-88ad-8dbb6de21f8d",
   "metadata": {},
   "outputs": [
    {
     "name": "stdin",
     "output_type": "stream",
     "text": [
      " 12321\n"
     ]
    },
    {
     "name": "stdout",
     "output_type": "stream",
     "text": [
      "12321\n"
     ]
    }
   ],
   "source": [
    "#9: Python program that accepts a word from the user and reverses it.\n",
    "num =int(input())\n",
    "sum1 = 0\n",
    "temp = num\n",
    "while num>0:\n",
    "    rem =num%10\n",
    "    sum1=sum1*10+rem\n",
    "    num=num//10\n",
    "print(sum1)"
   ]
  },
  {
   "cell_type": "code",
   "execution_count": 14,
   "id": "e5739c1d-f7d1-4565-a6c9-23a3a0faa4aa",
   "metadata": {},
   "outputs": [
    {
     "name": "stdin",
     "output_type": "stream",
     "text": [
      " 153\n"
     ]
    },
    {
     "name": "stdout",
     "output_type": "stream",
     "text": [
      "arm\n"
     ]
    }
   ],
   "source": [
    "#10: Python program to check if a given number is an Armstrong number\n",
    "num =int(input())\n",
    "sum1 = 0\n",
    "temp = num\n",
    "while num>0:\n",
    "    rem =num%10\n",
    "    sum1=sum1+rem*rem*rem\n",
    "    num=num//10\n",
    "if(temp==sum1):\n",
    "        print('arm')\n",
    "else:\n",
    "        print('not')"
   ]
  },
  {
   "cell_type": "code",
   "execution_count": 41,
   "id": "f9ea8de8-3e79-4794-8433-40d6fb559999",
   "metadata": {},
   "outputs": [
    {
     "name": "stdout",
     "output_type": "stream",
     "text": [
      "even 10\n",
      "odd  11\n"
     ]
    }
   ],
   "source": [
    "#11: Python program to count the number of even and odd numbers from a series of numbers.\n",
    "count=0\n",
    "num=0\n",
    "for i in range(1,22):\n",
    "    if i%2==0:\n",
    "        count = count+1\n",
    "    if i%2 != 0:\n",
    "        num=num+1\n",
    "print(\"even\",count)\n",
    "print(\"odd \",num)"
   ]
  },
  {
   "cell_type": "code",
   "execution_count": 65,
   "id": "239d2bb4-3f39-47e5-ac4b-3d446ed7cf15",
   "metadata": {},
   "outputs": [
    {
     "name": "stdout",
     "output_type": "stream",
     "text": [
      "4\n",
      "6\n",
      "8\n",
      "9\n",
      "10\n",
      "12\n",
      "14\n",
      "15\n",
      "16\n",
      "18\n",
      "20\n",
      "21\n",
      "22\n",
      "24\n",
      "25\n",
      "26\n",
      "27\n",
      "28\n",
      "30\n"
     ]
    }
   ],
   "source": [
    "#12: Python program to display all numbers within a range except the prime numbers.\n",
    "for i in range(2,31):\n",
    "    is_prime=True\n",
    "    for j in range(2,i):\n",
    "        if i%j ==0:\n",
    "            is_prime=False\n",
    "    if is_prime==False:\n",
    "        print(i)"
   ]
  },
  {
   "cell_type": "code",
   "execution_count": null,
   "id": "a638d22a-bae0-4c91-b4a5-95e1f20164ed",
   "metadata": {},
   "outputs": [],
   "source": []
  },
  {
   "cell_type": "code",
   "execution_count": null,
   "id": "56e0c391-6904-4aa1-acfa-c1dd10bdf040",
   "metadata": {},
   "outputs": [],
   "source": []
  },
  {
   "cell_type": "code",
   "execution_count": 51,
   "id": "5258f2d5-6366-49c0-bb4d-4e9c4691e666",
   "metadata": {},
   "outputs": [
    {
     "name": "stdout",
     "output_type": "stream",
     "text": [
      "0 1 1 2 3 5 8 13 21 34 55 89 144 233 377 610 987 1597 2584 4181 6765 10946 17711 28657 46368 75025 121393 196418 317811 514229 832040 1346269 2178309 3524578 5702887 9227465 14930352 24157817 39088169 63245986 102334155 165580141 267914296 433494437 701408733 1134903170 1836311903 2971215073 4807526976 7778742049 "
     ]
    }
   ],
   "source": [
    "#13: Python program to get the Fibonacci series between 0 to 50.\n",
    "a,b=0,1\n",
    "n =50\n",
    "for i in range(n):\n",
    "    print(a,end=' ')\n",
    "    a,b=b,a+b\n",
    "    "
   ]
  },
  {
   "cell_type": "code",
   "execution_count": 56,
   "id": "596c06a7-bc50-429e-95ee-4f83c2228e7e",
   "metadata": {},
   "outputs": [
    {
     "name": "stdout",
     "output_type": "stream",
     "text": [
      "3628800\n"
     ]
    }
   ],
   "source": [
    "#14: Python program to find the factorial of a given number.\n",
    "fact =1\n",
    "for i in range(1,11):\n",
    "    fact=fact*i\n",
    "print(fact)"
   ]
  },
  {
   "cell_type": "code",
   "execution_count": 58,
   "id": "ed7b797c-fa96-4257-a517-689a207e002c",
   "metadata": {},
   "outputs": [
    {
     "name": "stdout",
     "output_type": "stream",
     "text": [
      "3 digit\n",
      "6 letters\n"
     ]
    }
   ],
   "source": [
    "#15: Python program that accepts a string and calculates the number of digits and letters.\n",
    "string = 'nikita123'\n",
    "count= 0\n",
    "char=0\n",
    "for i in string:\n",
    "    if i.isdigit():\n",
    "        count=count+1\n",
    "    elif i.isalpha():\n",
    "        char=char+1\n",
    "print(count,'digit')\n",
    "print(char,'letters')\n"
   ]
  },
  {
   "cell_type": "code",
   "execution_count": 90,
   "id": "9759ff1e-716b-431d-ac0e-411b33510117",
   "metadata": {},
   "outputs": [
    {
     "name": "stdout",
     "output_type": "stream",
     "text": [
      "january 31 days\n",
      "february 28 days or 29 days\n",
      "march 31 days\n",
      "april 30 days\n",
      "may 31 days\n",
      "june 30 days\n",
      "july 31 days\n",
      "august 31 days\n",
      "september 30 days\n",
      "october 31 days\n",
      "november 30 days\n",
      "december 31 days\n"
     ]
    }
   ],
   "source": [
    "#18: Python program to convert the month name to a number of days.\n",
    "month=['january','february','march','april','may','june','july','august','september','october','november','december']\n",
    "for i in month:\n",
    "    if i=='february':\n",
    "        print(i,'28 days or 29 days')\n",
    "    elif i in ('january','march','may','july','august','october','december'):\n",
    "        print(i,\"31 days\")\n",
    "    elif i in ('february','april','june','september','november'):\n",
    "        print(i,\"30 days\")\n",
    "    else:\n",
    "        print('input is not valid')"
   ]
  }
 ],
 "metadata": {
  "kernelspec": {
   "display_name": "Python 3 (ipykernel)",
   "language": "python",
   "name": "python3"
  },
  "language_info": {
   "codemirror_mode": {
    "name": "ipython",
    "version": 3
   },
   "file_extension": ".py",
   "mimetype": "text/x-python",
   "name": "python",
   "nbconvert_exporter": "python",
   "pygments_lexer": "ipython3",
   "version": "3.12.4"
  }
 },
 "nbformat": 4,
 "nbformat_minor": 5
}
