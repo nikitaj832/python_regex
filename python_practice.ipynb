{
 "cells": [
  {
   "cell_type": "code",
   "execution_count": 9,
   "id": "b3bebbd0-8bcd-4baf-9496-6404e987489b",
   "metadata": {},
   "outputs": [
    {
     "name": "stdout",
     "output_type": "stream",
     "text": [
      "    * \n",
      "  * * * \n",
      "* * * * * \n"
     ]
    }
   ],
   "source": [
    "n=3\n",
    "for i in range(0,n):\n",
    "    for j in range(0,2-i):\n",
    "        print(\" \",end =\" \")\n",
    "    for k in range(0,2*i+1):\n",
    "        print(\"*\",end= \" \")\n",
    "    print()"
   ]
  },
  {
   "cell_type": "code",
   "execution_count": 41,
   "id": "5cd89cba-7af8-4917-b47d-6fc0a2c5cb28",
   "metadata": {},
   "outputs": [
    {
     "name": "stdout",
     "output_type": "stream",
     "text": [
      "* * * * * * * \n",
      "  * * * * * \n",
      "    * * * \n",
      "      * \n"
     ]
    }
   ],
   "source": [
    "n=4\n",
    "for i in range(0,n):\n",
    "    for j in range(0,i):\n",
    "        print(\" \",end =\" \")\n",
    "    for k in range(0,2*n-2*i-1):\n",
    "        print(\"*\",end= \" \")\n",
    "    print()"
   ]
  },
  {
   "cell_type": "code",
   "execution_count": 43,
   "id": "3d60dfcb-7098-455b-8adf-08b129fa4178",
   "metadata": {},
   "outputs": [
    {
     "data": {
      "text/plain": [
       "[1, 3, 4, 5]"
      ]
     },
     "execution_count": 43,
     "metadata": {},
     "output_type": "execute_result"
    }
   ],
   "source": [
    "# list \n",
    "\n",
    "list =[1,3,4]\n",
    "list.append(5)\n",
    "list"
   ]
  },
  {
   "cell_type": "code",
   "execution_count": 45,
   "id": "88032a65-1a7e-449b-bcc5-ac3e444c1e85",
   "metadata": {},
   "outputs": [
    {
     "data": {
      "text/plain": [
       "[1, 3, 4, 5, 'h', 'h', 'i']"
      ]
     },
     "execution_count": 45,
     "metadata": {},
     "output_type": "execute_result"
    }
   ],
   "source": [
    "list.extend(\"hhi\")\n",
    "list"
   ]
  },
  {
   "cell_type": "code",
   "execution_count": 51,
   "id": "698d8a66-74ea-4b9d-ba05-308370425e1d",
   "metadata": {},
   "outputs": [],
   "source": [
    "a =list.pop()"
   ]
  },
  {
   "cell_type": "code",
   "execution_count": 55,
   "id": "0e457e8d-94a5-4bfc-baa5-8917101ef296",
   "metadata": {},
   "outputs": [
    {
     "data": {
      "text/plain": [
       "[1, 3, 4, 5, 'h']"
      ]
     },
     "execution_count": 55,
     "metadata": {},
     "output_type": "execute_result"
    }
   ],
   "source": [
    "list"
   ]
  },
  {
   "cell_type": "code",
   "execution_count": 57,
   "id": "f4d400f8-8867-47ce-a198-a7f22c8825e2",
   "metadata": {},
   "outputs": [
    {
     "data": {
      "text/plain": [
       "'h'"
      ]
     },
     "execution_count": 57,
     "metadata": {},
     "output_type": "execute_result"
    }
   ],
   "source": [
    "a"
   ]
  },
  {
   "cell_type": "code",
   "execution_count": 60,
   "id": "4fa62c8c-6759-4119-90f2-14fc3b2e11d3",
   "metadata": {},
   "outputs": [],
   "source": [
    "list.append(a)"
   ]
  },
  {
   "cell_type": "code",
   "execution_count": 62,
   "id": "167aa64f-a91e-4ce4-9e8b-e4bc5f2bd186",
   "metadata": {},
   "outputs": [
    {
     "data": {
      "text/plain": [
       "[1, 3, 4, 5, 'h', 'h']"
      ]
     },
     "execution_count": 62,
     "metadata": {},
     "output_type": "execute_result"
    }
   ],
   "source": [
    "list\n"
   ]
  },
  {
   "cell_type": "code",
   "execution_count": 93,
   "id": "b952a632-9acd-488e-9861-0582f040f73f",
   "metadata": {},
   "outputs": [
    {
     "name": "stdout",
     "output_type": "stream",
     "text": [
      "[32, 30, 20, 10, 5, 4, 3, 3, 1]\n"
     ]
    }
   ],
   "source": [
    "list2 = [10,20,30,32,5,3,4,3,1]\n",
    "for i in range(0,len(list2)):\n",
    "    for j in range(i+1,len(list2)):\n",
    "        if list2[i] < list2[j]:\n",
    "            list2[i],list2[j] =list2[j],list2[i]\n",
    "print(list2)"
   ]
  },
  {
   "cell_type": "code",
   "execution_count": 95,
   "id": "b90f20d2-3252-4e2e-b99a-7f1423466e51",
   "metadata": {},
   "outputs": [
    {
     "data": {
      "text/plain": [
       "5"
      ]
     },
     "execution_count": 95,
     "metadata": {},
     "output_type": "execute_result"
    }
   ],
   "source": [
    "prices = [7,1,5,3,6,4]\n",
    "min_price = float('inf')\n",
    "max_profit = 0\n",
    "for i in range(len(prices)):\n",
    "    if(prices[i] <min_price):\n",
    "        min_price = prices[i]\n",
    "    elif prices[i] - min_price > max_profit :\n",
    "        max_profit = prices[i] - min_price\n",
    "max_profit\n",
    "        "
   ]
  },
  {
   "cell_type": "code",
   "execution_count": 51,
   "id": "4dbc4ff8-dc7c-4bed-ac21-ff65efb7bd6f",
   "metadata": {},
   "outputs": [
    {
     "name": "stdout",
     "output_type": "stream",
     "text": [
      "5\n"
     ]
    }
   ],
   "source": [
    "prices = [7,1,5,3,6,4]\n",
    "max=0\n",
    "for i in range(0,len(prices)):\n",
    "    for j in range(1,len(prices)):\n",
    "        if(prices[j]-prices[i]>max):\n",
    "            max = prices[j]-prices[i]\n",
    "print(max)"
   ]
  },
  {
   "cell_type": "code",
   "execution_count": 53,
   "id": "3082b3d7-7327-485a-ad0d-3e2b5f4b00d6",
   "metadata": {},
   "outputs": [
    {
     "name": "stdout",
     "output_type": "stream",
     "text": [
      "[220, 92, 34, 21, 12, 9, 5, 3, 2, 1]\n"
     ]
    }
   ],
   "source": [
    "# list sort using one loop\n",
    "s = [3, 1, 5, 9, 34, 2, 92, 21, 220, 12]\n",
    "\n",
    "i = 0  \n",
    "while i < len(s) - 1:\n",
    "    if s[i] < s[i + 1]: \n",
    "        s[i], s[i + 1] = s[i + 1], s[i]\n",
    "        i = 0  \n",
    "    else:\n",
    "        i += 1\n",
    "\n",
    "print(s)"
   ]
  },
  {
   "cell_type": "code",
   "execution_count": 80,
   "id": "ab87a01b-22cf-4a6e-ad32-6e8fdf9200eb",
   "metadata": {},
   "outputs": [
    {
     "data": {
      "text/plain": [
       "[4, 3, 2, 2]"
      ]
     },
     "execution_count": 80,
     "metadata": {},
     "output_type": "execute_result"
    }
   ],
   "source": [
    "# leet coode plus one\n",
    "digits = [4,3,2,1]\n",
    "result = int(''.join(map(str, digits)))+1\n",
    "[int(digit) for digit in str(result)]"
   ]
  },
  {
   "cell_type": "code",
   "execution_count": 1,
   "id": "7d766f5f-d2a0-4833-85ac-d6b394a7062e",
   "metadata": {},
   "outputs": [
    {
     "data": {
      "text/plain": [
       "[1, 0]"
      ]
     },
     "execution_count": 1,
     "metadata": {},
     "output_type": "execute_result"
    }
   ],
   "source": [
    "digits = [9]\n",
    "result = int(''.join(map(str, digits)))+1\n",
    "[int(digit) for digit in str(result)]"
   ]
  },
  {
   "cell_type": "code",
   "execution_count": 11,
   "id": "d4b8dea4-4485-4b12-933f-d6341e2270d9",
   "metadata": {},
   "outputs": [
    {
     "data": {
      "text/plain": [
       "[1, 98, 2, 4, 35, 12, 50, 20, 89]"
      ]
     },
     "execution_count": 11,
     "metadata": {},
     "output_type": "execute_result"
    }
   ],
   "source": [
    "# two list merge\n",
    "a =[98,2,4,89,2,35,1]\n",
    "b =[98,2,4,50,20,12,4]\n",
    "c=a+b\n",
    "list(set(c))"
   ]
  },
  {
   "cell_type": "code",
   "execution_count": 21,
   "id": "dc35ea3e-c94e-4378-9efe-066436f848d7",
   "metadata": {},
   "outputs": [
    {
     "name": "stdout",
     "output_type": "stream",
     "text": [
      "[0, 1]\n"
     ]
    }
   ],
   "source": [
    "# two sum problem leet code\n",
    "nums = [2,7,11,15]\n",
    "target =9\n",
    "for i in range(0,len(nums)):\n",
    "    for j in range(i+1,len(nums)):\n",
    "        if nums[i]+nums[j] == target:\n",
    "            print([i,j])"
   ]
  },
  {
   "cell_type": "code",
   "execution_count": null,
   "id": "e3ed16cd-7398-4f8d-a457-ec3af8c6b701",
   "metadata": {},
   "outputs": [],
   "source": []
  },
  {
   "cell_type": "code",
   "execution_count": null,
   "id": "82a7a951-7c93-4022-b7ae-9f2054d0a76f",
   "metadata": {},
   "outputs": [],
   "source": []
  },
  {
   "cell_type": "code",
   "execution_count": null,
   "id": "1f8e3e0b-5abf-4d79-84c2-64f94928825a",
   "metadata": {},
   "outputs": [],
   "source": []
  },
  {
   "cell_type": "code",
   "execution_count": null,
   "id": "f8624dc0-9063-44cf-95e8-d602d893eac6",
   "metadata": {},
   "outputs": [],
   "source": []
  },
  {
   "cell_type": "code",
   "execution_count": null,
   "id": "b6af7a07-b7d1-48a8-8b69-9cbfc82be4a5",
   "metadata": {},
   "outputs": [],
   "source": []
  }
 ],
 "metadata": {
  "kernelspec": {
   "display_name": "Python 3 (ipykernel)",
   "language": "python",
   "name": "python3"
  },
  "language_info": {
   "codemirror_mode": {
    "name": "ipython",
    "version": 3
   },
   "file_extension": ".py",
   "mimetype": "text/x-python",
   "name": "python",
   "nbconvert_exporter": "python",
   "pygments_lexer": "ipython3",
   "version": "3.11.7"
  }
 },
 "nbformat": 4,
 "nbformat_minor": 5
}
