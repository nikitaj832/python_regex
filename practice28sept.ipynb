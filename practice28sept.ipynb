{
 "cells": [
  {
   "cell_type": "markdown",
   "id": "6fd6f142-b379-489a-9bda-0438ec0f625e",
   "metadata": {},
   "source": [
    "IF CONDITIONS"
   ]
  },
  {
   "cell_type": "code",
   "execution_count": 5,
   "id": "c694290f-40a4-4cbe-8f19-76bcf695eb8b",
   "metadata": {},
   "outputs": [
    {
     "name": "stdin",
     "output_type": "stream",
     "text": [
      " 60\n",
      " 30\n",
      " 90\n"
     ]
    },
    {
     "name": "stdout",
     "output_type": "stream",
     "text": [
      "triangle\n"
     ]
    }
   ],
   "source": [
    "##### 1. Write a program that takes a user input of three angles and will find out whether it can form a triangle or not\n",
    "angle1 = int(input())\n",
    "angle2 =int(input())\n",
    "angle3 = int(input())\n",
    "if(angle1+angle2+angle3) == 180:\n",
    "    print('triangle')\n",
    "else:\n",
    "    print('not triangle')"
   ]
  },
  {
   "cell_type": "code",
   "execution_count": 8,
   "id": "2aef8c8b-b644-4461-b5ac-4fa386c0f600",
   "metadata": {},
   "outputs": [
    {
     "name": "stdin",
     "output_type": "stream",
     "text": [
      " 45\n",
      " 23\n"
     ]
    },
    {
     "name": "stdout",
     "output_type": "stream",
     "text": [
      "weather:hot\n"
     ]
    }
   ],
   "source": [
    "#2. Write a program that will determine weather when the value of temperature and humidity is provided by the user.\n",
    "temp=int(input())\n",
    "hum = int(input())\n",
    "if((temp >=30 )and (hum>=90)):\n",
    "    print(\"weather:hot and humid\")\n",
    "elif((temp >=30 )and (hum<90)):\n",
    "    print(\"weather:hot\")\n",
    "elif((temp <30 )and (hum>=90)):\n",
    "    print(\"weather:cool and humid\")\n",
    "elif((temp <30 )and (hum<90)):\n",
    "    print(\"weather:cool\")\n",
    "else:\n",
    "    print('input is not valid')"
   ]
  },
  {
   "cell_type": "code",
   "execution_count": 10,
   "id": "58afe5ec-9ff3-4dc6-81b4-ce6c07e7cf31",
   "metadata": {},
   "outputs": [
    {
     "name": "stdin",
     "output_type": "stream",
     "text": [
      " 10.0\n",
      " 50.4\n"
     ]
    },
    {
     "name": "stdout",
     "output_type": "stream",
     "text": [
      "profit\n"
     ]
    }
   ],
   "source": [
    "#3. Write a program that will take user input of cost price and selling price and determines whether its a loss or a profit\n",
    "cp=float(input())\n",
    "sp=float(input())\n",
    "if(sp>cp):\n",
    "    print('profit')\n",
    "elif(sp<cp):\n",
    "    print('loss')\n",
    "else:\n",
    "    print('not valid')"
   ]
  },
  {
   "cell_type": "code",
   "execution_count": 13,
   "id": "05ffcb6d-caf8-4ea7-a317-af8a026115ec",
   "metadata": {},
   "outputs": [
    {
     "name": "stdin",
     "output_type": "stream",
     "text": [
      " 1\n",
      " 4\n"
     ]
    },
    {
     "name": "stdout",
     "output_type": "stream",
     "text": [
      "Number of dogs: 1\n",
      "Number of chickens: 0\n"
     ]
    }
   ],
   "source": [
    "##### 4. Write a program that will tell the number of dogs and chicken are there when the user\n",
    "# will provide the value of total heads and legs.\n",
    "# a. Input are\n",
    "# b. head=1 , legs=4\n",
    "total_heads= int(input())\n",
    "total_legs=int(input())\n",
    "dogs = (total_legs - 2 * total_heads) // 2\n",
    "chickens = total_heads - dogs\n",
    "\n",
    "if dogs < 0 or chickens < 0:\n",
    "    print(\"no dog no chicken\")\n",
    "else:\n",
    "    print(f\"Number of dogs: {dogs}\")\n",
    "    print(f\"Number of chickens: {chickens}\")\n"
   ]
  },
  {
   "cell_type": "code",
   "execution_count": 15,
   "id": "958e8dc6-20bd-4489-9732-816eb88d94e7",
   "metadata": {},
   "outputs": [
    {
     "name": "stdin",
     "output_type": "stream",
     "text": [
      " 55\n"
     ]
    },
    {
     "name": "stdout",
     "output_type": "stream",
     "text": [
      "divisible\n"
     ]
    }
   ],
   "source": [
    "#5. Program to check whether a number is divisible by 5 and 11 or not\n",
    "n = int(input())\n",
    "if n%5 ==0 and n%11==0:\n",
    "    print('divisible')\n",
    "else:\n",
    "    print('not divisible')"
   ]
  },
  {
   "cell_type": "code",
   "execution_count": 17,
   "id": "9fce817f-f16b-4569-939a-a6711a68e1c5",
   "metadata": {},
   "outputs": [
    {
     "name": "stdout",
     "output_type": "stream",
     "text": [
      "not triangle\n"
     ]
    }
   ],
   "source": [
    "#6 Write a program to check whether triangle is valid or not if angles are given.\n",
    "angle1 = 40\n",
    "angle2 =50\n",
    "angle3 = 60\n",
    "if(angle1+angle2+angle3) == 180:\n",
    "    print('valid triangle')\n",
    "else:\n",
    "    print('not triangle')"
   ]
  },
  {
   "cell_type": "code",
   "execution_count": 24,
   "id": "1ab86941-38ca-4f23-b160-4ca6f198675c",
   "metadata": {},
   "outputs": [
    {
     "name": "stdin",
     "output_type": "stream",
     "text": [
      "a 67\n",
      "b 67\n",
      "c 56\n"
     ]
    },
    {
     "name": "stdout",
     "output_type": "stream",
     "text": [
      "iso\n"
     ]
    }
   ],
   "source": [
    "#7. Write a program to check whether triangle is equilateral, scalene or isosceles\n",
    "# a. A triangle is said Equilateral Triangle, if all its sides are equal. If a, b, c are\n",
    "# three sides of triangle. Then, the triangle is equilateral only if a == b == c\n",
    "# b. A triangle is said Isosceles Triangle, if its two sides are equal. If a, b, c are\n",
    "# three sides of triangle. Then, the triangle is isosceles if either a == b or a == c\n",
    "# or b == c.\n",
    "# c. A triangle is said Scalene Triangle, if none of its sides are equal.\n",
    "a=int(input('a'))\n",
    "b=int(input('b'))\n",
    "c=int(input('c'))\n",
    "if(a==b==c):\n",
    "    print('eq')\n",
    "elif(a==b or a==c or b==c):\n",
    "    print('iso')\n",
    "elif(a!=b!=c):\n",
    "    print('scalene')\n",
    "else:\n",
    "    print('not valid')"
   ]
  },
  {
   "cell_type": "code",
   "execution_count": 28,
   "id": "09186435-c059-492a-8752-1e0f4134c9fc",
   "metadata": {},
   "outputs": [
    {
     "name": "stdin",
     "output_type": "stream",
     "text": [
      "salary: 40000\n"
     ]
    },
    {
     "name": "stdout",
     "output_type": "stream",
     "text": [
      "90000\n"
     ]
    }
   ],
   "source": [
    "#8Write a program to enter basic salary and calculate gross salary of an employee\n",
    "b_salary = int(input('salary:'))\n",
    "if(b_salary<=10000):\n",
    "    hra= (b_salary//100)*20\n",
    "    da=(b_salary//100)*80\n",
    "    g_salary = b_salary+hra+da\n",
    "    print(g_salary)\n",
    "if b_salary>=10001 and b_salary<=20000 :\n",
    "    hra= (b_salary//100)*25\n",
    "    da=(b_salary//100)*90\n",
    "    g_salary = b_salary+hra+da\n",
    "    print(g_salary)\n",
    "if(b_salary>=20000):\n",
    "    hra= (b_salary//100)*30\n",
    "    da=(b_salary//100)*95\n",
    "    g_salary = b_salary+hra+da\n",
    "    print(g_salary)"
   ]
  },
  {
   "cell_type": "code",
   "execution_count": 30,
   "id": "a0562359-38eb-485d-bb69-6eaf2c42fbc5",
   "metadata": {},
   "outputs": [
    {
     "name": "stdin",
     "output_type": "stream",
     "text": [
      "enter unit 200\n"
     ]
    },
    {
     "name": "stdout",
     "output_type": "stream",
     "text": [
      "3000\n"
     ]
    }
   ],
   "source": [
    "#9. Write a program to calculate the total electricity bill based on the following conditions:\n",
    "# a. The first 50 unit will be calculated with 2 rs/unit\n",
    "# b. The next 100 unit will be calculated with 5 rs/unit\n",
    "# c. The next 150 unit will be calculated with 10 rs/unit\n",
    "# d. All the other units will be calculated with 15 rs/unit\n",
    "u=int(input('enter unit'))\n",
    "if u>=1 and u<=50:\n",
    "    e_bill= 2*u\n",
    "    print(e_bill)\n",
    "elif u>50 and u<=100 :\n",
    "    e_bill= 5*u\n",
    "    print(e_bill)\n",
    "elif u>100 and u<=150 :\n",
    "    e_bill= 10*u\n",
    "    print(e_bill)\n",
    "else:\n",
    "    e_bill= 15*u\n",
    "    print(e_bill)\n",
    "    "
   ]
  },
  {
   "cell_type": "code",
   "execution_count": null,
   "id": "1fa7ce48-728f-4bfc-becb-58e435917be8",
   "metadata": {},
   "outputs": [],
   "source": [
    "#10. Write a program to check whether any year is a leap year or not\n",
    "# a. A leap year is exactly divisible by 4 except for century years (years ending\n",
    "# with 00). The century year is a leap year only if it is perfectly divisible by 400.\n"
   ]
  },
  {
   "cell_type": "code",
   "execution_count": 41,
   "id": "2976b43f-fd0e-4da5-ba2a-27fb68554501",
   "metadata": {},
   "outputs": [
    {
     "name": "stdin",
     "output_type": "stream",
     "text": [
      " 3455\n"
     ]
    },
    {
     "name": "stdout",
     "output_type": "stream",
     "text": [
      "not leap year\n"
     ]
    }
   ],
   "source": [
    "year = int(input())\n",
    "if year%4==0 and year%100!=0 or year%400==0 :\n",
    "    \n",
    "        print('leap year')\n",
    "        \n",
    "else:\n",
    "    print('not leap year')\n",
    "        \n",
    "    "
   ]
  },
  {
   "cell_type": "code",
   "execution_count": 25,
   "id": "e70e69ea-c7d1-4d2a-b561-8b030f977eaf",
   "metadata": {},
   "outputs": [
    {
     "name": "stdout",
     "output_type": "stream",
     "text": [
      "4321\n",
      "reverse no.\n"
     ]
    }
   ],
   "source": [
    "#11. Write a program that will reverse a four digit number.Also it checks whether the reverse\n",
    "digit=1234\n",
    "sum=0\n",
    "temp=digit\n",
    "while digit>0:\n",
    "    rem = digit%10\n",
    "    sum = sum*10+rem\n",
    "    digit = digit//10\n",
    "print(sum)\n",
    "if sum!=temp:\n",
    "        print('reverse no.')\n",
    "else:\n",
    "        print('not reverse')\n",
    "\n"
   ]
  },
  {
   "cell_type": "code",
   "execution_count": 24,
   "id": "da28c713-138d-48ce-8d84-080598f340b9",
   "metadata": {},
   "outputs": [
    {
     "name": "stdin",
     "output_type": "stream",
     "text": [
      "Enter a four-digit number:  3456\n"
     ]
    },
    {
     "name": "stdout",
     "output_type": "stream",
     "text": [
      "The reversed number is: 6543\n",
      "3456 is a reverse.\n"
     ]
    }
   ],
   "source": [
    "\n",
    "number = input(\"Enter a four-digit number: \")\n",
    "if len(number) == 4 and number.isdigit():\n",
    "    reversed_number = number[::-1]\n",
    "    print(f\"The reversed number is: {reversed_number}\")\n",
    "    if number[::-1] == reversed_number[0:]:\n",
    "        print(f\"{number} is a reverse.\")\n",
    "    else:\n",
    "        print(f\"{number} is not a reverse.\")\n",
    "else:\n",
    "    print(\"Please enter a valid four-digit number.\")\n"
   ]
  },
  {
   "cell_type": "code",
   "execution_count": null,
   "id": "8932c991-cef7-4f7f-a48b-ffa3a398bfa8",
   "metadata": {},
   "outputs": [],
   "source": [
    "#12 Write a program that will check whether the number is armstrong number or not.\n"
   ]
  }
 ],
 "metadata": {
  "kernelspec": {
   "display_name": "Python 3 (ipykernel)",
   "language": "python",
   "name": "python3"
  },
  "language_info": {
   "codemirror_mode": {
    "name": "ipython",
    "version": 3
   },
   "file_extension": ".py",
   "mimetype": "text/x-python",
   "name": "python",
   "nbconvert_exporter": "python",
   "pygments_lexer": "ipython3",
   "version": "3.12.4"
  }
 },
 "nbformat": 4,
 "nbformat_minor": 5
}
