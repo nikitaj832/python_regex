{
 "cells": [
  {
   "cell_type": "code",
   "execution_count": 35,
   "id": "e40a9ac3-7e2a-44b1-a0a0-4669447b4d28",
   "metadata": {},
   "outputs": [
    {
     "name": "stdout",
     "output_type": "stream",
     "text": [
      "99\n"
     ]
    }
   ],
   "source": [
    "# 1. Write a Python program to find the maximum element in a list of numbers without max functions\n",
    "# numbers = [10, 20, 4, 45, 99]\n",
    "# The maximum element is: 99\n",
    "numbers = [10, 20, 4, 45, 99]\n",
    "max =numbers[0]\n",
    "for i in numbers:\n",
    "    if i>max:\n",
    "        max=i\n",
    "print(max)"
   ]
  },
  {
   "cell_type": "code",
   "execution_count": 37,
   "id": "7f413742-ab5d-47ed-ba2b-66da2406c68f",
   "metadata": {},
   "outputs": [
    {
     "name": "stdout",
     "output_type": "stream",
     "text": [
      "100\n"
     ]
    }
   ],
   "source": [
    "# 2. Write a Python program to sum all the elements in a list of numbers.\n",
    "# a. numbers = [10, 20, 30, 40]\n",
    "# b. The sum of all elements is: 100\n",
    "numbers = [10, 20, 30, 40]\n",
    "sum=0\n",
    "for i in numbers:\n",
    "    sum=sum+i\n",
    "\n",
    "print(sum)"
   ]
  },
  {
   "cell_type": "code",
   "execution_count": 39,
   "id": "c32f94d1-646b-46a4-b87c-12e30f85215d",
   "metadata": {},
   "outputs": [
    {
     "name": "stdout",
     "output_type": "stream",
     "text": [
      "[5, 4, 3, 2, 1]\n"
     ]
    }
   ],
   "source": [
    "# 3. Write a Python program to reverse a list without reverse or slicing operator\n",
    "# a. numbers = [1, 2, 3, 4, 5]\n",
    "# b. Reversed list: [5, 4, 3, 2, 1]\n",
    "numbers = [1, 2, 3, 4, 5]\n",
    "# rev =[]\n",
    "# for i in numbers[::-1]:\n",
    "#     rev.append(i)\n",
    "# print(rev)\n",
    "i=0\n",
    "j=len(numbers)-1\n",
    "while i<j:\n",
    "    numbers[i],numbers[j] = numbers[j],numbers[i]\n",
    "    i=i+1\n",
    "    j=j-1\n",
    "print(numbers)"
   ]
  },
  {
   "cell_type": "code",
   "execution_count": 69,
   "id": "c794d77f-77ac-4934-a0cb-cb6a0a25a47b",
   "metadata": {},
   "outputs": [
    {
     "name": "stdout",
     "output_type": "stream",
     "text": [
      "[1, 2, 3, 5, 9, 12, 21, 34, 92, 220]\n"
     ]
    }
   ],
   "source": [
    "# 4. Write a Python program to sort a list in ascending order without sort functions\n",
    "s = [3, 1, 5, 9, 34, 2, 92, 21, 220, 12]\n",
    "\n",
    "i = 0  \n",
    "while i < len(s) - 1:\n",
    "    if s[i] > s[i + 1]: \n",
    "        s[i], s[i + 1] = s[i + 1], s[i]\n",
    "        i = 0  \n",
    "    else:\n",
    "        i += 1\n",
    "\n",
    "print(s) "
   ]
  },
  {
   "cell_type": "code",
   "execution_count": 73,
   "id": "9e378ddb-2571-4c9d-a09d-7fd5a4a7d467",
   "metadata": {},
   "outputs": [
    {
     "name": "stdout",
     "output_type": "stream",
     "text": [
      "[1, 2, 3, 4, 5]\n"
     ]
    }
   ],
   "source": [
    "# 5. Write a Python program to remove duplicates from a list while maintaining the order of elements.\n",
    "# a. numbers = [1, 2, 2, 3, 4, 4, 5]\n",
    "# b. List after removing duplicates: [1, 2, 3, 4, 5]\n",
    "\n",
    "numbers = [1, 2, 2, 3, 4, 4, 5]\n",
    "num = []\n",
    "for i in numbers:\n",
    "    if i not in num:\n",
    "        num.append(i)\n",
    "\n",
    "print(num)"
   ]
  },
  {
   "cell_type": "code",
   "execution_count": 1,
   "id": "e82dc13d-d736-4a5e-8dd6-93ed8868ba36",
   "metadata": {},
   "outputs": [
    {
     "data": {
      "text/plain": [
       "[(1, 5), (2, 4), (3, 3)]"
      ]
     },
     "execution_count": 1,
     "metadata": {},
     "output_type": "execute_result"
    }
   ],
   "source": [
    "# 6. Write a Python program to find all pairs of numbers in a list that add up to a specific target sum.\n",
    "# a. numbers = [1, 2, 3, 4, 3, 5, 6] target_sum = 6\n",
    "# b. Pairs that add up to 6: [(3, 3), (2, 4), (1, 5)]\n",
    "\n",
    "numbers = [1, 2, 3, 4, 3, 5, 6] \n",
    "target = 6\n",
    "pairs =[]\n",
    "for i in range(len(numbers)-1):\n",
    "    for j in range(i+1,len(numbers)):\n",
    "        if numbers[i]+numbers[j]==target:\n",
    "            pairs.append((numbers[i],numbers[j]))\n",
    "pairs"
   ]
  },
  {
   "cell_type": "code",
   "execution_count": 63,
   "id": "6e5cb66a-95b8-418c-99e2-99233892531d",
   "metadata": {},
   "outputs": [
    {
     "name": "stdout",
     "output_type": "stream",
     "text": [
      "[1, 2, 3, 4, [5, 6], 7, 8]\n",
      "final_list [1, 2, 3, 4, 5, 6, 7, 8]\n"
     ]
    }
   ],
   "source": [
    "# 7. Write a Python program to flatten a nested list (list within lists) into a single list.\n",
    "# a. nested_list = [1, [2, 3], [4, [5, 6], 7], 8]\n",
    "# b. Flattened list: [1, 2, 3, 4, 5, 6, 7, 8]\n",
    "nested_list = [1, [2, 3], [4, [5, 6], 7], 8]\n",
    "flat =[]\n",
    "for i in nested_list:\n",
    "    if type(i)==list:\n",
    "        flat.extend(i)\n",
    "    else:\n",
    "        flat.append(i)\n",
    "\n",
    "print(flat)\n",
    "f=[]\n",
    "for j in flat:\n",
    "    if type(j)==list:\n",
    "        f.extend(j)\n",
    "    else:\n",
    "        f.append(j)\n",
    "print(\"final_list\",f)"
   ]
  },
  {
   "cell_type": "code",
   "execution_count": 15,
   "id": "3fd21d13-67ee-4265-8c90-43f0c74de27b",
   "metadata": {},
   "outputs": [
    {
     "data": {
      "text/plain": [
       "9"
      ]
     },
     "execution_count": 15,
     "metadata": {},
     "output_type": "execute_result"
    }
   ],
   "source": [
    "# 8. Write a Python program to find the sum of the elements in a list, excluding the largest\n",
    "# and smallest element. Don’t use max or min functions\n",
    "# a. numbers = [1, 2, 3, 4, 5]\n",
    "# b. Sum excluding the largest and smallest element: 9\n",
    "numbers = [1, 2, 3, 4, 5]\n",
    "max=numbers[0]\n",
    "min=numbers[0]\n",
    "for i in numbers:\n",
    "    if i>max:\n",
    "        max=i\n",
    "    elif i<min:\n",
    "        min=i\n",
    "numbers.remove(max)\n",
    "numbers.remove(min)\n",
    "\n",
    "sum =0\n",
    "for j in numbers:\n",
    "    sum=sum+j\n",
    "sum"
   ]
  },
  {
   "cell_type": "code",
   "execution_count": 17,
   "id": "ce1a6401-0c0c-4135-a5dc-c6975e10ae15",
   "metadata": {},
   "outputs": [],
   "source": [
    "# Intermediate"
   ]
  },
  {
   "cell_type": "code",
   "execution_count": 9,
   "id": "0b667da9-5ef5-426b-8a00-67681189a53e",
   "metadata": {},
   "outputs": [
    {
     "name": "stdout",
     "output_type": "stream",
     "text": [
      "True\n"
     ]
    }
   ],
   "source": [
    "# 9. Write a Python program to check if a list is a palindrome (reads the same backward\n",
    "# as forward) using two pointer approach\n",
    "# a. numbers = [1, 2, 3, 2, 1]\n",
    "# b. True\n",
    "numbers = [1, 2 ,3, 2, 1]\n",
    "i=0\n",
    "j=len(numbers)-1\n",
    "while i<j:\n",
    "    if numbers[i] != numbers[j]:\n",
    "        print(False)\n",
    "        break\n",
    "\n",
    "    i=i+1\n",
    "    j=j-1\n",
    "else:\n",
    "    print(True) "
   ]
  },
  {
   "cell_type": "code",
   "execution_count": 11,
   "id": "8a390512-3b96-47d3-ba38-96f13da67431",
   "metadata": {},
   "outputs": [
    {
     "data": {
      "text/plain": [
       "[1, 2, 3, 4, 5, 6, 7, 8]"
      ]
     },
     "execution_count": 11,
     "metadata": {},
     "output_type": "execute_result"
    }
   ],
   "source": [
    "# 10. Write a function to remove duplicate elements from a list.\n",
    "# a. numbers = [1, 2, 3, 2, 4, 5, 1, 6]\n",
    "# b. [1, 2, 3, 4, 5, 6]\n",
    "\n",
    "def rem(numbers):\n",
    "    num = []\n",
    "    for i in numbers:\n",
    "        if i not in num:\n",
    "            num.append(i)\n",
    "\n",
    "    return num\n",
    "    \n",
    "\n",
    "rem([1, 2, 3, 2, 4, 5, 1, 6,7,8,7,8])"
   ]
  },
  {
   "cell_type": "code",
   "execution_count": 83,
   "id": "caa62482-38f7-43a4-b941-88410c0fd58a",
   "metadata": {},
   "outputs": [
    {
     "data": {
      "text/plain": [
       "[3, 4, 5]"
      ]
     },
     "execution_count": 83,
     "metadata": {},
     "output_type": "execute_result"
    }
   ],
   "source": [
    "# 11. Find Common Elements in Two Lists\n",
    "# a. list1 = [1, 2, 3, 4, 5]\n",
    "# b. list2 = [3, 4, 5, 6, 7]\n",
    "# c. Result: [3, 4, 5]\n",
    "list1 = [1, 2, 3, 4, 5]\n",
    "list2 = [3, 4, 5, 6, 7]\n",
    "result =[]\n",
    "for i in list1:\n",
    "    for j in list2:\n",
    "        if i==j:\n",
    "            result.append(i)\n",
    "result           "
   ]
  },
  {
   "cell_type": "code",
   "execution_count": 117,
   "id": "2f74a005-085a-4758-8f76-5049fa70c97e",
   "metadata": {},
   "outputs": [
    {
     "name": "stdout",
     "output_type": "stream",
     "text": [
      "strawberry\n"
     ]
    }
   ],
   "source": [
    "# 12. Find the Longest Word in a List\n",
    "# a. words = [\"apple\", \"banana\", \"strawberry\", \"kiwi\"]\n",
    "# b. Strawberry\n",
    "words = [\"apple\", \"banana\", \"strawberry\", \"kiwi\"]\n",
    "longest =words[0]\n",
    "for i in words:\n",
    "    if len(i)>len(longest):\n",
    "        longest=i\n",
    "\n",
    "print(longest)"
   ]
  },
  {
   "cell_type": "code",
   "execution_count": 246,
   "id": "978d806a-2389-4066-a58c-b5705147a52e",
   "metadata": {},
   "outputs": [
    {
     "name": "stdout",
     "output_type": "stream",
     "text": [
      "2\n"
     ]
    }
   ],
   "source": [
    "# 13. Find Missing Number in a List\n",
    "numbers = [1,3,4,5,6,7]\n",
    "for i in range(1,len(numbers)+1):\n",
    "    if i not in numbers:\n",
    "        miss=i\n",
    "print(miss)"
   ]
  },
  {
   "cell_type": "code",
   "execution_count": 105,
   "id": "1976cbed-c872-4caf-a97d-5e471ec70167",
   "metadata": {},
   "outputs": [],
   "source": [
    "#Advanced"
   ]
  },
  {
   "cell_type": "code",
   "execution_count": 238,
   "id": "14c54325-7f1e-43da-a84c-300b11c0de54",
   "metadata": {},
   "outputs": [
    {
     "name": "stdout",
     "output_type": "stream",
     "text": [
      "3\n"
     ]
    }
   ],
   "source": [
    "# 14. Find Missing Number in a List you are given a list of n-1 numbers in the range 1 to n .\n",
    "# one number is missing from the sequence .Find the missing number.\n",
    "# a. numbers =[1,2,4,5,6]\n",
    "# b. 3\n",
    "numbers = [1,2,4,5,6]\n",
    "for i in range(1,len(numbers)+1):\n",
    "    if i not in numbers:\n",
    "        miss=i\n",
    "print(miss)"
   ]
  },
  {
   "cell_type": "code",
   "execution_count": 214,
   "id": "183600a1-47c8-43ce-b6de-ebeeb34f7920",
   "metadata": {},
   "outputs": [
    {
     "name": "stdout",
     "output_type": "stream",
     "text": [
      "1\n"
     ]
    }
   ],
   "source": [
    "# 15. Find the First Non-Repeating Element\n",
    "# Given a list of integers, find the first element that appears only once.\n",
    "# a. numbers = [4, 5, 1, 2, 0, 4, 5, 2]\n",
    "# b. Expected Output: 1\n",
    "numbers = [4, 5, 1, 2, 0, 4, 5, 2]\n",
    "count = {}\n",
    "for i in numbers:\n",
    "    if i in count:\n",
    "        count[i] =count[i]+1\n",
    "    else:\n",
    "        count[i]=1\n",
    "for i in numbers:\n",
    "    if count[i]==1:\n",
    "        print(i)\n",
    "        break"
   ]
  },
  {
   "cell_type": "code",
   "execution_count": 216,
   "id": "ab10fc36-4cb0-43e4-be86-eea99b11bfaa",
   "metadata": {},
   "outputs": [
    {
     "name": "stdout",
     "output_type": "stream",
     "text": [
      "[1, 3, 12, 0, 0]\n"
     ]
    }
   ],
   "source": [
    "# 16. Move All Zeros to the End\n",
    "# Given a list of integers, move all zeros to the end while maintaining the relative order\n",
    "# of non-zero elements. Don’t use any inbuilt functions\n",
    "# a. numbers = [0, 1, 0, 3, 12]\n",
    "# b. [1, 3, 12, 0, 0]\n",
    "numbers = [0, 1, 0, 3, 12]\n",
    "j =0\n",
    "for i in range(len(numbers)):\n",
    "    if numbers[i] !=0:\n",
    "        numbers[j],numbers[i]=numbers[i],numbers[j]\n",
    "        j=j+1\n",
    "print(numbers)      "
   ]
  },
  {
   "cell_type": "code",
   "execution_count": 110,
   "id": "227dcc9a-92d2-4255-8923-9bd5fc867243",
   "metadata": {},
   "outputs": [
    {
     "name": "stdout",
     "output_type": "stream",
     "text": [
      "[3, 6, 8]\n"
     ]
    }
   ],
   "source": [
    "# 17. Find Elements Greater Than Their Left Neighbor\n",
    "# a. numbers = [1, 3, 2, 6, 5, 8, 7]\n",
    "# b. [3, 6, 8]\n",
    "numbers = [1, 3, 2, 6, 5, 8, 7]\n",
    "greater= []\n",
    "for i in range(1, len(numbers)):\n",
    "    if numbers[i] > numbers[i - 1]:\n",
    "        greater.append(numbers[i])\n",
    "print(greater)"
   ]
  },
  {
   "cell_type": "code",
   "execution_count": 144,
   "id": "2c8799c0-9a6d-4661-92c3-3779fc65d6a7",
   "metadata": {},
   "outputs": [
    {
     "name": "stdout",
     "output_type": "stream",
     "text": [
      "[(-1, -1, 2), (-1, 0, 1)]\n"
     ]
    }
   ],
   "source": [
    "# 18. Find Triplets That Sum to Zero\n",
    "# Given a list of numbers, find all unique triplets (a, b, c) such that a + b + c = 0.\n",
    "# a. numbers = [-1, 0, 1, 2, -1, -4]\n",
    "# b. Expected Output: [(-1, -1, 2), (-1, 0, 1)]\n",
    "numbers = [-1,0,1,2,-1,-4]\n",
    "s=[]\n",
    "numbers.sort()\n",
    "for i in range(len(numbers)-2):\n",
    "    start =i+1\n",
    "    end = len(numbers)-1\n",
    "    while(start < end):\n",
    "        if numbers[i]+numbers[start]+numbers[end] ==0:\n",
    "            s.append((numbers[i],numbers[start] ,numbers[end]))\n",
    "            start+=1\n",
    "            end-=1\n",
    "        elif  (numbers[i]+numbers[start]+numbers[end] > 0):\n",
    "            end -=1\n",
    "        else:\n",
    "            start+=1\n",
    "\n",
    "t=[]\n",
    "for i in s:\n",
    "    if i not in t:\n",
    "        t.append(i)\n",
    "\n",
    "print(t)"
   ]
  },
  {
   "cell_type": "code",
   "execution_count": null,
   "id": "a514258b-bdd1-42b4-93f2-a70e39c77111",
   "metadata": {},
   "outputs": [],
   "source": []
  }
 ],
 "metadata": {
  "kernelspec": {
   "display_name": "Python 3 (ipykernel)",
   "language": "python",
   "name": "python3"
  },
  "language_info": {
   "codemirror_mode": {
    "name": "ipython",
    "version": 3
   },
   "file_extension": ".py",
   "mimetype": "text/x-python",
   "name": "python",
   "nbconvert_exporter": "python",
   "pygments_lexer": "ipython3",
   "version": "3.11.7"
  }
 },
 "nbformat": 4,
 "nbformat_minor": 5
}
