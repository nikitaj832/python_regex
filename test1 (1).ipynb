{
 "cells": [
  {
   "cell_type": "code",
   "execution_count": null,
   "id": "45634940-f561-48bd-95af-4765b9a69f2f",
   "metadata": {},
   "outputs": [],
   "source": [
    "#1. Explain the difference between a list and a tuple in Python.\n",
    " #list is a mutable  and tuple is immutable\n",
    "#list start ane ended with square bracket[] and tuple start and ended with paranthesis()\n",
    "#list is dyanamic and tuple is static\n",
    "#list methods are - append(),extend(),pop(),remove(),insert(),sort(),reverse(),copy(),clear(),indeX(),count().\n",
    "# tuple has only two methods-count(),index()"
   ]
  },
  {
   "cell_type": "code",
   "execution_count": null,
   "id": "9e1f35e1-37ef-4ed2-b476-104df2e3575e",
   "metadata": {},
   "outputs": [],
   "source": [
    "#2. What is an f-string in Python, and how does it differ from using str.format() for string formatting?\n",
    "#f-string is using curly braces {} to include variables or expressions directly within a string. \n",
    "#f\"Hello, {name}!\"\n",
    "#str.format-\n",
    "#Hello, {}!\".format(name)"
   ]
  },
  {
   "cell_type": "code",
   "execution_count": 2,
   "id": "d5c3e66a-fa4f-40cc-9b09-aaee1ec581c5",
   "metadata": {},
   "outputs": [
    {
     "data": {
      "text/plain": [
       "[3, 5, 6]"
      ]
     },
     "execution_count": 2,
     "metadata": {},
     "output_type": "execute_result"
    }
   ],
   "source": [
    "#3. Describe how slicing works in Python lists. What does list[1:4] do?\n",
    "#by givin starting and ending index of the elemente:\n",
    "#syntax for slicing is list[start:end:set up]\n",
    "list= [2,3,5,6,7]\n",
    "list[1:4]\n",
    "#it gives the value from index 1 upto 4 but not including index 4"
   ]
  },
  {
   "cell_type": "code",
   "execution_count": null,
   "id": "455ff29c-3702-4079-9058-238e181253ae",
   "metadata": {},
   "outputs": [],
   "source": [
    "#4. How does negative indexing work in Python?\n",
    "#negative indexing is show the reverse of element\n",
    "#it refers to [-1]"
   ]
  },
  {
   "cell_type": "code",
   "execution_count": null,
   "id": "22626b9f-a391-4ee5-943a-5edb676c986a",
   "metadata": {},
   "outputs": [],
   "source": [
    "#5. What is the difference between the == operator and the is operator in Python?\n",
    "#== operator is value are same \n",
    "#is operator - values are in same location"
   ]
  },
  {
   "cell_type": "code",
   "execution_count": 10,
   "id": "72b0f81e-76d2-4c2c-842b-576af8bd0916",
   "metadata": {},
   "outputs": [
    {
     "data": {
      "text/plain": [
       "[2, 4]"
      ]
     },
     "execution_count": 10,
     "metadata": {},
     "output_type": "execute_result"
    }
   ],
   "source": [
    "#6. Given the list numbers = [1, 2, 3, 4, 5], how would you create a new list containing [2, 4] using slicing?\n",
    "l= [1,2,3,4,5]\n",
    "l[1:4:2]"
   ]
  },
  {
   "cell_type": "code",
   "execution_count": 13,
   "id": "1c0aac5f-5ed5-471d-a7cf-78a8012bf3ef",
   "metadata": {},
   "outputs": [
    {
     "data": {
      "text/plain": [
       "(10, 20, 30)"
      ]
     },
     "execution_count": 13,
     "metadata": {},
     "output_type": "execute_result"
    }
   ],
   "source": [
    "#7. With the tuple data = (10, 20, 30, 40), how would you create a new tuple containing all elements except the last one?\n",
    "tuple =(10,20,30,40)\n",
    "tuple[:3]"
   ]
  },
  {
   "cell_type": "code",
   "execution_count": 15,
   "id": "696392c8-6e4f-4749-81d1-8a0121821eae",
   "metadata": {},
   "outputs": [
    {
     "name": "stdout",
     "output_type": "stream",
     "text": [
      "[1, 2, 3, 4]\n"
     ]
    }
   ],
   "source": [
    "#8. How would you concatenate two lists, list1 = [1, 2] and list2 = [3, 4], and create a new list?\n",
    "list1=[1,2]\n",
    "list2=[3,4]\n",
    "print(list1+list2)"
   ]
  },
  {
   "cell_type": "code",
   "execution_count": 17,
   "id": "7b653fc7-0611-4298-bdf3-307b9de52162",
   "metadata": {},
   "outputs": [
    {
     "name": "stdout",
     "output_type": "stream",
     "text": [
      "less than 10\n"
     ]
    }
   ],
   "source": [
    "#9. Write an if-else statement to check if a variable x is greater than 10, less than 10, or equal to 10, and print corresponding messages.\n",
    "x=4\n",
    "if(x>10):\n",
    "    print('greater')\n",
    "elif(x<10):\n",
    "    print('less than 10')  \n",
    "elif(x==10):\n",
    "    print('equal')\n",
    "else:\n",
    "    print('not valid')"
   ]
  },
  {
   "cell_type": "code",
   "execution_count": 22,
   "id": "050e3c39-266e-43b2-8a12-5dfb8dd90929",
   "metadata": {},
   "outputs": [
    {
     "data": {
      "text/plain": [
       "'World'"
      ]
     },
     "execution_count": 22,
     "metadata": {},
     "output_type": "execute_result"
    }
   ],
   "source": [
    "#10. Given the string s = &quot;Hello, World!&quot;, how would you use slicing to extract &quot;World&quot;?\n",
    "s = \"Hello, World!\"\n",
    "s[7:12]"
   ]
  },
  {
   "cell_type": "code",
   "execution_count": 25,
   "id": "0498b666-ab46-4b32-9dfe-575a5ed10871",
   "metadata": {},
   "outputs": [
    {
     "name": "stdout",
     "output_type": "stream",
     "text": [
      "marks is 42\n"
     ]
    }
   ],
   "source": [
    "#11. Using an f-string, how would you print &quot;The value is 42&quot; where 42 is stored in a variable named value?\n",
    "v=42\n",
    "print(f\"marks is {42}\")\n"
   ]
  },
  {
   "cell_type": "code",
   "execution_count": 28,
   "id": "ee961437-1508-497b-923a-a192c0febe5d",
   "metadata": {},
   "outputs": [
    {
     "name": "stdout",
     "output_type": "stream",
     "text": [
      "banana\n"
     ]
    }
   ],
   "source": [
    "#12. Given the tuple fruits = (&#39;apple&#39;, &#39;banana&#39;, &#39;cherry&#39;), how would you check if &#39;banana&#39; is present in the tuple and print a message?\n",
    "fruits = ('apple','banana','cherry')\n",
    "if('banana in fruits'):\n",
    "    print(\"banana\")\n",
    "else:\n",
    "    print('not in list')"
   ]
  },
  {
   "cell_type": "code",
   "execution_count": 36,
   "id": "99cfa270-e473-4079-b516-e548d595e103",
   "metadata": {},
   "outputs": [
    {
     "data": {
      "text/plain": [
       "[30, 40, 50]"
      ]
     },
     "execution_count": 36,
     "metadata": {},
     "output_type": "execute_result"
    }
   ],
   "source": [
    "#13. With the list data = [10, 20, 30, 40, 50], how would you use slicing to get a new list containing the last three elements?\n",
    "data=[10,20,30,40,50]\n",
    "data[2:]"
   ]
  },
  {
   "cell_type": "code",
   "execution_count": null,
   "id": "4f8c3abb-0b54-4559-b670-41293d34299b",
   "metadata": {},
   "outputs": [],
   "source": [
    "#14. In what scenario would a tuple be preferred over a list in Python? Provide an example.\n",
    "#A tuple is preferred over a list in scenarios where immutability is desired. Tuples are immutable, meaning once created, their elements cannot be changed, added, or removed. This immutability makes tuples useful for storing fixed collections of items that should not be modified,\n",
    "#such as marksheet, datas are not change this is immutable"
   ]
  },
  {
   "cell_type": "code",
   "execution_count": 40,
   "id": "062f0252-aaa9-4fc7-afd2-6f4e64d59016",
   "metadata": {},
   "outputs": [
    {
     "data": {
      "text/plain": [
       "[1, 2]"
      ]
     },
     "execution_count": 40,
     "metadata": {},
     "output_type": "execute_result"
    }
   ],
   "source": [
    "#15. Given two lists, list1 = [1, 2, 3] and list2 = [3, 4, 5], how would you create a list containing elements that are in list1 but not in list2?\n",
    "list1=[1,2,3]\n",
    "list2=[3,4,5]\n",
    "list1[0:2]"
   ]
  },
  {
   "cell_type": "code",
   "execution_count": 59,
   "id": "2397448a-e7e2-44c9-b2e8-5177bdb4f0ea",
   "metadata": {},
   "outputs": [
    {
     "name": "stdin",
     "output_type": "stream",
     "text": [
      "enter any string wih .txt bhsfjdh.txt\n"
     ]
    },
    {
     "name": "stdout",
     "output_type": "stream",
     "text": [
      "suffix\n"
     ]
    }
   ],
   "source": [
    "#16. Write an if-else statement to determine if a string text ends with the suffix &quot;.txt&quot;, and print a message based on the result.\n",
    "string =input('enter any string wih .txt')\n",
    "if(string[-4:]=='.txt'):\n",
    "    print(\"suffix\")\n",
    "else:\n",
    "    print(\"not \")"
   ]
  },
  {
   "cell_type": "code",
   "execution_count": 61,
   "id": "230d2350-d9d3-4e13-9c7e-256ee724eee4",
   "metadata": {},
   "outputs": [
    {
     "data": {
      "text/plain": [
       "[5, 10, 15]"
      ]
     },
     "execution_count": 61,
     "metadata": {},
     "output_type": "execute_result"
    }
   ],
   "source": [
    "#17. Given the list values = [5, 10, 15, 20, 25], use slicing to create a new list containing the first three elements.\n",
    "lis=[5,10,15,20,25]\n",
    "lis[:3]"
   ]
  },
  {
   "cell_type": "code",
   "execution_count": 71,
   "id": "3a04960f-0619-4e49-a1f6-87f5b44281e0",
   "metadata": {},
   "outputs": [
    {
     "name": "stdout",
     "output_type": "stream",
     "text": [
      " value is 3.14\n"
     ]
    }
   ],
   "source": [
    "#18. Using an f-string, how would you format the floating-point number pi = 3.14159 to display two decimal places?\n",
    "pi = 3.14159\n",
    "print(f\" value is {pi:.2f}\")"
   ]
  },
  {
   "cell_type": "code",
   "execution_count": 74,
   "id": "1e6cdf7c-d075-4ce1-9ffa-ee808fe75753",
   "metadata": {},
   "outputs": [
    {
     "data": {
      "text/plain": [
       "['Alice', 'charlie']"
      ]
     },
     "execution_count": 74,
     "metadata": {},
     "output_type": "execute_result"
    }
   ],
   "source": [
    "#19. Given the list names = [&#39;Alice&#39;, &#39;Bob&#39;, &#39;Charlie&#39;], how would you print the first and last elements of the list?\n",
    "lists = ['Alice','Bob','charlie']\n",
    "lists[0:3:2]"
   ]
  },
  {
   "cell_type": "code",
   "execution_count": 77,
   "id": "9f7a1ba0-55db-4a34-97f7-66eeedc8107a",
   "metadata": {},
   "outputs": [
    {
     "data": {
      "text/plain": [
       "'aceg'"
      ]
     },
     "execution_count": 77,
     "metadata": {},
     "output_type": "execute_result"
    }
   ],
   "source": [
    "#20. Given the string text = &quot;abcdefgh&quot;, how would you create a new string with every second character?\n",
    "text = \"abcdefgh\"\n",
    "text[::2]"
   ]
  },
  {
   "cell_type": "code",
   "execution_count": null,
   "id": "f3fc49fd-d923-43bc-92d7-0151d8f4cec1",
   "metadata": {},
   "outputs": [],
   "source": [
    "\n"
   ]
  }
 ],
 "metadata": {
  "kernelspec": {
   "display_name": "Python 3 (ipykernel)",
   "language": "python",
   "name": "python3"
  },
  "language_info": {
   "codemirror_mode": {
    "name": "ipython",
    "version": 3
   },
   "file_extension": ".py",
   "mimetype": "text/x-python",
   "name": "python",
   "nbconvert_exporter": "python",
   "pygments_lexer": "ipython3",
   "version": "3.12.4"
  }
 },
 "nbformat": 4,
 "nbformat_minor": 5
}
